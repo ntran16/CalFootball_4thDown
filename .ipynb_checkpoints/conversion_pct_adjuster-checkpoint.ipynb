{
 "cells": [
  {
   "cell_type": "code",
   "execution_count": 30,
   "metadata": {
    "collapsed": true
   },
   "outputs": [],
   "source": [
    "#USER INPUT HERE\n",
    "modweight = 0.4 #change this value\n",
    "\n",
    "#change the name of the filename being used as the mod_epv for the current matchup\n",
    "from mod_epv import mod_epv as m_epv"
   ]
  },
  {
   "cell_type": "code",
   "execution_count": 31,
   "metadata": {
    "collapsed": true
   },
   "outputs": [],
   "source": [
    "#import statements\n",
    "import numpy as np\n",
    "import pandas as pd\n",
    "#these two imports will always be the same:\n",
    "from avg_epv import avg_epv as a_epv\n",
    "from r_conv_pct import conv_pct as r_conv"
   ]
  },
  {
   "cell_type": "code",
   "execution_count": 32,
   "metadata": {
    "collapsed": true
   },
   "outputs": [],
   "source": [
    "r_conv = np.matrix(r_conv)"
   ]
  },
  {
   "cell_type": "code",
   "execution_count": 33,
   "metadata": {
    "collapsed": true
   },
   "outputs": [],
   "source": [
    "#fn for ceiling division\n",
    "def ceildiv(a, b):\n",
    "    return -(-a // b)\n",
    "\n",
    "#fn for grouping rows into bins of size binsize and taking the average of each bin\n",
    "def binaverage(matrix, binsize):\n",
    "    lst = np.array(matrix)\n",
    "    output = np.zeros((len(lst), (ceildiv(len(lst[0]),binsize))))\n",
    "    for i in range(0, len(lst)):\n",
    "        temp = []\n",
    "        for j in range(0, len(lst[0]), binsize):\n",
    "            temp2 = lst[i][j:j + binsize]\n",
    "            temp2 = [x for x in temp2 if x is not None]\n",
    "            temp.append(sum(temp2) / len(temp2))\n",
    "        output[i] = np.array(temp)\n",
    "    return output"
   ]
  },
  {
   "cell_type": "code",
   "execution_count": 34,
   "metadata": {},
   "outputs": [
    {
     "name": "stdout",
     "output_type": "stream",
     "text": [
      "conversionbydist = [[ 0.724]\n",
      " [ 0.614]\n",
      " [ 0.532]\n",
      " [ 0.473]\n",
      " [ 0.432]\n",
      " [ 0.405]\n",
      " [ 0.386]\n",
      " [ 0.371]\n",
      " [ 0.355]]\n"
     ]
    }
   ],
   "source": [
    "#output the average conversion percentage independent of yardline100 bin\n",
    "print('conversionbydist =', binaverage(r_conv, 10))\n",
    "#not necessary but cool to look at if we want to use this for something"
   ]
  },
  {
   "cell_type": "code",
   "execution_count": 35,
   "metadata": {
    "collapsed": true,
    "scrolled": false
   },
   "outputs": [],
   "source": [
    "#place EPVs into 10 yard bins to match conversion percentages\n",
    "a_epv10 = binaverage(a_epv, 10)\n",
    "m_epv10 = binaverage(m_epv, 10)"
   ]
  },
  {
   "cell_type": "code",
   "execution_count": 36,
   "metadata": {
    "scrolled": true
   },
   "outputs": [
    {
     "name": "stdout",
     "output_type": "stream",
     "text": [
      "[[ 3.059  2.534  1.869  1.322  0.775  0.228 -0.32  -0.867 -1.414 -1.715]\n",
      " [ 2.178  2.081  1.469  0.922  0.375 -0.172 -0.72  -1.267 -1.814 -2.142]\n",
      " [ 1.903  1.733  1.201  0.654  0.107 -0.441 -0.988 -1.535 -2.082 -2.438]\n",
      " [ 1.679  1.55   1.055  0.508 -0.039 -0.586 -1.134 -1.681 -2.228 -2.611]\n",
      " [ 1.492  1.381  0.921  0.373 -0.174 -0.721 -1.268 -1.815 -2.362 -2.773]\n",
      " [ 1.385  1.23   0.788  0.241 -0.306 -0.853 -1.401 -1.948 -2.495 -2.933]\n",
      " [ 1.338  1.105  0.681  0.134 -0.414 -0.961 -1.508 -2.055 -2.602 -3.067]\n",
      " [ 1.259  1.04   0.598  0.05  -0.497 -1.044 -1.591 -2.138 -2.685 -3.178]\n",
      " [ 1.252  0.982  0.515 -0.033 -0.58  -1.127 -1.674 -2.221 -2.768 -3.288]] \n",
      "\n",
      "[[ 3.705  2.557  1.63   0.711 -0.209 -1.128 -2.047 -2.966 -3.885 -4.391]\n",
      " [ 3.783  2.7    1.785  0.866 -0.054 -0.973 -1.892 -2.811 -3.73  -4.282]\n",
      " [ 3.812  2.794  1.868  0.949  0.029 -0.89  -1.809 -2.728 -3.647 -4.245]\n",
      " [ 3.825  2.863  1.933  1.014  0.095 -0.825 -1.744 -2.663 -3.582 -4.226]\n",
      " [ 3.831  2.918  1.989  1.07   0.151 -0.768 -1.688 -2.607 -3.526 -4.215]\n",
      " [ 3.837  2.961  2.037  1.117  0.198 -0.721 -1.64  -2.559 -3.479 -4.214]\n",
      " [ 3.86   2.998  2.077  1.158  0.239 -0.68  -1.599 -2.519 -3.438 -4.219]\n",
      " [ 3.902  3.03   2.112  1.193  0.274 -0.646 -1.565 -2.484 -3.403 -4.231]\n",
      " [ 3.999  3.06   2.141  1.222  0.302 -0.617 -1.536 -2.455 -3.374 -4.248]]\n"
     ]
    }
   ],
   "source": [
    "#print 10 yard bin averages\n",
    "np.set_printoptions(precision=3, suppress = True)\n",
    "print(a_epv10, '\\n')\n",
    "print(m_epv10)"
   ]
  },
  {
   "cell_type": "code",
   "execution_count": 37,
   "metadata": {
    "collapsed": true
   },
   "outputs": [],
   "source": [
    "#create matrix compare fn with multiple use cases\n",
    "def matrixcompare(m1, m2, operation):\n",
    "    assert np.matrix(m1).shape == np.matrix(m2).shape, 'matrix size mismatch, cannot compare matrices of different sizes'\n",
    "    lst1 = np.array(m1)\n",
    "    lst2 = np.array(m2)\n",
    "    output = np.zeros((len(lst1), len(lst1[0])))\n",
    "    for i in range(0, len(lst1)):\n",
    "        for j in range(0, len(lst1[0])):\n",
    "            if operation == 'normeddiff':\n",
    "                #calculate the difference between the mod and the average (how much bigger is the mod epv compared to average?)\n",
    "                output[i][j] = lst2[i][j] - lst1[i][j]\n",
    "            elif operation == 'combine':\n",
    "                output[i][j] = (lst1[i][j] * lst2[i][j]) + lst2[i][j]\n",
    "            else:\n",
    "                break\n",
    "        if operation == 'normeddiff':\n",
    "            #normalize differences by row (normalized to be a percentage between - modweight and modweight)\n",
    "            romi = -14 #these two values can be adjusted, but essentially they represent the max differences possible in 2 epvs. \n",
    "            romx = 14 #the most 2 epvs can be different is 14 or negative 14, which are the floor and ceiling of m_epv-a_epv\n",
    "            output[i] = ((2 * (1 + modweight))*((np.array(output[i]) - romi) / (romx - romi)) - (1 + modweight))      \n",
    "    return output"
   ]
  },
  {
   "cell_type": "code",
   "execution_count": 38,
   "metadata": {},
   "outputs": [],
   "source": [
    "#compare mod epv with avg epv to create a percent of average epv that represents how much different the modded epv is from the norm\n",
    "epv_diff = matrixcompare(a_epv10, m_epv10, 'normeddiff') #average EPV *FIRST*. \n",
    "\n",
    "#multiply this with our average conversion percentages to modify conversion percentage\n",
    "m_conv = matrixcompare(epv_diff, r_conv, 'combine')"
   ]
  },
  {
   "cell_type": "code",
   "execution_count": 39,
   "metadata": {
    "scrolled": true
   },
   "outputs": [],
   "source": [
    "r_conv = np.array(r_conv)\n",
    "r_conv100 = pd.Series(np.repeat([j for i in r_conv for j in i ], 10))\n",
    "r_conv = np.array(m_conv)\n",
    "m_conv100 = pd.Series(np.repeat([j for i in m_conv for j in i ], 10))"
   ]
  },
  {
   "cell_type": "code",
   "execution_count": 40,
   "metadata": {
    "collapsed": true
   },
   "outputs": [],
   "source": [
    "#insert output statement here\n",
    "np.savetxt(\"avg_conv_pct.csv\", r_conv100, fmt = '%10.5f')\n",
    "np.savetxt(\"mod_conv_pct.csv\", m_conv100, fmt = '%10.5f')"
   ]
  },
  {
   "cell_type": "code",
   "execution_count": 41,
   "metadata": {},
   "outputs": [
    {
     "name": "stdout",
     "output_type": "stream",
     "text": [
      "\n",
      " raw:\n",
      "\n",
      "[[ 0.749  0.698  0.694  0.67   0.654  0.631  0.612  0.58   0.566  0.542]\n",
      " [ 0.603  0.646  0.623  0.609  0.592  0.596  0.577  0.55   0.519  0.461]\n",
      " [ 0.494  0.594  0.566  0.552  0.537  0.554  0.531  0.508  0.471  0.385]\n",
      " [ 0.448  0.542  0.525  0.503  0.492  0.512  0.485  0.464  0.429  0.324]\n",
      " [ 0.444  0.502  0.501  0.468  0.462  0.477  0.446  0.427  0.397  0.287]\n",
      " [ 0.457  0.471  0.487  0.444  0.441  0.449  0.418  0.399  0.373  0.272]\n",
      " [ 0.464  0.447  0.474  0.428  0.424  0.425  0.4    0.382  0.351  0.278]\n",
      " [ 0.442  0.429  0.453  0.415  0.404  0.404  0.393  0.376  0.327  0.304]\n",
      " [ 0.36   0.416  0.417  0.403  0.376  0.386  0.4    0.384  0.297  0.349]]\n",
      "\n",
      " adjusted:\n",
      "\n",
      "[[ 0.749  0.698  0.694  0.67   0.654  0.631  0.612  0.58   0.566  0.542]\n",
      " [ 0.603  0.646  0.623  0.609  0.592  0.596  0.577  0.55   0.519  0.461]\n",
      " [ 0.494  0.594  0.566  0.552  0.537  0.554  0.531  0.508  0.471  0.385]\n",
      " [ 0.448  0.542  0.525  0.503  0.492  0.512  0.485  0.464  0.429  0.324]\n",
      " [ 0.444  0.502  0.501  0.468  0.462  0.477  0.446  0.427  0.397  0.287]\n",
      " [ 0.457  0.471  0.487  0.444  0.441  0.449  0.418  0.399  0.373  0.272]\n",
      " [ 0.464  0.447  0.474  0.428  0.424  0.425  0.4    0.382  0.351  0.278]\n",
      " [ 0.442  0.429  0.453  0.415  0.404  0.404  0.393  0.376  0.327  0.304]\n",
      " [ 0.36   0.416  0.417  0.403  0.376  0.386  0.4    0.384  0.297  0.349]]\n"
     ]
    }
   ],
   "source": [
    "#print values for testing purposes:\n",
    "\n",
    "print('\\n raw:\\n')\n",
    "print(r_conv)\n",
    "print('\\n adjusted:\\n')\n",
    "print(m_conv)"
   ]
  }
 ],
 "metadata": {
  "kernelspec": {
   "display_name": "Python 3",
   "language": "python",
   "name": "python3"
  },
  "language_info": {
   "codemirror_mode": {
    "name": "ipython",
    "version": 3
   },
   "file_extension": ".py",
   "mimetype": "text/x-python",
   "name": "python",
   "nbconvert_exporter": "python",
   "pygments_lexer": "ipython3",
   "version": "3.6.1"
  }
 },
 "nbformat": 4,
 "nbformat_minor": 2
}
