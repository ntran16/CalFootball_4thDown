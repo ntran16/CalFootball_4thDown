{
 "cells": [
  {
   "cell_type": "code",
   "execution_count": 92,
   "metadata": {
    "collapsed": true
   },
   "outputs": [],
   "source": [
    "#USER INPUT HERE\n",
    "modweight = 0.4 #change this value\n",
    "\n",
    "#change the name of the filename\n",
    "from mod_epv import mod_epv as m_epv"
   ]
  },
  {
   "cell_type": "code",
   "execution_count": 93,
   "metadata": {
    "collapsed": true
   },
   "outputs": [],
   "source": [
    "#import statements\n",
    "import numpy as np\n",
    "import pandas as pd\n",
    "#these two imports will always be the same:\n",
    "from avg_epv import avg_epv as a_epv\n",
    "from r_conv_pct import conv_pct as r_conv"
   ]
  },
  {
   "cell_type": "code",
   "execution_count": 94,
   "metadata": {
    "collapsed": true
   },
   "outputs": [],
   "source": [
    "r_conv = np.matrix(r_conv)"
   ]
  },
  {
   "cell_type": "code",
   "execution_count": 95,
   "metadata": {},
   "outputs": [],
   "source": [
    "#fn for ceiling division\n",
    "def ceildiv(a, b):\n",
    "    return -(-a // b)\n",
    "\n",
    "#fn for grouping rows into bins of size binsize and taking the average of each bin\n",
    "def binaverage(matrix, binsize):\n",
    "    lst = np.array(matrix)\n",
    "    output = np.zeros((len(lst), (ceildiv(len(lst[0]),binsize))))\n",
    "    for i in range(0, len(lst)):\n",
    "        temp = []\n",
    "        for j in range(0, len(lst[0]), binsize):\n",
    "            temp2 = lst[i][j:j + binsize]\n",
    "            temp2 = [x for x in temp2 if x is not None]\n",
    "            temp.append(sum(temp2) / len(temp2))\n",
    "        output[i] = np.array(temp)\n",
    "    return output"
   ]
  },
  {
   "cell_type": "code",
   "execution_count": 96,
   "metadata": {},
   "outputs": [
    {
     "name": "stdout",
     "output_type": "stream",
     "text": [
      "conversionbydist = [[ 0.724]\n",
      " [ 0.614]\n",
      " [ 0.532]\n",
      " [ 0.473]\n",
      " [ 0.432]\n",
      " [ 0.405]\n",
      " [ 0.386]\n",
      " [ 0.371]\n",
      " [ 0.355]]\n"
     ]
    }
   ],
   "source": [
    "#output the average conversion percentage independent of yardline100 bin\n",
    "print('conversionbydist =', binaverage(r_conv, 10))\n",
    "#not necessary but cool to look at if we want to use this for something"
   ]
  },
  {
   "cell_type": "code",
   "execution_count": 97,
   "metadata": {
    "scrolled": false
   },
   "outputs": [],
   "source": [
    "#place EPVs into 10 yard bins to match conversion percentages\n",
    "a_epv10 = binaverage(a_epv, 10)\n",
    "m_epv10 = binaverage(m_epv, 10)"
   ]
  },
  {
   "cell_type": "code",
   "execution_count": 98,
   "metadata": {
    "scrolled": true
   },
   "outputs": [
    {
     "name": "stdout",
     "output_type": "stream",
     "text": [
      "[[ 3.059  2.534  1.869  1.322  0.775  0.228 -0.32  -0.867 -1.414 -1.715]\n",
      " [ 2.194  2.019  1.414  0.867  0.32  -0.227 -0.774 -1.321 -1.869 -2.169]\n",
      " [ 1.912  1.627  1.091  0.544 -0.003 -0.55  -1.097 -1.644 -2.191 -2.492]\n",
      " [ 1.696  1.403  0.891  0.344 -0.203 -0.751 -1.298 -1.845 -2.392 -2.693]\n",
      " [ 1.509  1.201  0.702  0.155 -0.393 -0.94  -1.487 -2.034 -2.581 -2.882]\n",
      " [ 1.37   1.015  0.514 -0.033 -0.58  -1.127 -1.674 -2.221 -2.768 -3.069]\n",
      " [ 1.256  0.859  0.353 -0.195 -0.742 -1.289 -1.836 -2.383 -2.93  -3.231]\n",
      " [ 1.155  0.739  0.215 -0.333 -0.88  -1.427 -1.974 -2.521 -3.068 -3.369]\n",
      " [ 1.073  0.615  0.077 -0.47  -1.017 -1.565 -2.112 -2.659 -3.206 -3.507]] \n",
      "\n",
      "[[ 3.705  2.557  1.63   0.711 -0.209 -1.128 -2.047 -2.966 -3.885 -4.391]\n",
      " [ 3.717  2.609  1.693  0.774 -0.146 -1.065 -1.984 -2.903 -3.822 -4.328]\n",
      " [ 3.682  2.609  1.684  0.765 -0.154 -1.074 -1.993 -2.912 -3.831 -4.337]\n",
      " [ 3.634  2.584  1.657  0.738 -0.181 -1.1   -2.02  -2.939 -3.858 -4.364]\n",
      " [ 3.577  2.546  1.622  0.702 -0.217 -1.136 -2.055 -2.974 -3.894 -4.399]\n",
      " [ 3.514  2.498  1.577  0.658 -0.261 -1.181 -2.1   -3.019 -3.938 -4.444]\n",
      " [ 3.453  2.446  1.526  0.607 -0.312 -1.232 -2.151 -3.07  -3.989 -4.495]\n",
      " [ 3.388  2.387  1.469  0.549 -0.37  -1.289 -2.208 -3.127 -4.047 -4.552]\n",
      " [ 3.322  2.325  1.406  0.486 -0.433 -1.352 -2.271 -3.191 -4.11  -4.615]]\n"
     ]
    }
   ],
   "source": [
    "#print 10 yard bin averages\n",
    "np.set_printoptions(precision=3, suppress = True)\n",
    "print(a_epv10, '\\n')\n",
    "print(m_epv10)"
   ]
  },
  {
   "cell_type": "code",
   "execution_count": 99,
   "metadata": {
    "collapsed": true
   },
   "outputs": [],
   "source": [
    "#create matrix compare fn with multiple use cases\n",
    "def matrixcompare(m1, m2, operation):\n",
    "    assert np.matrix(m1).shape == np.matrix(m2).shape, 'matrix size mismatch, cannot compare matrices of different sizes'\n",
    "    lst1 = np.array(m1)\n",
    "    lst2 = np.array(m2)\n",
    "    output = np.zeros((len(lst1), len(lst1[0])))\n",
    "    for i in range(0, len(lst1)):\n",
    "        for j in range(0, len(lst1[0])):\n",
    "            if operation == 'normeddiff':\n",
    "                #calculate the difference between the mod and the average (how much bigger is the mod epv compared to average?)\n",
    "                output[i][j] = lst2[i][j] - lst1[i][j]\n",
    "            elif operation == 'combine':\n",
    "                output[i][j] = (lst1[i][j] * lst2[i][j]) + lst2[i][j]\n",
    "            else:\n",
    "                break\n",
    "        if operation == 'normeddiff':\n",
    "            #normalize differences by row (normalized to be a percentage between - modweight and modweight)\n",
    "            romi = -14 #these two values can be adjusted, but essentially they represent the max differences possible in 2 epvs. \n",
    "            romx = 14 #the most 2 epvs can be different is 14 or negative 14, which are the floor and ceiling of m_epv-a_epv\n",
    "            output[i] = ((2 * (1 + modweight))*((np.array(output[i]) - romi) / (romx - romi)) - (1 + modweight))      \n",
    "    return output"
   ]
  },
  {
   "cell_type": "code",
   "execution_count": 100,
   "metadata": {
    "collapsed": true
   },
   "outputs": [],
   "source": [
    "#compare mod epv with avg epv to create a percent of average epv that represents how much different the modded epv is from the norm\n",
    "epv_diff = matrixcompare(a_epv10, m_epv10, 'normeddiff') #average EPV *FIRST*. \n",
    "\n",
    "#multiply this with our average conversion percentages to modify conversion percentage\n",
    "m_conv = matrixcompare(epv_diff, r_conv, 'combine')"
   ]
  },
  {
   "cell_type": "code",
   "execution_count": 101,
   "metadata": {
    "collapsed": true
   },
   "outputs": [],
   "source": [
    "#insert output statement here\n",
    "np.savetxt(\"avg_conv_pct.csv\", r_conv, delimiter = ',', fmt = '%10.5f')\n",
    "np.savetxt(\"mod_conv_pct.csv\", m_conv, delimiter = \",\", fmt = '%10.5f')"
   ]
  },
  {
   "cell_type": "code",
   "execution_count": 102,
   "metadata": {},
   "outputs": [
    {
     "name": "stdout",
     "output_type": "stream",
     "text": [
      "\n",
      " raw:\n",
      "\n",
      "[[ 0.704  0.696  0.711  0.713  0.725  0.73   0.739  0.735  0.752  0.739]\n",
      " [ 0.52   0.608  0.604  0.613  0.619  0.648  0.653  0.65   0.642  0.586]\n",
      " [ 0.415  0.537  0.531  0.536  0.541  0.58   0.579  0.577  0.558  0.469]\n",
      " [ 0.368  0.479  0.483  0.479  0.486  0.524  0.516  0.514  0.496  0.387]\n",
      " [ 0.359  0.435  0.453  0.437  0.447  0.479  0.466  0.464  0.45   0.335]\n",
      " [ 0.367  0.401  0.433  0.408  0.42   0.443  0.428  0.426  0.414  0.312]\n",
      " [ 0.371  0.376  0.416  0.388  0.398  0.413  0.403  0.401  0.384  0.314]\n",
      " [ 0.349  0.358  0.394  0.372  0.375  0.389  0.392  0.39   0.353  0.34 ]\n",
      " [ 0.282  0.344  0.358  0.358  0.346  0.367  0.394  0.394  0.316  0.386]]\n",
      "\n",
      " adjusted:\n",
      "\n",
      "[[ 0.749  0.698  0.694  0.67   0.654  0.631  0.612  0.58   0.566  0.542]\n",
      " [ 0.599  0.644  0.621  0.607  0.59   0.594  0.574  0.547  0.516  0.46 ]\n",
      " [ 0.488  0.589  0.562  0.548  0.533  0.549  0.527  0.504  0.467  0.383]\n",
      " [ 0.44   0.536  0.52   0.497  0.487  0.506  0.479  0.458  0.423  0.322]\n",
      " [ 0.434  0.494  0.495  0.461  0.455  0.47   0.439  0.42   0.391  0.284]\n",
      " [ 0.446  0.461  0.479  0.437  0.433  0.44   0.41   0.392  0.366  0.269]\n",
      " [ 0.452  0.436  0.465  0.419  0.415  0.416  0.391  0.373  0.343  0.274]\n",
      " [ 0.427  0.417  0.443  0.405  0.394  0.394  0.383  0.366  0.318  0.3  ]\n",
      " [ 0.346  0.403  0.406  0.392  0.366  0.375  0.388  0.373  0.287  0.343]]\n"
     ]
    }
   ],
   "source": [
    "#print values for testing purposes:\n",
    "\n",
    "print('\\n raw:\\n')\n",
    "print(r_conv)\n",
    "print('\\n adjusted:\\n')\n",
    "print(m_conv)"
   ]
  }
 ],
 "metadata": {
  "kernelspec": {
   "display_name": "Python 3",
   "language": "python",
   "name": "python3"
  },
  "language_info": {
   "codemirror_mode": {
    "name": "ipython",
    "version": 3
   },
   "file_extension": ".py",
   "mimetype": "text/x-python",
   "name": "python",
   "nbconvert_exporter": "python",
   "pygments_lexer": "ipython3",
   "version": "3.6.1"
  }
 },
 "nbformat": 4,
 "nbformat_minor": 2
}
