{
 "cells": [
  {
   "cell_type": "code",
   "execution_count": 1,
   "metadata": {},
   "outputs": [
    {
     "name": "stdout",
     "output_type": "stream",
     "text": [
      "importing Jupyter notebook from n_most_similar_games.ipynb\n"
     ]
    },
    {
     "name": "stderr",
     "output_type": "stream",
     "text": [
      "/Users/jeremylevitt/anaconda3/lib/python3.6/site-packages/bs4/__init__.py:181: UserWarning: No parser was explicitly specified, so I'm using the best available HTML parser for this system (\"lxml\"). This usually isn't a problem, but if you run this code on another system, or in a different virtual environment, it may use a different parser and behave differently.\n",
      "\n",
      "The code that caused this warning is on line 193 of the file /Users/jeremylevitt/anaconda3/lib/python3.6/runpy.py. To get rid of this warning, change code that looks like this:\n",
      "\n",
      " BeautifulSoup(YOUR_MARKUP})\n",
      "\n",
      "to this:\n",
      "\n",
      " BeautifulSoup(YOUR_MARKUP, \"lxml\")\n",
      "\n",
      "  markup_type=markup_type))\n"
     ]
    },
    {
     "name": "stdout",
     "output_type": "stream",
     "text": [
      "<class 'pandas.core.frame.DataFrame'>\n",
      "Int64Index: 1996 entries, 2312 to 1970\n",
      "Data columns (total 31 columns):\n",
      "awayAbbr             1996 non-null object\n",
      "awayId               1996 non-null object\n",
      "awayScore            1996 non-null object\n",
      "awayTeam             1996 non-null object\n",
      "clock                1996 non-null object\n",
      "defenseAbbr          1996 non-null object\n",
      "defenseId            1996 non-null object\n",
      "defenseTeam          1996 non-null object\n",
      "description          1996 non-null object\n",
      "distance             1996 non-null object\n",
      "down                 1996 non-null object\n",
      "driveIndex           1996 non-null object\n",
      "endYardLine          1996 non-null object\n",
      "gameId               1996 non-null object\n",
      "homeAbbr             1996 non-null object\n",
      "homeId               1996 non-null object\n",
      "homeScore            1996 non-null object\n",
      "homeTeam             1996 non-null object\n",
      "isScoringPlay        398 non-null object\n",
      "offenseAbbr          1996 non-null object\n",
      "offenseId            1996 non-null object\n",
      "offenseTeam          1996 non-null object\n",
      "playIndex            1996 non-null object\n",
      "quarter              1996 non-null object\n",
      "type                 1996 non-null object\n",
      "wallclock            343 non-null object\n",
      "week                 1996 non-null object\n",
      "yardLine             1996 non-null object\n",
      "yardsGained          1996 non-null object\n",
      "year                 1996 non-null object\n",
      "home_off_away_def    1996 non-null bool\n",
      "dtypes: bool(1), object(30)\n",
      "memory usage: 485.4+ KB\n"
     ]
    }
   ],
   "source": [
    "import pandas as pd\n",
    "import matplotlib.pyplot as plt\n",
    "import statsmodels.formula.api as smf\n",
    "import numpy as np\n",
    "import glob\n",
    "import import_ipynb as ipynb\n",
    "import n_most_similar_games as matchup\n",
    "from bs4 import BeautifulSoup\n",
    "from collections import Counter\n",
    "\n",
    "CAL_OFF = 90\n",
    "OPP_DEF = 70\n"
   ]
  },
  {
   "cell_type": "code",
   "execution_count": 2,
   "metadata": {},
   "outputs": [],
   "source": [
    "temp = []\n",
    "data = []\n",
    "subpxp = []\n",
    "for year in range(2008,2018):    \n",
    "    path ='NCAA-Football-Data/' + str(year) + 'PXP' # use your path\n",
    "    allFiles = glob.glob(path + \"/*.csv\")\n",
    "    frame = pd.DataFrame()\n",
    "    list_ = []\n",
    "    cols = ['gameId', 'driveIndex', 'year', 'week', 'clock', 'quarter', 'down', 'yardLine', 'distance', 'yardsGained',\n",
    "            'offenseTeam', 'defenseTeam', 'description', 'type',\n",
    "            'homeScore', 'awayScore', 'homeTeam', 'awayTeam']\n",
    "    for file_ in allFiles:\n",
    "        df = pd.read_csv(file_,index_col=None, header=0, usecols=cols)\n",
    "        list_.append(df)\n",
    "        subpxp = pd.concat(list_, ignore_index=True)\n",
    "    temp.append(subpxp)\n",
    "    data= pd.concat(temp, ignore_index=True)"
   ]
  },
  {
   "cell_type": "code",
   "execution_count": 3,
   "metadata": {},
   "outputs": [],
   "source": [
    "import cal_football as cf\n"
   ]
  },
  {
   "cell_type": "code",
   "execution_count": 26,
   "metadata": {},
   "outputs": [
    {
     "name": "stdout",
     "output_type": "stream",
     "text": [
      "<class 'pandas.core.frame.DataFrame'>\n",
      "RangeIndex: 1504102 entries, 0 to 1504101\n",
      "Data columns (total 18 columns):\n",
      "gameId         1504102 non-null int64\n",
      "year           1504102 non-null int64\n",
      "week           1504102 non-null object\n",
      "homeTeam       1504102 non-null object\n",
      "awayTeam       1504102 non-null object\n",
      "driveIndex     1504102 non-null int64\n",
      "offenseTeam    1504102 non-null object\n",
      "defenseTeam    1504102 non-null object\n",
      "homeScore      1504102 non-null int64\n",
      "awayScore      1504102 non-null int64\n",
      "quarter        1504102 non-null int64\n",
      "clock          1504102 non-null object\n",
      "type           1504073 non-null object\n",
      "down           1504102 non-null int64\n",
      "distance       1504102 non-null int64\n",
      "yardLine       1504102 non-null int64\n",
      "yardsGained    1504102 non-null int64\n",
      "description    1503616 non-null object\n",
      "dtypes: int64(10), object(8)\n",
      "memory usage: 206.6+ MB\n"
     ]
    }
   ],
   "source": [
    "data.columns\n",
    "matchup_pxp = matchup_pxp[data.columns]\n",
    "matchup_pxp = matchup_pxp.reset_index()\n",
    "data.info()"
   ]
  },
  {
   "cell_type": "code",
   "execution_count": null,
   "metadata": {},
   "outputs": [],
   "source": [
    "pxp = cf.extract_data(data)\n",
    "badyard = ~((pxp['yrdline100']>=100)|(pxp['yrdline100']<=0))\n",
    "# possession_values = cf.get_possession_value(ko_and_pos)"
   ]
  },
  {
   "cell_type": "code",
   "execution_count": 10,
   "metadata": {},
   "outputs": [],
   "source": [
    "%%capture\n",
    "game_data, rating_data, pxp_data = matchup.get_ratings()\n",
    "games_compared, matchup_pxp = matchup.most_similar(off_rating = CAL_OFF, def_rating = OPP_DEF, n = 10, game_data = game_data, rating_data = rating_data, pxp_data=pxp_data)\n",
    "\n",
    "\n",
    "\n",
    "#matchup_pxp = cf.extract_data(matchup_pxp)\n",
    "#matchup_pxp"
   ]
  },
  {
   "cell_type": "code",
   "execution_count": 27,
   "metadata": {},
   "outputs": [
    {
     "name": "stdout",
     "output_type": "stream",
     "text": [
      "<class 'pandas.core.frame.DataFrame'>\n",
      "Int64Index: 2082 entries, 0 to 7797\n",
      "Data columns (total 18 columns):\n",
      "gameId         2082 non-null object\n",
      "year           2082 non-null object\n",
      "week           2082 non-null object\n",
      "homeTeam       2082 non-null object\n",
      "awayTeam       2082 non-null object\n",
      "driveIndex     2082 non-null object\n",
      "offenseTeam    2082 non-null object\n",
      "defenseTeam    2082 non-null object\n",
      "homeScore      2082 non-null object\n",
      "awayScore      2082 non-null object\n",
      "quarter        2082 non-null object\n",
      "clock          2082 non-null object\n",
      "type           2082 non-null object\n",
      "down           2082 non-null object\n",
      "distance       2082 non-null object\n",
      "yardLine       2082 non-null object\n",
      "yardsGained    2082 non-null object\n",
      "description    2082 non-null object\n",
      "dtypes: object(18)\n",
      "memory usage: 389.0+ KB\n"
     ]
    }
   ],
   "source": [
    "matchup_pxp.info()\n"
   ]
  },
  {
   "cell_type": "code",
   "execution_count": null,
   "metadata": {},
   "outputs": [],
   "source": [
    "pxp.info()"
   ]
  },
  {
   "cell_type": "code",
   "execution_count": 18,
   "metadata": {},
   "outputs": [
    {
     "ename": "ValueError",
     "evalue": "cannot reindex from a duplicate axis",
     "output_type": "error",
     "traceback": [
      "\u001b[0;31m---------------------------------------------------------------------------\u001b[0m",
      "\u001b[0;31mValueError\u001b[0m                                Traceback (most recent call last)",
      "\u001b[0;32m<ipython-input-18-2e470b5d6302>\u001b[0m in \u001b[0;36m<module>\u001b[0;34m()\u001b[0m\n\u001b[0;32m----> 1\u001b[0;31m \u001b[0mmatchup_pxp\u001b[0m \u001b[0;34m=\u001b[0m \u001b[0mcf\u001b[0m\u001b[0;34m.\u001b[0m\u001b[0mextract_data\u001b[0m\u001b[0;34m(\u001b[0m\u001b[0mmatchup_pxp\u001b[0m\u001b[0;34m)\u001b[0m\u001b[0;34m\u001b[0m\u001b[0m\n\u001b[0m\u001b[1;32m      2\u001b[0m \u001b[0mko_and_poss\u001b[0m \u001b[0;34m=\u001b[0m \u001b[0mcf\u001b[0m\u001b[0;34m.\u001b[0m\u001b[0mextract_kickoffs_and_possessions\u001b[0m\u001b[0;34m(\u001b[0m\u001b[0mmatchup_pxp\u001b[0m\u001b[0;34m)\u001b[0m\u001b[0;34m\u001b[0m\u001b[0m\n\u001b[1;32m      3\u001b[0m \u001b[0mfgs\u001b[0m \u001b[0;34m=\u001b[0m \u001b[0mcf\u001b[0m\u001b[0;34m.\u001b[0m\u001b[0mextract_field_goals\u001b[0m\u001b[0;34m(\u001b[0m\u001b[0mmatchup_pxp\u001b[0m\u001b[0;34m)\u001b[0m\u001b[0;34m\u001b[0m\u001b[0m\n\u001b[1;32m      4\u001b[0m \u001b[0mthird_downs\u001b[0m \u001b[0;34m=\u001b[0m \u001b[0mcf\u001b[0m\u001b[0;34m.\u001b[0m\u001b[0mextract_third_downs\u001b[0m\u001b[0;34m(\u001b[0m\u001b[0mmatchup_pxp\u001b[0m\u001b[0;34m)\u001b[0m\u001b[0;34m\u001b[0m\u001b[0m\n\u001b[1;32m      5\u001b[0m \u001b[0mpunts\u001b[0m \u001b[0;34m=\u001b[0m \u001b[0mcf\u001b[0m\u001b[0;34m.\u001b[0m\u001b[0mextract_punts\u001b[0m\u001b[0;34m(\u001b[0m\u001b[0mmatchup_pxp\u001b[0m\u001b[0;34m)\u001b[0m\u001b[0;34m\u001b[0m\u001b[0m\n",
      "\u001b[0;32m~/Desktop/4th-Down-Bot/CalFootball_4thDown/cal_football/extract_data.py\u001b[0m in \u001b[0;36mextract_data\u001b[0;34m(pxp)\u001b[0m\n\u001b[1;32m     47\u001b[0m \u001b[0;34m\u001b[0m\u001b[0m\n\u001b[1;32m     48\u001b[0m     \u001b[0;31m## Compute fieldgoal distance: Make a new column to determine fieldgoals distance (blockFG for TD and return is different)\u001b[0m\u001b[0;34m\u001b[0m\u001b[0;34m\u001b[0m\u001b[0m\n\u001b[0;32m---> 49\u001b[0;31m     \u001b[0mpxp\u001b[0m\u001b[0;34m.\u001b[0m\u001b[0mloc\u001b[0m\u001b[0;34m[\u001b[0m\u001b[0;34m(\u001b[0m\u001b[0mpxp\u001b[0m\u001b[0;34m[\u001b[0m\u001b[0;34m'type'\u001b[0m\u001b[0;34m]\u001b[0m\u001b[0;34m.\u001b[0m\u001b[0misin\u001b[0m\u001b[0;34m(\u001b[0m\u001b[0;34m[\u001b[0m\u001b[0;34m'Field Goal Good'\u001b[0m\u001b[0;34m,\u001b[0m\u001b[0;34m'Field Goal Missed'\u001b[0m\u001b[0;34m,\u001b[0m\u001b[0;34m'Blocked Field Goal'\u001b[0m\u001b[0;34m]\u001b[0m\u001b[0;34m)\u001b[0m\u001b[0;34m)\u001b[0m\u001b[0;34m,\u001b[0m\u001b[0;34m'FieldGoalDistance'\u001b[0m\u001b[0;34m]\u001b[0m\u001b[0;34m=\u001b[0m\u001b[0mpxp\u001b[0m\u001b[0;34m[\u001b[0m\u001b[0;34m'yardsGained'\u001b[0m\u001b[0;34m]\u001b[0m\u001b[0;34m\u001b[0m\u001b[0m\n\u001b[0m\u001b[1;32m     50\u001b[0m     \u001b[0mpxp\u001b[0m\u001b[0;34m.\u001b[0m\u001b[0mloc\u001b[0m\u001b[0;34m[\u001b[0m\u001b[0;34m(\u001b[0m\u001b[0mpxp\u001b[0m\u001b[0;34m[\u001b[0m\u001b[0;34m'type'\u001b[0m\u001b[0;34m]\u001b[0m\u001b[0;34m.\u001b[0m\u001b[0misin\u001b[0m\u001b[0;34m(\u001b[0m\u001b[0;34m[\u001b[0m\u001b[0;34m'Missed Field Goal Return'\u001b[0m\u001b[0;34m,\u001b[0m \u001b[0;34m'Missed Field Goal Return Touchdown'\u001b[0m\u001b[0;34m,\u001b[0m\u001b[0;34m'Blocked Field Goal Touchdown'\u001b[0m\u001b[0;34m]\u001b[0m\u001b[0;34m)\u001b[0m\u001b[0;34m)\u001b[0m\u001b[0;34m,\u001b[0m\u001b[0;34m'FieldGoalDistance'\u001b[0m\u001b[0;34m]\u001b[0m\u001b[0;34m=\u001b[0m\u001b[0mpxp\u001b[0m\u001b[0;34m[\u001b[0m\u001b[0;34m'yrdline100'\u001b[0m\u001b[0;34m]\u001b[0m\u001b[0;34m.\u001b[0m\u001b[0mastype\u001b[0m\u001b[0;34m(\u001b[0m\u001b[0mint\u001b[0m\u001b[0;34m)\u001b[0m\u001b[0;34m+\u001b[0m\u001b[0;36m17\u001b[0m\u001b[0;34m\u001b[0m\u001b[0m\n\u001b[1;32m     51\u001b[0m \u001b[0;34m\u001b[0m\u001b[0m\n",
      "\u001b[0;32m~/anaconda3/lib/python3.6/site-packages/pandas/core/indexing.py\u001b[0m in \u001b[0;36m__setitem__\u001b[0;34m(self, key, value)\u001b[0m\n\u001b[1;32m    192\u001b[0m             \u001b[0mkey\u001b[0m \u001b[0;34m=\u001b[0m \u001b[0mcom\u001b[0m\u001b[0;34m.\u001b[0m\u001b[0m_apply_if_callable\u001b[0m\u001b[0;34m(\u001b[0m\u001b[0mkey\u001b[0m\u001b[0;34m,\u001b[0m \u001b[0mself\u001b[0m\u001b[0;34m.\u001b[0m\u001b[0mobj\u001b[0m\u001b[0;34m)\u001b[0m\u001b[0;34m\u001b[0m\u001b[0m\n\u001b[1;32m    193\u001b[0m         \u001b[0mindexer\u001b[0m \u001b[0;34m=\u001b[0m \u001b[0mself\u001b[0m\u001b[0;34m.\u001b[0m\u001b[0m_get_setitem_indexer\u001b[0m\u001b[0;34m(\u001b[0m\u001b[0mkey\u001b[0m\u001b[0;34m)\u001b[0m\u001b[0;34m\u001b[0m\u001b[0m\n\u001b[0;32m--> 194\u001b[0;31m         \u001b[0mself\u001b[0m\u001b[0;34m.\u001b[0m\u001b[0m_setitem_with_indexer\u001b[0m\u001b[0;34m(\u001b[0m\u001b[0mindexer\u001b[0m\u001b[0;34m,\u001b[0m \u001b[0mvalue\u001b[0m\u001b[0;34m)\u001b[0m\u001b[0;34m\u001b[0m\u001b[0m\n\u001b[0m\u001b[1;32m    195\u001b[0m \u001b[0;34m\u001b[0m\u001b[0m\n\u001b[1;32m    196\u001b[0m     \u001b[0;32mdef\u001b[0m \u001b[0m_has_valid_type\u001b[0m\u001b[0;34m(\u001b[0m\u001b[0mself\u001b[0m\u001b[0;34m,\u001b[0m \u001b[0mk\u001b[0m\u001b[0;34m,\u001b[0m \u001b[0maxis\u001b[0m\u001b[0;34m)\u001b[0m\u001b[0;34m:\u001b[0m\u001b[0;34m\u001b[0m\u001b[0m\n",
      "\u001b[0;32m~/anaconda3/lib/python3.6/site-packages/pandas/core/indexing.py\u001b[0m in \u001b[0;36m_setitem_with_indexer\u001b[0;34m(self, indexer, value)\u001b[0m\n\u001b[1;32m    359\u001b[0m                         new_indexer = convert_from_missing_indexer_tuple(\n\u001b[1;32m    360\u001b[0m                             indexer, self.obj.axes)\n\u001b[0;32m--> 361\u001b[0;31m                         \u001b[0mself\u001b[0m\u001b[0;34m.\u001b[0m\u001b[0m_setitem_with_indexer\u001b[0m\u001b[0;34m(\u001b[0m\u001b[0mnew_indexer\u001b[0m\u001b[0;34m,\u001b[0m \u001b[0mvalue\u001b[0m\u001b[0;34m)\u001b[0m\u001b[0;34m\u001b[0m\u001b[0m\n\u001b[0m\u001b[1;32m    362\u001b[0m \u001b[0;34m\u001b[0m\u001b[0m\n\u001b[1;32m    363\u001b[0m                         \u001b[0;32mreturn\u001b[0m \u001b[0mself\u001b[0m\u001b[0;34m.\u001b[0m\u001b[0mobj\u001b[0m\u001b[0;34m\u001b[0m\u001b[0m\n",
      "\u001b[0;32m~/anaconda3/lib/python3.6/site-packages/pandas/core/indexing.py\u001b[0m in \u001b[0;36m_setitem_with_indexer\u001b[0;34m(self, indexer, value)\u001b[0m\n\u001b[1;32m    461\u001b[0m \u001b[0;34m\u001b[0m\u001b[0m\n\u001b[1;32m    462\u001b[0m             \u001b[0;32mif\u001b[0m \u001b[0misinstance\u001b[0m\u001b[0;34m(\u001b[0m\u001b[0mvalue\u001b[0m\u001b[0;34m,\u001b[0m \u001b[0mABCSeries\u001b[0m\u001b[0;34m)\u001b[0m\u001b[0;34m:\u001b[0m\u001b[0;34m\u001b[0m\u001b[0m\n\u001b[0;32m--> 463\u001b[0;31m                 \u001b[0mvalue\u001b[0m \u001b[0;34m=\u001b[0m \u001b[0mself\u001b[0m\u001b[0;34m.\u001b[0m\u001b[0m_align_series\u001b[0m\u001b[0;34m(\u001b[0m\u001b[0mindexer\u001b[0m\u001b[0;34m,\u001b[0m \u001b[0mvalue\u001b[0m\u001b[0;34m)\u001b[0m\u001b[0;34m\u001b[0m\u001b[0m\n\u001b[0m\u001b[1;32m    464\u001b[0m \u001b[0;34m\u001b[0m\u001b[0m\n\u001b[1;32m    465\u001b[0m             \u001b[0minfo_idx\u001b[0m \u001b[0;34m=\u001b[0m \u001b[0mindexer\u001b[0m\u001b[0;34m[\u001b[0m\u001b[0minfo_axis\u001b[0m\u001b[0;34m]\u001b[0m\u001b[0;34m\u001b[0m\u001b[0m\n",
      "\u001b[0;32m~/anaconda3/lib/python3.6/site-packages/pandas/core/indexing.py\u001b[0m in \u001b[0;36m_align_series\u001b[0;34m(self, indexer, ser, multiindex_indexer)\u001b[0m\n\u001b[1;32m    720\u001b[0m                         \u001b[0;32mreturn\u001b[0m \u001b[0mser\u001b[0m\u001b[0;34m.\u001b[0m\u001b[0m_values\u001b[0m\u001b[0;34m.\u001b[0m\u001b[0mcopy\u001b[0m\u001b[0;34m(\u001b[0m\u001b[0;34m)\u001b[0m\u001b[0;34m\u001b[0m\u001b[0m\n\u001b[1;32m    721\u001b[0m \u001b[0;34m\u001b[0m\u001b[0m\n\u001b[0;32m--> 722\u001b[0;31m                     \u001b[0;32mreturn\u001b[0m \u001b[0mser\u001b[0m\u001b[0;34m.\u001b[0m\u001b[0mreindex\u001b[0m\u001b[0;34m(\u001b[0m\u001b[0mnew_ix\u001b[0m\u001b[0;34m)\u001b[0m\u001b[0;34m.\u001b[0m\u001b[0m_values\u001b[0m\u001b[0;34m\u001b[0m\u001b[0m\n\u001b[0m\u001b[1;32m    723\u001b[0m \u001b[0;34m\u001b[0m\u001b[0m\n\u001b[1;32m    724\u001b[0m                 \u001b[0;31m# 2 dims\u001b[0m\u001b[0;34m\u001b[0m\u001b[0;34m\u001b[0m\u001b[0m\n",
      "\u001b[0;32m~/anaconda3/lib/python3.6/site-packages/pandas/core/series.py\u001b[0m in \u001b[0;36mreindex\u001b[0;34m(self, index, **kwargs)\u001b[0m\n\u001b[1;32m   2679\u001b[0m     \u001b[0;34m@\u001b[0m\u001b[0mAppender\u001b[0m\u001b[0;34m(\u001b[0m\u001b[0mgeneric\u001b[0m\u001b[0;34m.\u001b[0m\u001b[0m_shared_docs\u001b[0m\u001b[0;34m[\u001b[0m\u001b[0;34m'reindex'\u001b[0m\u001b[0;34m]\u001b[0m \u001b[0;34m%\u001b[0m \u001b[0m_shared_doc_kwargs\u001b[0m\u001b[0;34m)\u001b[0m\u001b[0;34m\u001b[0m\u001b[0m\n\u001b[1;32m   2680\u001b[0m     \u001b[0;32mdef\u001b[0m \u001b[0mreindex\u001b[0m\u001b[0;34m(\u001b[0m\u001b[0mself\u001b[0m\u001b[0;34m,\u001b[0m \u001b[0mindex\u001b[0m\u001b[0;34m=\u001b[0m\u001b[0;32mNone\u001b[0m\u001b[0;34m,\u001b[0m \u001b[0;34m**\u001b[0m\u001b[0mkwargs\u001b[0m\u001b[0;34m)\u001b[0m\u001b[0;34m:\u001b[0m\u001b[0;34m\u001b[0m\u001b[0m\n\u001b[0;32m-> 2681\u001b[0;31m         \u001b[0;32mreturn\u001b[0m \u001b[0msuper\u001b[0m\u001b[0;34m(\u001b[0m\u001b[0mSeries\u001b[0m\u001b[0;34m,\u001b[0m \u001b[0mself\u001b[0m\u001b[0;34m)\u001b[0m\u001b[0;34m.\u001b[0m\u001b[0mreindex\u001b[0m\u001b[0;34m(\u001b[0m\u001b[0mindex\u001b[0m\u001b[0;34m=\u001b[0m\u001b[0mindex\u001b[0m\u001b[0;34m,\u001b[0m \u001b[0;34m**\u001b[0m\u001b[0mkwargs\u001b[0m\u001b[0;34m)\u001b[0m\u001b[0;34m\u001b[0m\u001b[0m\n\u001b[0m\u001b[1;32m   2682\u001b[0m \u001b[0;34m\u001b[0m\u001b[0m\n\u001b[1;32m   2683\u001b[0m     \u001b[0;34m@\u001b[0m\u001b[0mAppender\u001b[0m\u001b[0;34m(\u001b[0m\u001b[0mgeneric\u001b[0m\u001b[0;34m.\u001b[0m\u001b[0m_shared_docs\u001b[0m\u001b[0;34m[\u001b[0m\u001b[0;34m'fillna'\u001b[0m\u001b[0;34m]\u001b[0m \u001b[0;34m%\u001b[0m \u001b[0m_shared_doc_kwargs\u001b[0m\u001b[0;34m)\u001b[0m\u001b[0;34m\u001b[0m\u001b[0m\n",
      "\u001b[0;32m~/anaconda3/lib/python3.6/site-packages/pandas/core/generic.py\u001b[0m in \u001b[0;36mreindex\u001b[0;34m(self, *args, **kwargs)\u001b[0m\n\u001b[1;32m   3021\u001b[0m         \u001b[0;31m# perform the reindex on the axes\u001b[0m\u001b[0;34m\u001b[0m\u001b[0;34m\u001b[0m\u001b[0m\n\u001b[1;32m   3022\u001b[0m         return self._reindex_axes(axes, level, limit, tolerance, method,\n\u001b[0;32m-> 3023\u001b[0;31m                                   fill_value, copy).__finalize__(self)\n\u001b[0m\u001b[1;32m   3024\u001b[0m \u001b[0;34m\u001b[0m\u001b[0m\n\u001b[1;32m   3025\u001b[0m     def _reindex_axes(self, axes, level, limit, tolerance, method, fill_value,\n",
      "\u001b[0;32m~/anaconda3/lib/python3.6/site-packages/pandas/core/generic.py\u001b[0m in \u001b[0;36m_reindex_axes\u001b[0;34m(self, axes, level, limit, tolerance, method, fill_value, copy)\u001b[0m\n\u001b[1;32m   3039\u001b[0m             obj = obj._reindex_with_indexers({axis: [new_index, indexer]},\n\u001b[1;32m   3040\u001b[0m                                              \u001b[0mfill_value\u001b[0m\u001b[0;34m=\u001b[0m\u001b[0mfill_value\u001b[0m\u001b[0;34m,\u001b[0m\u001b[0;34m\u001b[0m\u001b[0m\n\u001b[0;32m-> 3041\u001b[0;31m                                              copy=copy, allow_dups=False)\n\u001b[0m\u001b[1;32m   3042\u001b[0m \u001b[0;34m\u001b[0m\u001b[0m\n\u001b[1;32m   3043\u001b[0m         \u001b[0;32mreturn\u001b[0m \u001b[0mobj\u001b[0m\u001b[0;34m\u001b[0m\u001b[0m\n",
      "\u001b[0;32m~/anaconda3/lib/python3.6/site-packages/pandas/core/generic.py\u001b[0m in \u001b[0;36m_reindex_with_indexers\u001b[0;34m(self, reindexers, fill_value, copy, allow_dups)\u001b[0m\n\u001b[1;32m   3143\u001b[0m                                                 \u001b[0mfill_value\u001b[0m\u001b[0;34m=\u001b[0m\u001b[0mfill_value\u001b[0m\u001b[0;34m,\u001b[0m\u001b[0;34m\u001b[0m\u001b[0m\n\u001b[1;32m   3144\u001b[0m                                                 \u001b[0mallow_dups\u001b[0m\u001b[0;34m=\u001b[0m\u001b[0mallow_dups\u001b[0m\u001b[0;34m,\u001b[0m\u001b[0;34m\u001b[0m\u001b[0m\n\u001b[0;32m-> 3145\u001b[0;31m                                                 copy=copy)\n\u001b[0m\u001b[1;32m   3146\u001b[0m \u001b[0;34m\u001b[0m\u001b[0m\n\u001b[1;32m   3147\u001b[0m         \u001b[0;32mif\u001b[0m \u001b[0mcopy\u001b[0m \u001b[0;32mand\u001b[0m \u001b[0mnew_data\u001b[0m \u001b[0;32mis\u001b[0m \u001b[0mself\u001b[0m\u001b[0;34m.\u001b[0m\u001b[0m_data\u001b[0m\u001b[0;34m:\u001b[0m\u001b[0;34m\u001b[0m\u001b[0m\n",
      "\u001b[0;32m~/anaconda3/lib/python3.6/site-packages/pandas/core/internals.py\u001b[0m in \u001b[0;36mreindex_indexer\u001b[0;34m(self, new_axis, indexer, axis, fill_value, allow_dups, copy)\u001b[0m\n\u001b[1;32m   4137\u001b[0m         \u001b[0;31m# some axes don't allow reindexing with dups\u001b[0m\u001b[0;34m\u001b[0m\u001b[0;34m\u001b[0m\u001b[0m\n\u001b[1;32m   4138\u001b[0m         \u001b[0;32mif\u001b[0m \u001b[0;32mnot\u001b[0m \u001b[0mallow_dups\u001b[0m\u001b[0;34m:\u001b[0m\u001b[0;34m\u001b[0m\u001b[0m\n\u001b[0;32m-> 4139\u001b[0;31m             \u001b[0mself\u001b[0m\u001b[0;34m.\u001b[0m\u001b[0maxes\u001b[0m\u001b[0;34m[\u001b[0m\u001b[0maxis\u001b[0m\u001b[0;34m]\u001b[0m\u001b[0;34m.\u001b[0m\u001b[0m_can_reindex\u001b[0m\u001b[0;34m(\u001b[0m\u001b[0mindexer\u001b[0m\u001b[0;34m)\u001b[0m\u001b[0;34m\u001b[0m\u001b[0m\n\u001b[0m\u001b[1;32m   4140\u001b[0m \u001b[0;34m\u001b[0m\u001b[0m\n\u001b[1;32m   4141\u001b[0m         \u001b[0;32mif\u001b[0m \u001b[0maxis\u001b[0m \u001b[0;34m>=\u001b[0m \u001b[0mself\u001b[0m\u001b[0;34m.\u001b[0m\u001b[0mndim\u001b[0m\u001b[0;34m:\u001b[0m\u001b[0;34m\u001b[0m\u001b[0m\n",
      "\u001b[0;32m~/anaconda3/lib/python3.6/site-packages/pandas/core/indexes/base.py\u001b[0m in \u001b[0;36m_can_reindex\u001b[0;34m(self, indexer)\u001b[0m\n\u001b[1;32m   2942\u001b[0m         \u001b[0;31m# trying to reindex on an axis with duplicates\u001b[0m\u001b[0;34m\u001b[0m\u001b[0;34m\u001b[0m\u001b[0m\n\u001b[1;32m   2943\u001b[0m         \u001b[0;32mif\u001b[0m \u001b[0;32mnot\u001b[0m \u001b[0mself\u001b[0m\u001b[0;34m.\u001b[0m\u001b[0mis_unique\u001b[0m \u001b[0;32mand\u001b[0m \u001b[0mlen\u001b[0m\u001b[0;34m(\u001b[0m\u001b[0mindexer\u001b[0m\u001b[0;34m)\u001b[0m\u001b[0;34m:\u001b[0m\u001b[0;34m\u001b[0m\u001b[0m\n\u001b[0;32m-> 2944\u001b[0;31m             \u001b[0;32mraise\u001b[0m \u001b[0mValueError\u001b[0m\u001b[0;34m(\u001b[0m\u001b[0;34m\"cannot reindex from a duplicate axis\"\u001b[0m\u001b[0;34m)\u001b[0m\u001b[0;34m\u001b[0m\u001b[0m\n\u001b[0m\u001b[1;32m   2945\u001b[0m \u001b[0;34m\u001b[0m\u001b[0m\n\u001b[1;32m   2946\u001b[0m     def reindex(self, target, method=None, level=None, limit=None,\n",
      "\u001b[0;31mValueError\u001b[0m: cannot reindex from a duplicate axis"
     ]
    }
   ],
   "source": [
    "matchup_pxp = cf.extract_data(matchup_pxp)\n",
    "ko_and_poss = cf.extract_kickoffs_and_possessions(matchup_pxp)\n",
    "fgs = cf.extract_field_goals(matchup_pxp)\n",
    "third_downs = cf.extract_third_downs(matchup_pxp)\n",
    "punts = cf.extract_punts(matchup_pxp)\n",
    "\n",
    "ekv,epv_model = cf.epv_model(ko_and_poss)\n",
    "exp_conv_pct_model = cf.exp_conv_pct_model(third_downs)\n",
    "exp_net_punt_dist_model = cf.exp_net_punt_dist_model(punts)\n",
    "exp_fg_prob_model = cf.exp_fg_prob_model(fgs)\n",
    "epv_model"
   ]
  },
  {
   "cell_type": "code",
   "execution_count": null,
   "metadata": {},
   "outputs": [],
   "source": [
    "ko_and_poss = cf.extract_kickoffs_and_possessions(pxp)"
   ]
  },
  {
   "cell_type": "code",
   "execution_count": null,
   "metadata": {},
   "outputs": [],
   "source": [
    "fgs = cf.extract_field_goals(pxp)\n",
    "third_downs = cf.extract_third_downs(pxp)\n",
    "punts = cf.extract_punts(pxp)\n",
    "\n",
    "ekv,epv_model = cf.epv_model(ko_and_poss)\n",
    "exp_conv_pct_model = cf.exp_conv_pct_model(third_downs)\n",
    "exp_net_punt_dist_model = cf.exp_net_punt_dist_model(punts)\n",
    "exp_fg_prob_model = cf.exp_fg_prob_model(fgs)"
   ]
  },
  {
   "cell_type": "code",
   "execution_count": null,
   "metadata": {},
   "outputs": [],
   "source": [
    "matchup_pxp = cf.m_extract_data(matchup_pxp)"
   ]
  },
  {
   "cell_type": "code",
   "execution_count": null,
   "metadata": {},
   "outputs": [],
   "source": [
    "m_ko_and_poss = cf.modified_extract_k_and_p(matchup_pxp)\n",
    "m_third_downs = cf.extract_third_downs(matchup_pxp)\n",
    "m_ko_and_poss = m_ko_and_poss.loc[(m_ko_and_poss['homeTeam'] != None)|(m_ko_and_poss['awayTeam']!=None)]\n",
    "m_ko_and_poss"
   ]
  },
  {
   "cell_type": "markdown",
   "metadata": {},
   "source": [
    "m_ko_and_poss.info()"
   ]
  },
  {
   "cell_type": "code",
   "execution_count": null,
   "metadata": {},
   "outputs": [],
   "source": []
  },
  {
   "cell_type": "code",
   "execution_count": null,
   "metadata": {},
   "outputs": [],
   "source": [
    "m_ekv, m_epv_model = cf.epv_model(m_ko_and_poss)\n",
    "m_exp_conv_pct_model = cf.exp_conv_pct_model(m_third_downs)\n"
   ]
  },
  {
   "cell_type": "code",
   "execution_count": null,
   "metadata": {
    "scrolled": true
   },
   "outputs": [],
   "source": [
    "m_epv_model\n"
   ]
  },
  {
   "cell_type": "code",
   "execution_count": null,
   "metadata": {},
   "outputs": [],
   "source": [
    "epv_model"
   ]
  },
  {
   "cell_type": "markdown",
   "metadata": {},
   "source": []
  },
  {
   "cell_type": "code",
   "execution_count": null,
   "metadata": {},
   "outputs": [],
   "source": [
    "epv_model.to_pickle(\"./epv_model.pkl\")\n",
    "exp_conv_pct_model.to_pickle(\"./exp_conv_pct_model.pkl\")\n",
    "exp_net_punt_dist_model.to_pickle(\"./exp_net_punt_dist_model.pkl\")\n",
    "exp_fg_prob_model.to_pickle(\"./exp_fg_prob_model.pkl\")\n"
   ]
  },
  {
   "cell_type": "code",
   "execution_count": null,
   "metadata": {},
   "outputs": [],
   "source": [
    "m_epv_model.to_pickle(\"./m_epv_model.pkl\")\n",
    "m_exp_conv_pct_model.to_pickle(\"./m_exp_conv_pct_model.pkl\")"
   ]
  },
  {
   "cell_type": "code",
   "execution_count": null,
   "metadata": {},
   "outputs": [],
   "source": [
    "def build_decision_maker(yrdline100, ydstogo, ekv, epv_model, exp_conv_pct_model, \n",
    "                         exp_net_punt_dist_model, exp_fg_prob_model,\n",
    "                        m_ekv, m_epv_model_use, m_exp_conv_pct_model, w):\n",
    "    \n",
    "    YRDSTOGO_CAP = 10  # Model restriction\n",
    "    PUNT_LIM = 29      # Model restriction\n",
    "    FG_LIM = 63        # Model restriction\n",
    "    FG_OFFSET = 8      # Field goal placement distance (not including the 10 for the endzone)\n",
    "    FG_FAIL_RESET = 0  # Where the ball is placed after a failed field goal.  If 0, at the spot.  \n",
    "                       # Otherwise, at the spot or at the reset spot, whichever is better.\n",
    "    if yrdline100 < 10:\n",
    "        region = 'Inside10'\n",
    "    elif yrdline100 < 20:\n",
    "        region = '10to20'\n",
    "    else:\n",
    "        region = 'Beyond20'\n",
    "            \n",
    "        # 1. Expected value of going for it\n",
    "        \n",
    "        # Value of failing (approximately turning over at same spot)\n",
    "    conv_fail_yrdline100 = 100 - yrdline100\n",
    "    conv_fail_epv = -epv_model[conv_fail_yrdline100] \n",
    "        \n",
    "    m_conv_fail_epv = -m_epv_model[conv_fail_yrdline100]\n",
    "        \n",
    "        # Value of converting (approximately at the first down marker)\n",
    "    if yrdline100 == ydstogo:\n",
    "        conv_succ_epv = 6 - ekv\n",
    "        m_conv_succ_epv = 6 - m_ekv\n",
    "    else:\n",
    "        first_down_yrdline100 = yrdline100 - ydstogo\n",
    "        conv_succ_epv = epv_model[first_down_yrdline100] -1\n",
    "        m_conv_succ_epv = m_epv_model[first_down_yrdline100] - 1\n",
    "\n",
    "        # Conversion Pct\n",
    "    exp_conv_pct = exp_conv_pct_model[(region, ydstogo)] if ydstogo < YRDSTOGO_CAP else None\n",
    "    m_exp_conv_pct = m_exp_conv_pct_model[(region, ydstogo)] if ydstogo < YRDSTOGO_CAP else None\n",
    "        \n",
    "        # Overall expected value of going for it\n",
    "    unmod_go_ev = exp_conv_pct * conv_succ_epv + (1 - exp_conv_pct) * conv_fail_epv\n",
    "    m_go_ev = m_exp_conv_pct * m_conv_succ_epv + (1 - m_exp_conv_pct) * m_conv_fail_epv\n",
    "    go_ev = w * m_go_ev + (1 - w) * unmod_go_ev\n",
    "        ####THIS IS WHERE YOU ADD THE MATCHUP EPV WEIGHT AND STUFF (ABOVE)\n",
    "        \n",
    "        \n",
    "        \n",
    "        \n",
    "        # 2. Expected value of punting\n",
    "        \n",
    "        # Expected next yardline\n",
    "    if yrdline100 >= PUNT_LIM:\n",
    "        exp_net_punt_dist = exp_net_punt_dist_model[yrdline100]\n",
    "        exp_yrdline100 = 100 - yrdline100 + int(exp_net_punt_dist)\n",
    "            \n",
    "            # Overall expected value of punting\n",
    "        punt_ev = -epv_model[exp_yrdline100]\n",
    "    else:\n",
    "        punt_ev = None\n",
    "            \n",
    "        # 3. Expected value of kicking a field goal\n",
    "    fg_dist =  yrdline100 + 10 + FG_OFFSET\n",
    "    if fg_dist <= FG_LIM:\n",
    "        # Probability of success\n",
    "        exp_fg_prob = exp_fg_prob_model[fg_dist ]\n",
    "\n",
    "        # Expected value of field success\n",
    "        fg_succ_epv = 3 - ekv\n",
    "\n",
    "        # EPV of field goal fail\n",
    "        fg_fail_yrdline100 = 100 - yrdline100 - FG_OFFSET\n",
    "        fg_fail_epv = -epv_model[fg_fail_yrdline100]\n",
    "\n",
    "        # Overall expected value kicking\n",
    "        fg_ev = fg_succ_epv * exp_fg_prob + fg_fail_epv * (1 - exp_fg_prob)\n",
    "    else:\n",
    "        fg_ev = None\n",
    "    \n",
    "    choices = [('go for it', go_ev), ('punt', punt_ev), ('kick', fg_ev)]\n",
    "    max_val = -100\n",
    "    for choice, ev in choices:\n",
    "        if ev is None:\n",
    "            continue\n",
    "        if ev > max_val:\n",
    "            max_val = ev\n",
    "            decision = choice\n",
    "    \n",
    "    print_message=False\n",
    "    if print_message:\n",
    "        print(\"Expected Values\")\n",
    "        print(\"Go for it: {:.2f}\".format(go_ev))\n",
    "        if punt_ev is not None:\n",
    "            print(\"Punt: {:.2f}\".format(punt_ev))\n",
    "        else:\n",
    "            print(\"Punt: TOO CLOSE TO PUNT\")\n",
    "        if fg_ev is not None:\n",
    "            print(\"FG: {:.2f}\".format(fg_ev))\n",
    "        else:\n",
    "            print(\"FG: TOO FAR TO KICK\")        \n",
    "\n",
    "        print()\n",
    "        print(\"Coach, you should:\")\n",
    "        print(decision.upper())\n",
    "    \n",
    "    return decision\n",
    "\n",
    "# Build the decision maker\n",
    "\n",
    "yrdlines = list(range(1, 100))\n",
    "down_dist = list(range(1, 10))\n",
    "\n",
    "decisions = []\n",
    "for yrdstogo in down_dist:\n",
    "    tmp = []\n",
    "    for yrdline in yrdlines:\n",
    "        if (yrdline >= yrdstogo) and (100 - yrdline + yrdstogo >= 10): # Exclude impossible scenarios\n",
    "            decision = build_decision_maker(yrdline, yrdstogo, \n",
    "                                            ekv, epv_model, exp_conv_pct_model, exp_net_punt_dist_model, \n",
    "                                            exp_fg_prob_model, m_ekv, m_epv_model, m_exp_conv_pct_model, 0.05)\n",
    "            tmp.append(decision)\n",
    "        else:\n",
    "            tmp.append(None)\n",
    "    decisions.append(tmp)\n",
    "# Convert to a table\n",
    "pd.DataFrame(decisions, columns=yrdlines, index=down_dist)\n",
    "\n",
    "import numpy as np\n",
    "data = np.zeros((9, 99))\n",
    "for i in range(9):\n",
    "    for j in range(99):\n",
    "        decision = decisions[i][j]\n",
    "        if decision == 'go for it':\n",
    "            val = 1\n",
    "        elif decision == 'punt':\n",
    "            val = 2\n",
    "        elif decision == 'kick':\n",
    "            val = 3\n",
    "        elif decision is None:\n",
    "            val = np.nan\n",
    "        data[i, j] = val\n",
    "data = data[::-1,::-1]\n",
    "\n",
    "fig, ax = plt.subplots(figsize=(12, 9))\n",
    "\n",
    "ax.pcolor(\n",
    "    data,\n",
    "    vmin=1,\n",
    "    vmax=8,\n",
    "    edgecolors='k', \n",
    "    linewidths=.2,\n",
    "    cmap=plt.get_cmap('Dark2'),\n",
    "    alpha=.6\n",
    ");\n",
    "ax.set_xticks([0, 10, 20, 30, 40, 50, 60, 70, 80, 90, 100])\n",
    "ax.set_xticklabels(['Own Goal', '90', '80', '70', '60', '50', '40', '30', '20', '10', 'Goal'])\n",
    "ax.set_yticks([\n",
    "    yd - .5\n",
    "    for yd in range(1, 10)\n",
    "])\n",
    "ax.set_yticklabels([\n",
    "    '4th and {}'.format(yd)\n",
    "    for yd in range(9, 0, -1)\n",
    "])\n",
    "ax.text(50, 6, 'Go for it', size=25)\n",
    "ax.text(20, 1.5, 'Punt', size=25)\n",
    "ax.text(75, 1.5, 'Kick', size=25)\n",
    "ax.tick_params(axis='both', which='major', labelsize=15);"
   ]
  },
  {
   "cell_type": "code",
   "execution_count": null,
   "metadata": {},
   "outputs": [],
   "source": [
    "avg_epv = [[]]\n",
    "mod_epv = [[]]\n",
    "for ydstogo in range(1, 10):\n",
    "    for yrdline100 in range (1, 100):\n",
    "        avg, mod = build_decision_maker(yrdline100, yrdstogo, \n",
    "                                            ekv, epv_model, exp_conv_pct_model, exp_net_punt_dist_model, \n",
    "                                            exp_fg_prob_model, m_ekv, m_epv_model, m_exp_conv_pct_model, 0.05)\n",
    "        avg_epv."
   ]
  },
  {
   "cell_type": "code",
   "execution_count": null,
   "metadata": {},
   "outputs": [],
   "source": [
    "path = \"Test_File.csv\"\n",
    "cols = ['gameId', 'driveIndex', 'year', 'week', 'clock', 'quarter', 'down', 'yardLine', 'distance', 'yardsGained',\n",
    "            'offenseTeam', 'defenseTeam', 'description', 'type',\n",
    "            'homeScore', 'awayScore', 'homeTeam', 'awayTeam']\n",
    "df = pd.read_csv(path,index_col=None, header=0, usecols=cols)\n",
    "df[\"home_off_away_def\"] = np.repeat(True, len(df))\n",
    "testpxp = cf.m_extract_data(df)\n",
    "m_ko_and_poss = cf.modified_extract_k_and_p(testpxp)\n",
    "m_third_downs = cf.extract_third_downs(testpxp)\n",
    "m_ekv, m_epv_model = cf.epv_model(m_ko_and_poss)\n",
    "m_exp_conv_pct_model = cf.exp_conv_pct_model(m_third_downs)\n",
    "m_epv_model"
   ]
  },
  {
   "cell_type": "code",
   "execution_count": null,
   "metadata": {},
   "outputs": [],
   "source": [
    "path = \"Test_File.csv\"\n",
    "cols = ['gameId', 'driveIndex', 'year', 'week', 'clock', 'quarter', 'down', 'yardLine', 'distance', 'yardsGained',\n",
    "            'offenseTeam', 'defenseTeam', 'description', 'type',\n",
    "            'homeScore', 'awayScore', 'homeTeam', 'awayTeam']\n",
    "df = pd.read_csv(path,index_col=None, header=0, usecols=cols)\n",
    "testpxp = extract_data(df)\n",
    "m_ko_and_poss = cf.extract_kickoffs_and_possessions(testpxp)\n",
    "m_third_downs = cf.extract_third_downs(testpxp)\n",
    "ekv, epv_model = cf.epv_model(m_ko_and_poss)\n",
    "exp_conv_pct_model = cf.exp_conv_pct_model(m_third_downs)\n",
    "epv_model"
   ]
  },
  {
   "cell_type": "code",
   "execution_count": null,
   "metadata": {},
   "outputs": [],
   "source": [
    "def extract_data(pxp):\n",
    "\n",
    "# We only cover offensive TouchDown\n",
    "\n",
    "    cols = ['gameId', 'driveIndex', 'quarter', 'down', 'yardLine', 'distance', 'yardsGained',\n",
    "            'offenseTeam', 'defenseTeam', 'description', 'type', 'isScoringPlay',\n",
    "            'homeScore', 'awayScore', 'homeTeam', 'awayTeam', 'clock']\n",
    "\n",
    "    pxp['type'].fillna('No Play', inplace = True)\n",
    "\n",
    "    # Compute half.  For OT (qtr = 5 or 6), use half = 3. \n",
    "    pxp['half'] = pd.cut(pxp['quarter'], [1,2,4,6], labels=[1,2,3], include_lowest=True)\n",
    "\n",
    "    # Compute yardage (NCAA data yardage is relative to home team except for kickoff plays) \n",
    "    pxp['yrdline100'] = np.select([(pxp['homeTeam'] == pxp['offenseTeam']) & (~pxp['type'].str.contains('Kickoff')), \n",
    "                                (pxp['homeTeam'] == pxp['offenseTeam']) & (pxp['type'].str.contains('Kickoff')), \n",
    "                                (pxp['awayTeam'] == pxp['offenseTeam']) & (~pxp['type'].str.contains('Kickoff')),\n",
    "                                (pxp['awayTeam'] == pxp['offenseTeam']) & (pxp['type'].str.contains('Kickoff'))], \n",
    "                               [100-pxp['yardLine'], pxp['yardLine'], pxp['yardLine'], 100-pxp['yardLine']], default='np.nan')\n",
    "    pxp['yrdline100'] = np.select([(pxp['homeTeam'] == pxp['offenseTeam']),\n",
    "                                (pxp['awayTeam'] == pxp['offenseTeam'])], \n",
    "                               [100-pxp['yardLine'], pxp['yardLine']], default=None).astype(float)\n",
    "    # Compute field region\n",
    "    pxp['yrdregion'] = pd.cut(pxp['yrdline100'], [0., 9., 20., 100.], labels=['Inside10', '10to20', 'Beyond20'])\n",
    "    \n",
    "    # Compute Touchdown play: Make a new column to determine offensive touchdown (only either rushing or passing play)\n",
    "    # The NFL model use both defensive and offensive TD here (and some other weird type of TD)\n",
    "    pxp['Touchdown'] = np.where((pxp['type']=='Passing Touchdown')|(pxp['type']=='Rushing Touchdown')|(pxp['description'].str.contains('TD'))|(pxp['description'].str.contains('Touchdown'))|(pxp['description'].str.contains('TOUCHDOWN')), 1, 0)\n",
    "\n",
    "    # index of play\n",
    "    pxp['index'] = range(1, len(pxp) + 1)\n",
    "\n",
    "    ## Compute fieldgoal play: Make a new column to determine fieldgoals as missed, blocked, or good\n",
    "    fgcondition = [(pxp['type']=='Field Goal Good'), \n",
    "                (pxp['type']=='Field Goal Missed'),\n",
    "                (pxp['type']=='Missed Field Goal Return'),\n",
    "                (pxp['type']=='Missed Field Goal Return Touchdown'),\n",
    "                (pxp['type']=='Blocked Field Goal'),\n",
    "                (pxp['type']=='Blocked Field Goal Touchdown')]\n",
    "    pxp['FieldGoalResult'] = np.select(fgcondition, ['Good', 'No Good', 'No Good', 'No Good', 'Blocked', 'Blocked'])\n",
    "    pxp['FieldGoalResult'] = pxp['FieldGoalResult'].replace('0', np.nan)\n",
    "    \n",
    "    ## Compute fieldgoal distance: Make a new column to determine fieldgoals distance (blockFG for TD and return is different)\n",
    "    pxp.loc[(pxp['type'].isin(['Field Goal Good','Field Goal Missed','Blocked Field Goal'])),'FieldGoalDistance']=pxp['yardsGained']\n",
    "    pxp.loc[(pxp['type'].isin(['Missed Field Goal Return', 'Missed Field Goal Return Touchdown','Blocked Field Goal Touchdown'])),'FieldGoalDistance']=pxp['yrdline100']\n",
    "\n",
    "\n",
    "    # Fill in missing values due to timeouts leaving NAs in the dataset. This is not needed in NCAA plays\n",
    "#     pxp.loc[:, ['HomeScore', 'AwayScore']] = pxp[['HomeScore', 'AwayScore']].fillna(method='ffill')\n",
    "    \n",
    "    # Compute nextposteam, nextyrdline100, nextdown, and 1stdownconversion.  Must be within a game \n",
    "    # and a half since possession doesn't carry between halves and obviously not between games.  \n",
    "    # Non-relevant plays are ignored so that computations aren't mangled.\n",
    "\n",
    "#     There is no extra point plays\n",
    "    ignore_plays = ['Penalty', 'End Period', 'Timeout', 'End of Half', 'End of Game', \n",
    "        'No Play', 'Coin Toss', 'Extra Point Good','Blocked PAT','Extra Point Missed']\n",
    "    \n",
    "    ignore_mask = ~pxp['type'].isin(ignore_plays)\n",
    "    game_halves = pxp.\\\n",
    "        loc[ignore_mask].\\\n",
    "        groupby(['gameId', 'half'])\n",
    "    pxp.loc[ignore_mask, 'nextposteam'] = game_halves['offenseTeam'].\\\n",
    "        shift(-1).\\\n",
    "        fillna(method='bfill')\n",
    "    pxp.loc[ignore_mask, 'nextyrdline100'] = game_halves['yrdline100'].\\\n",
    "        shift(-1).\\\n",
    "        fillna(method='bfill')\n",
    "    pxp.loc[ignore_mask, 'nextdown'] = game_halves['down'].\\\n",
    "        shift(-1).\\\n",
    "        fillna(method='bfill')\n",
    "    pxp.loc[ignore_mask, '1stdownconversion'] = (\n",
    "        (pxp.loc[ignore_mask, 'nextdown'] == 1.) | \n",
    "        (pxp.loc[ignore_mask, 'distance'] <= pxp.loc[ignore_mask, 'yardsGained']) |\n",
    "        (pxp.loc[ignore_mask, 'Touchdown'] == 1)\n",
    "    ).astype(int)\n",
    "    try:\n",
    "        pxp['yrdline100'] = [int(x) for x in pxp['yrdline100']]\n",
    "    except ValueError:\n",
    "        do_nothing = 2\n",
    "    return pxp"
   ]
  },
  {
   "cell_type": "code",
   "execution_count": null,
   "metadata": {},
   "outputs": [],
   "source": []
  },
  {
   "cell_type": "code",
   "execution_count": null,
   "metadata": {},
   "outputs": [],
   "source": []
  },
  {
   "cell_type": "code",
   "execution_count": null,
   "metadata": {},
   "outputs": [],
   "source": []
  }
 ],
 "metadata": {
  "kernelspec": {
   "display_name": "Python 3",
   "language": "python",
   "name": "python3"
  },
  "language_info": {
   "codemirror_mode": {
    "name": "ipython",
    "version": 3
   },
   "file_extension": ".py",
   "mimetype": "text/x-python",
   "name": "python",
   "nbconvert_exporter": "python",
   "pygments_lexer": "ipython3",
   "version": "3.6.4"
  }
 },
 "nbformat": 4,
 "nbformat_minor": 2
}
