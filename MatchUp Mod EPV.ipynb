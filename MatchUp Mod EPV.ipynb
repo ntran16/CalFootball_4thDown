{
 "cells": [
  {
   "cell_type": "code",
   "execution_count": 5,
   "metadata": {},
   "outputs": [],
   "source": [
    "import pandas as pd\n",
    "import collections\n",
    "import matplotlib as mpl\n",
    "import matplotlib.pyplot as plt\n",
    "import numpy as np\n",
    "import os.path as checkPath"
   ]
  },
  {
   "cell_type": "code",
   "execution_count": 7,
   "metadata": {},
   "outputs": [],
   "source": [
    "def get_def_sim(team_against, n):\n",
    "    #using the data scraper function\n",
    "    similar_defenses = get_similar_defense(team_against, n)\n",
    "    for team in similar_defenses:\n",
    "        for year in similar_defenses[team]:\n",
    "            for weekNum in range(1, 16):\n",
    "                week = 'Week ' + str(weekNum)\n",
    "                file = 'Improved-NCAA-Football-Data/{0}PXP/PBP - {0} - '.format(year) + week + '.csv'\n",
    "                if (checkPath.isfile(file)):\n",
    "                    plays = pd.read_csv(file, usecols=cols)\n",
    "                    pxp.append(plays)\n",
    "        pxp = pd.concat(pxp)\n",
    "        pxp = pxp.loc[(pxp['defenseTeam'] == team)]\n",
    "            #send to a ultimate pxp file that concatenates all the data\n",
    "            \n",
    "                    \n",
    "    pxp = pd.concat(pxp)\n",
    "    pxp = pxp.loc[(pxp['down'] == 4) & (pxp['type'] != 'No Play') & (pxp['type'] != 'Fumble Recovery (Opponent)')]\n",
    "    pxp = pxp.loc[(pxp['type'] != 'Timeout') & (pxp['type'] != '')]\n",
    "    \n",
    "    return pxp"
   ]
  },
  {
   "cell_type": "code",
   "execution_count": 8,
   "metadata": {},
   "outputs": [],
   "source": [
    "def weighted_avg_epv(team_against, n):\n",
    "    CAL_WIN_PROBABILITY = get_win_probability()\n",
    "    \n",
    "    get_similar_win_probability  = get_similar_win_probability(CAL_WIN_PROBABILITY, n)\n",
    "    matchup_pxp = get_def_sim(team_against, n)\n",
    "    \n",
    "    odds_matchup_similarity = compute_difference(get_similar_win_probability, matchup_pxp)\n",
    "    matchup_weight = compute_matchup_weight(odds_matchup_similarity)\n",
    "\n",
    "    compute_final_decision(matchup_pxp, matchup_weight)\n",
    "    \n",
    "    ###HAVE NATE (OR ANYONE WHO CAN PULL NATE'S BRANCH GO IN AND MAKE A BIGGER \"FINAL DECISION MAKER.\"\n",
    "    ###THIS CAN BE DONE BY ABSTRACTING THE EPV CALCULATION INTO A FUNCTION FOR EACH OF THE THREE DECISIONS.\n",
    "    ###AS OF RIGHT NOW, THE WEIGHT)"
   ]
  },
  {
   "cell_type": "code",
   "execution_count": 1,
   "metadata": {},
   "outputs": [
    {
     "ename": "SyntaxError",
     "evalue": "unexpected EOF while parsing (<ipython-input-1-93cd673ed8a4>, line 2)",
     "output_type": "error",
     "traceback": [
      "\u001b[0;36m  File \u001b[0;32m\"<ipython-input-1-93cd673ed8a4>\"\u001b[0;36m, line \u001b[0;32m2\u001b[0m\n\u001b[0;31m    \u001b[0m\n\u001b[0m    ^\u001b[0m\n\u001b[0;31mSyntaxError\u001b[0m\u001b[0;31m:\u001b[0m unexpected EOF while parsing\n"
     ]
    }
   ],
   "source": [
    "def get_similar_win_probability(wp, n):\n",
    "    #recurse through scraped pxp, trying to find the closest values to WP.\n",
    "    #Returns a concatenated pxp file of the 14 * n closest games with the same win probablity.\n",
    "    \n",
    "    #14*n reasoning: \n",
    "    \n",
    "    # Need the same amount of data as defensive S and P+ data.\n",
    "    # S and P+ data uses defensive rating comparisons of the n closest teams in certain years-\n",
    "    # Assuming for now we are not using offensive comparisons at all.  This may change.\n",
    "    # Therefore, S and P+ should return a list of tuples of team and year.\n",
    "    # Assuming there are two off-weeks, there should be 16 total weeks - 2 = 14 games that this\n",
    "    # comparison data pulls in total. This means we want 14 * n of the closest games by win probability.\n",
    "    \n",
    "    ####ALSO: RETURN A LIST OF THE TEAMS WITH THE SIMILAR PROBABLITY GIVEN IN WP.\n",
    "    # Index = Game # - 1 in the pxp returned. This needs to be done to make sure that there are matching probabilities.\n",
    "    \n",
    "    ######## IMPORTANT NOTE ##########\n",
    "    \n",
    "    ### DO NOT USE THE FULL GAME! \n",
    "    # Say Team A plays Team B.\n",
    "    # Team A has similar win prob to CAL.\n",
    "    # Use only Team A's offensive play's then.\n",
    "    # Trivial, but very important to remember.\n",
    "    "
   ]
  },
  {
   "cell_type": "code",
   "execution_count": null,
   "metadata": {},
   "outputs": [],
   "source": [
    "def compute_difference(odds, team_list_odds matchup):\n",
    "    conv_perc_odds = compute_4th_down_conv_percentage(odds, team_list)\n",
    "    conv_perc_matchup = compute_4th_down_conv_percentage(matchup, None)\n",
    "    difference = [[0] * 100 for i in range(100)]\n",
    "    for yds_to_go in range (10):\n",
    "        for yd_line in range(100):\n",
    "            odds_percent = conv_perc_odds[yds_to_go][yd_line]\n",
    "            matchup_percent = conv_perc_matchup[yds_to_go][yd_line]\n",
    "            difference[yds_to_go][yd_line] = abs(odds_percent - matchup_percent) / avg(odds_percent, matchup_percent)\n",
    "\n",
    "    return list_avg(difference)"
   ]
  },
  {
   "cell_type": "code",
   "execution_count": null,
   "metadata": {},
   "outputs": [],
   "source": [
    "def compute_4th_down_conv_percentage(pxp, team_list):\n",
    "    # Eric should have a function for this.\n",
    "    # Talk with him at the meeting tonight."
   ]
  },
  {
   "cell_type": "code",
   "execution_count": null,
   "metadata": {},
   "outputs": [],
   "source": [
    "def list_avg(two_d_list):\n",
    "    count = 0\n",
    "    sum = 0\n",
    "    for list in two_d_list:\n",
    "        for element in list:\n",
    "            sum += element\n",
    "            count += 1\n",
    "    return (sum / count) / 100"
   ]
  },
  {
   "cell_type": "code",
   "execution_count": null,
   "metadata": {},
   "outputs": [],
   "source": [
    "### Linear for now, potentially can change. ###\n",
    "def compute_matchup_weight(difference):\n",
    "    return 0.5 - 0.5 * difference"
   ]
  },
  {
   "cell_type": "code",
   "execution_count": null,
   "metadata": {},
   "outputs": [],
   "source": [
    "########## THIS FUNCTION SHOULD BE EDITED EVERY WEEK, INPUTTING CAL'S WIN PROBABLITY ##########################\n",
    "def get_win_probability():\n",
    "    return 0.5"
   ]
  },
  {
   "cell_type": "code",
   "execution_count": null,
   "metadata": {},
   "outputs": [],
   "source": []
  }
 ],
 "metadata": {
  "kernelspec": {
   "display_name": "Python 3",
   "language": "python",
   "name": "python3"
  },
  "language_info": {
   "codemirror_mode": {
    "name": "ipython",
    "version": 3
   },
   "file_extension": ".py",
   "mimetype": "text/x-python",
   "name": "python",
   "nbconvert_exporter": "python",
   "pygments_lexer": "ipython3",
   "version": "3.6.4"
  }
 },
 "nbformat": 4,
 "nbformat_minor": 2
}
