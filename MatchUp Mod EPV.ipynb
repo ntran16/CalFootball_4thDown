{
 "cells": [
  {
   "cell_type": "code",
   "execution_count": 5,
   "metadata": {},
   "outputs": [],
   "source": [
    "import pandas as pd\n",
    "import collections\n",
    "import matplotlib as mpl\n",
    "import matplotlib.pyplot as plt\n",
    "import numpy as np\n",
    "import os.path as checkPath"
   ]
  },
  {
   "cell_type": "code",
   "execution_count": 7,
   "metadata": {},
   "outputs": [],
   "source": [
    "def get_avg_def_epv(team_against):\n",
    "    #using the data scraper function\n",
    "    similar_defenses = get_similar_defense(team_against)\n",
    "    for team in similar_defenses:\n",
    "        for year in similar_defenses[team]:\n",
    "            for weekNum in range(1, 16):\n",
    "                week = 'Week ' + str(weekNum)\n",
    "                file = 'Improved-NCAA-Football-Data/{0}PXP/PBP - {0} - '.format(year) + week + '.csv'\n",
    "                if (checkPath.isfile(file)):\n",
    "                    plays = pd.read_csv(file, usecols=cols)\n",
    "                    pxp.append(plays)\n",
    "        pxp = pd.concat(pxp)\n",
    "        pxp = pxp.loc[(pxp['defenseTeam'] == team)]\n",
    "            #send to a ultimate pxp file that concatenates all the data\n",
    "            \n",
    "    pxp = pd.concat(pxp)\n",
    "    pxp = pxp.loc[(pxp['down'] == 4) & (pxp['type'] != 'No Play') & (pxp['type'] != 'Fumble Recovery (Opponent)')]\n",
    "    pxp = pxp.loc[(pxp['type'] != 'Timeout') & (pxp['type'] != '')]\n",
    "    \n",
    "    return get_epv(pxp)"
   ]
  },
  {
   "cell_type": "code",
   "execution_count": 8,
   "metadata": {},
   "outputs": [],
   "source": [
    "def weighted_avg_epv(team_against):\n",
    "    matchup_epv = get_avg_def_epv(team_against)\n",
    "    avg_epv = get_avg_eighteen_year_epv()\n",
    "    #then just weighted average them, for now weights are equal\n",
    "    weight_matchup = 0.5\n",
    "    weight_avg = 0.5\n",
    "    return matchup_epv * weight_matchup + avg_epv * weight_avg"
   ]
  },
  {
   "cell_type": "code",
   "execution_count": null,
   "metadata": {},
   "outputs": [],
   "source": []
  }
 ],
 "metadata": {
  "kernelspec": {
   "display_name": "Python 3",
   "language": "python",
   "name": "python3"
  },
  "language_info": {
   "codemirror_mode": {
    "name": "ipython",
    "version": 3
   },
   "file_extension": ".py",
   "mimetype": "text/x-python",
   "name": "python",
   "nbconvert_exporter": "python",
   "pygments_lexer": "ipython3",
   "version": "3.6.4"
  }
 },
 "nbformat": 4,
 "nbformat_minor": 2
}
