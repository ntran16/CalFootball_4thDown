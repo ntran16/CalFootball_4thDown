{
 "cells": [
  {
   "cell_type": "markdown",
   "metadata": {},
   "source": [
    "### Find n most similar defenses based off of S&P+ ratings from 2014-2017"
   ]
  },
  {
   "cell_type": "code",
   "execution_count": 11,
   "metadata": {},
   "outputs": [],
   "source": [
    "import pandas as pd\n",
    "import numpy as np\n",
    "import urllib.request\n",
    "from bs4 import BeautifulSoup\n",
    "from collections import Counter\n",
    "import csv\n",
    "import re"
   ]
  },
  {
   "cell_type": "code",
   "execution_count": 20,
   "metadata": {},
   "outputs": [],
   "source": [
    "### does not utilize 2018 data yet\n",
    "### only implemented for defenses for now"
   ]
  },
  {
   "cell_type": "code",
   "execution_count": 18,
   "metadata": {},
   "outputs": [],
   "source": [
    "\"\"\"\n",
    "Extracts Defensive S&P+ ratings from Football Outsiders from 2014-2017.\n",
    "\n",
    "Returns: \n",
    "    Pandas Data Frame of S&P+ rating, Team, and Year.\n",
    "\n",
    "\"\"\"\n",
    "\n",
    "def get_defensive_s_and_p():\n",
    "    \n",
    "    def extract_team_name(x):\n",
    "        match = re.search('\\>(.*)\\<', x)\n",
    "        if match:\n",
    "            found = match.group(1)\n",
    "        return found\n",
    "\n",
    "    def extract_def_fei(x):\n",
    "        match = re.search('\\>(.*)\\<', x)\n",
    "        if match:\n",
    "            found = match.group(1)\n",
    "        return found\n",
    "\n",
    "    def extract_def_sp(x):\n",
    "        match = re.search('[0-9]*\\.[0-9]*', x)\n",
    "        if match:\n",
    "            found = match.group(0)\n",
    "        return found\n",
    "    \n",
    "    teams = []\n",
    "    defsp = []\n",
    "    year = []\n",
    "\n",
    "    for i in np.arange(2014, 2018):\n",
    "\n",
    "        url = \"https://www.footballoutsiders.com/stats/ncaadef\" + str(i)\n",
    "        page = urllib.request.urlopen(url).read()\n",
    "        soup = BeautifulSoup(page)\n",
    "\n",
    "        raw_team_name = []\n",
    "        raw_all_def_sp = []\n",
    "\n",
    "        for tr in soup.find_all('tr')[1:]:\n",
    "            tds = tr.find_all('td')\n",
    "            team = tds[0]\n",
    "            def_sp = tds[1]\n",
    "            raw_team_name.append(team)\n",
    "            raw_all_def_sp.append(def_sp)\n",
    "\n",
    "        raw_str_team_name = [str(x) for x in raw_team_name]\n",
    "        raw_str_def_sp = [str(x) for x in raw_all_def_sp]\n",
    "\n",
    "        teams.append([extract_team_name(x) for x in raw_str_team_name])\n",
    "        defsp.append([extract_def_sp(x) for x in raw_str_def_sp])\n",
    "        year.append([i]*len(raw_str_team_name))\n",
    "\n",
    "    teams = sum(teams, [])\n",
    "    defsp = sum(defsp, [])\n",
    "    year = sum(year, [])\n",
    "\n",
    "    s_and_p_data = pd.DataFrame({'Team' : teams, 'Def. S&P+' : defsp, 'Year' : year})\n",
    "    drop = s_and_p_data.iloc[:, 0] == \".\"\n",
    "    s_and_p_data = s_and_p_data[~drop]\n",
    "    s_and_p_data[\"Def. S&P+\"] = [float(x) for x in s_and_p_data[\"Def. S&P+\"]]\n",
    "    s_and_p_data = s_and_p_data.sort_values(\"Def. S&P+\").drop_duplicates()\n",
    "    print(\"Done!\")\n",
    "    return s_and_p_data"
   ]
  },
  {
   "cell_type": "code",
   "execution_count": 19,
   "metadata": {},
   "outputs": [
    {
     "name": "stdout",
     "output_type": "stream",
     "text": [
      "Done!\n"
     ]
    }
   ],
   "source": [
    "data = get_defensive_s_and_p()"
   ]
  },
  {
   "cell_type": "code",
   "execution_count": 16,
   "metadata": {},
   "outputs": [],
   "source": [
    "\"\"\"\n",
    "Uses S&P+ data from above to find the n most similar defenses\n",
    "\n",
    "Parameters: \n",
    "    team_rating - numeric S&P+ rating of team of interest\n",
    "    n - number of closest teams returned\n",
    "    data - output of get_defensive_s_and_p()\n",
    "    \n",
    "Returns: \n",
    "    List of tuples where each tuple has the following structure:\n",
    "        (Team name, year, absolute percent difference from team of interest)\n",
    "\"\"\"\n",
    "\n",
    "def n_closest_defense(team_rating, n, data):\n",
    "    closest_data = data.iloc[(data[\"Def. S&P+\"] - team_rating).abs().argsort()[:n]]\n",
    "    percent_diff = (abs(np.array(closest_data.loc[:, \"Def. S&P+\"]) - team_rating)/team_rating)*100\n",
    "    keys = closest_data.Team\n",
    "    values = closest_data.Year\n",
    "    return list(zip(keys, values, percent_diff))"
   ]
  },
  {
   "cell_type": "code",
   "execution_count": 17,
   "metadata": {},
   "outputs": [
    {
     "data": {
      "text/plain": [
       "[('Florida', 2016, 2.3076923076923128),\n",
       " ('LSU', 2016, 3.0769230769230793),\n",
       " ('Boston College', 2015, 4.6153846153846132),\n",
       " ('Michigan', 2015, 4.6153846153846132),\n",
       " ('Ohio State', 2016, 4.6153846153846132),\n",
       " ('Ole Miss', 2014, 6.1538461538461586),\n",
       " ('Clemson', 2014, 6.1538461538461586),\n",
       " ('Clemson', 2016, 6.1538461538461586),\n",
       " ('Alabama', 2017, 6.1538461538461586),\n",
       " ('Clemson', 2017, 6.923076923076926)]"
      ]
     },
     "execution_count": 17,
     "metadata": {},
     "output_type": "execute_result"
    }
   ],
   "source": [
    "n_closest_defense(13, 10, data)"
   ]
  }
 ],
 "metadata": {
  "kernelspec": {
   "display_name": "Python 3",
   "language": "python",
   "name": "python3"
  },
  "language_info": {
   "codemirror_mode": {
    "name": "ipython",
    "version": 3
   },
   "file_extension": ".py",
   "mimetype": "text/x-python",
   "name": "python",
   "nbconvert_exporter": "python",
   "pygments_lexer": "ipython3",
   "version": "3.6.2"
  }
 },
 "nbformat": 4,
 "nbformat_minor": 2
}
