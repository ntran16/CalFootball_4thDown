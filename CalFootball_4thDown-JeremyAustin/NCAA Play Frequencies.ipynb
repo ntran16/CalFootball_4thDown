{
 "cells": [
  {
   "cell_type": "code",
   "execution_count": 1,
   "metadata": {
    "collapsed": true
   },
   "outputs": [],
   "source": [
    "import pandas as pd\n",
    "import collections\n",
    "import matplotlib as mpl\n",
    "import matplotlib.pyplot as plt\n",
    "import numpy as np\n",
    "import os.path as checkPath"
   ]
  },
  {
   "cell_type": "code",
   "execution_count": 2,
   "metadata": {
    "collapsed": true
   },
   "outputs": [],
   "source": [
    "def loadData(year_filt, filter_functions):\n",
    "    pxp = []\n",
    "    #distance: yards to go\n",
    "    #yardLine: standardized to the 100 --> goal end zone 0\n",
    "    #type: playtype\n",
    "    cols = ['offenseAbbr', 'down', 'yardLine', 'distance', 'type', 'FieldGoalResult']\n",
    "    # 2001 to 2017\n",
    "    year_start_data = 2001\n",
    "    year_end_data = 2018\n",
    "    if year_filt is not None:\n",
    "        year_start_data, year_end_data = year_filt()\n",
    "    for year in range(year_start_data, year_end_data):\n",
    "        for weekNum in range(1, 16):\n",
    "            week = 'Week ' + str(weekNum)\n",
    "            file = 'Improved-NCAA-Football-Data/{0}PXP/PBP - {0} - '.format(year) + week + '.csv'\n",
    "            if (checkPath.isfile(file)):\n",
    "                plays = pd.read_csv(file, usecols=cols)\n",
    "                pxp.append(plays)\n",
    "\n",
    "    pxp = pd.concat(pxp)\n",
    "    pxp = pxp.loc[(pxp['down'] == 4) & (pxp['type'] != 'No Play') & (pxp['type'] != 'Fumble Recovery (Opponent)') & (pxp['type'] != 'Timeout') & (pxp['type'] != '')]\n",
    "    pxp['down'] = pxp['down'].apply(lambda down: int(down))\n",
    "    pxp['yardLine'] = pxp['yardLine'].apply(lambda yd: int(yd))\n",
    "    pxp['distance'] = pxp['distance'].apply(lambda yd: int(yd))\n",
    "    pxp['offenseAbbr'] = pxp['offenseAbbr'].apply(lambda team: str(team))\n",
    "    pxp['FieldGoalResult'] = pxp['FieldGoalResult'].apply(lambda result: int(result == 'Made'))\n",
    "    return pxp"
   ]
  },
  {
   "cell_type": "code",
   "execution_count": 3,
   "metadata": {
    "collapsed": true
   },
   "outputs": [],
   "source": [
    "def getTeamMapping(year_filt, filter_functions, condensed=True):\n",
    "    pxp = loadData(year_filt, filter_functions)\n",
    "    mapping = {}\n",
    "    for index, row in pxp.iterrows():\n",
    "        posteam = row['offenseAbbr']\n",
    "        yrdline100 = row['yardLine']\n",
    "        ydstogo = row['distance']\n",
    "        playtype = row['type']\n",
    "        if condensed:\n",
    "            #ALL SACKS ARE CLASSIFIED AS 'GO FOR IT'\n",
    "            if playtype != 'Field Goal' and playtype != 'Punt':\n",
    "                playtype = 'Go For It'       \n",
    "        if posteam in mapping:\n",
    "            yrdline100dict = mapping[posteam]\n",
    "            if yrdline100 in yrdline100dict:\n",
    "                ydstogomapping = yrdline100dict[yrdline100]\n",
    "                if ydstogo in ydstogomapping:\n",
    "                    playtypefreq = ydstogomapping[ydstogo]\n",
    "                    if playtype in playtypefreq:\n",
    "                        playtypefreq[playtype] += 1\n",
    "                    else:\n",
    "                        playtypefreq[playtype] = 1\n",
    "                else:\n",
    "                    ydstogomapping[ydstogo] = {}\n",
    "                    playtypefreq = ydstogomapping[ydstogo]\n",
    "                    playtypefreq[playtype] = 1\n",
    "            else:\n",
    "                yrdline100dict[yrdline100] = {}\n",
    "                ydstogomapping = yrdline100dict[yrdline100]\n",
    "                ydstogomapping[ydstogo] = {}\n",
    "                playtypefreq = ydstogomapping[ydstogo]\n",
    "                playtypefreq[playtype] = 1\n",
    "        else:\n",
    "            mapping[posteam] = {}\n",
    "            yrdline100dict = mapping[posteam]\n",
    "            yrdline100dict[yrdline100] = {}\n",
    "            ydstogomapping = yrdline100dict[yrdline100]\n",
    "            ydstogomapping[ydstogo] = {}\n",
    "            playtypefreq = ydstogomapping[ydstogo]\n",
    "            playtypefreq[playtype] = 1\n",
    "    if filter_functions is not None:\n",
    "        for filterf in filter_functions:\n",
    "            mapping = filterf(mapping)\n",
    "    return mapping"
   ]
  },
  {
   "cell_type": "code",
   "execution_count": 4,
   "metadata": {
    "collapsed": true
   },
   "outputs": [],
   "source": [
    "def getTeamMappingwFGResult(year_filt, filter_functions):\n",
    "    pxp = loadData(year_filt, filter_functions)\n",
    "    mapping = {}\n",
    "    negmapping = {}\n",
    "    fg_attempts = [0 for x in range(0, 100)]\n",
    "    for index, row in pxp.iterrows():\n",
    "        posteam = row['offenseAbbr']\n",
    "        yrdline100 = row['yardLine']\n",
    "        ydstogo = row['distance']\n",
    "        playtype = row['type']\n",
    "        fgresult = row['FieldGoalResult']    \n",
    "        if yrdline100 > 0 and yrdline100 <= 100:\n",
    "            if posteam in mapping:\n",
    "                yrdline100dict = mapping[posteam]\n",
    "                if yrdline100 in yrdline100dict:\n",
    "                    ydstogomapping = yrdline100dict[yrdline100]\n",
    "                    if ydstogo in ydstogomapping:\n",
    "                        ydstogomapping[ydstogo] += fgresult\n",
    "                        fg_attempts[yrdline100 - 1] += 1\n",
    "                    else:\n",
    "                        ydstogomapping[ydstogo] = fgresult\n",
    "                        fg_attempts[yrdline100 - 1] += 1\n",
    "                else:\n",
    "                    yrdline100dict[yrdline100] = {}\n",
    "                    ydstogomapping = yrdline100dict[yrdline100]\n",
    "                    ydstogomapping[ydstogo] = fgresult\n",
    "                    fg_attempts[yrdline100 - 1] += 1\n",
    "            else:\n",
    "                mapping[posteam] = {}\n",
    "                yrdline100dict = mapping[posteam]\n",
    "                yrdline100dict[yrdline100] = {}\n",
    "                ydstogomapping = yrdline100dict[yrdline100]\n",
    "                ydstogomapping[ydstogo] = fgresult\n",
    "                fg_attempts[yrdline100 - 1] += 1\n",
    "\n",
    "            if posteam in negmapping:\n",
    "                yrdline100dict = negmapping[posteam]\n",
    "                if yrdline100 in yrdline100dict:\n",
    "                    ydstogomapping = yrdline100dict[yrdline100]\n",
    "                    if ydstogo in ydstogomapping:\n",
    "                        ydstogomapping[ydstogo] += (fgresult - 1)\n",
    "                    else:\n",
    "                        ydstogomapping[ydstogo] = fgresult - 1\n",
    "                else:\n",
    "                    yrdline100dict[yrdline100] = {}\n",
    "                    ydstogomapping = yrdline100dict[yrdline100]\n",
    "                    ydstogomapping[ydstogo] = fgresult - 1\n",
    "            else:\n",
    "                negmapping[posteam] = {}\n",
    "                yrdline100dict = negmapping[posteam]\n",
    "                yrdline100dict[yrdline100] = {}\n",
    "                ydstogomapping = yrdline100dict[yrdline100]\n",
    "                ydstogomapping[ydstogo] = fgresult - 1\n",
    "            \n",
    "    if filter_functions is not None:\n",
    "        for filterf in filter_functions:\n",
    "            mapping = filterf(mapping)\n",
    "    return mapping, negmapping, fg_attempts"
   ]
  },
  {
   "cell_type": "code",
   "execution_count": 5,
   "metadata": {
    "collapsed": true
   },
   "outputs": [],
   "source": [
    "mapping = {}\n",
    "neg_mapping = {}\n",
    "fg_attempts = []"
   ]
  },
  {
   "cell_type": "code",
   "execution_count": 6,
   "metadata": {
    "collapsed": true
   },
   "outputs": [],
   "source": [
    "def playteamfrequency(team, yrdLine, ydstogo):\n",
    "    #trying to make this global so it doesn't have to undergo this function call every time this method used.\n",
    "    #(used in a loop)\n",
    "    #mapping = getTeamMapping(year_filt, filter_functions)\n",
    "    if yrdLine <= 0 or yrdLine >= 100:\n",
    "        raise ValueError('Invalid yard line')\n",
    "    if team not in mapping:\n",
    "        raise ValueError('No such team ' + team + ' in the given data.')\n",
    "    if yrdLine not in mapping[team]:\n",
    "        raise ValueError('No such YrdLine found for ' + team + ' in the data.')\n",
    "    if ydstogo not in mapping[team][yrdLine]:\n",
    "        raise ValueError('No plays 4th and ' + str(ydstogo) + ' at the ' + str(yrdLine) + ' yard line')\n",
    "    \n",
    "    playfrequencies = mapping[team][yrdLine][ydstogo]\n",
    "    playTypes = ['Go For It', 'Punt', 'Field Goal']\n",
    "    frequency = []\n",
    "\n",
    "    if 'Go For It' in playfrequencies:\n",
    "        frequency.append(playfrequencies['Go For It'])\n",
    "    else:\n",
    "        frequency.append(0)\n",
    "            \n",
    "    if 'Punt' in playfrequencies:\n",
    "        frequency.append(playfrequencies['Punt'])\n",
    "    else:\n",
    "        frequency.append(0)\n",
    "        \n",
    "    if 'Field Goal' in playfrequencies:\n",
    "        frequency.append(playfrequencies['Field Goal'])\n",
    "    else:\n",
    "        frequency.append(0)\n",
    "\n",
    "\n",
    "    #plt.bar(playTypes, frequency)\n",
    "    #plt.xlabel('Play Type')\n",
    "    #plt.ylabel('Frequency')\n",
    "    #plt.title('Team: ' + team + ' at 4th and ' + str(ydstogo) + ' at the ' + str(yrdLine) + ' yard line')\n",
    "    \n",
    "    #plt.show()\n",
    "            \n",
    "    return frequency"
   ]
  },
  {
   "cell_type": "code",
   "execution_count": null,
   "metadata": {
    "collapsed": true
   },
   "outputs": [],
   "source": []
  },
  {
   "cell_type": "code",
   "execution_count": 7,
   "metadata": {
    "collapsed": true
   },
   "outputs": [],
   "source": [
    "def getBiggestPlay(team, yrdLine, yrdstogo): \n",
    "    countPlays = playteamfrequency(team, yrdLine, yrdstogo)\n",
    "    \n",
    "    max = countPlays[0]\n",
    "    maxIndex = 0\n",
    "    for i in range(1, len(countPlays)):\n",
    "        if countPlays[i] > max:\n",
    "            max = countPlays[i]\n",
    "            maxIndex = i\n",
    "    if maxIndex == 0:\n",
    "        return 'Go For It', max\n",
    "    elif maxIndex == 1:\n",
    "        return 'Punt', max\n",
    "    elif maxIndex == 2:\n",
    "        return 'Field Goal', max"
   ]
  },
  {
   "cell_type": "code",
   "execution_count": 8,
   "metadata": {
    "collapsed": true
   },
   "outputs": [],
   "source": [
    "def getmostcommonplaybyteam(team):\n",
    "    teamdict = mapping[team]\n",
    "    \n",
    "    \n",
    "    #most common is a 2D dictionary in which is organized by yrdline and yrds to go.\n",
    "    #it stores 1 of 3 possible strings which shows the most common play on 4th down\n",
    "    most_common = {}\n",
    "    \n",
    "    #number of most common plays is also a 2D dictionary in which is organized by yrdline and yrds to go.\n",
    "    #At yrd Line L, and yrds to go G, it stores the number of times play most_common[L][G] was made.\n",
    "    number_of_most_common_plays = {}\n",
    "    \n",
    "    for i in range(1, 100):\n",
    "        if i in teamdict:\n",
    "            yrdline100dict = teamdict[i]\n",
    "            most_common[i] = {}\n",
    "            number_of_most_common_plays[i] = {}\n",
    "            for j in range(1, 10):\n",
    "                if j in yrdline100dict:\n",
    "                    most_common_play, number_of_plays = getBiggestPlay(team, i, j)\n",
    "                    most_common[i][j] = most_common_play\n",
    "                    number_of_most_common_plays[i][j] = number_of_plays\n",
    "    \n",
    "    \n",
    "    return pd.DataFrame(most_common), most_common, number_of_most_common_plays"
   ]
  },
  {
   "cell_type": "code",
   "execution_count": 9,
   "metadata": {
    "collapsed": true
   },
   "outputs": [],
   "source": [
    "\n",
    "#df"
   ]
  },
  {
   "cell_type": "code",
   "execution_count": 10,
   "metadata": {
    "collapsed": true
   },
   "outputs": [],
   "source": [
    "cmap = plt.cm.magma\n"
   ]
  },
  {
   "cell_type": "code",
   "execution_count": 11,
   "metadata": {
    "collapsed": true
   },
   "outputs": [],
   "source": [
    "def mostCommonMap(team):\n",
    "    df, mostcommon, num_most_common = getmostcommonplaybyteam(team)\n",
    "    data = np.zeros((9, 99))\n",
    "    val = 0\n",
    "    for i in range(1, 10):\n",
    "        for j in range(1, 100):\n",
    "            if j not in mostcommon:\n",
    "                val = np.nan\n",
    "            else:\n",
    "                if i in mostcommon[j]:\n",
    "                    decision = mostcommon[j][i]\n",
    "                    if decision == 'Punt':\n",
    "                        val = 0\n",
    "                    elif decision == 'Go For It':\n",
    "                        val = 5\n",
    "                    elif decision == 'Field Goal':\n",
    "                        val = 10\n",
    "                else:\n",
    "                    val = np.nan\n",
    "            data[i - 1, j - 1] = val\n",
    "\n",
    "\n",
    "    data = data[::-1,::-1]\n",
    "\n",
    "    fig, ax = plt.subplots(figsize=(12, 9))\n",
    "\n",
    "    ax.pcolor(\n",
    "        data,\n",
    "        vmin = 1,\n",
    "        vmax = 15,\n",
    "        edgecolors='k', \n",
    "        linewidths=.2,\n",
    "        cmap=cmap,\n",
    "        alpha=.6\n",
    "    );\n",
    "    ax.set_xticks([0, 10, 20, 30, 40, 50, 60, 70, 80, 90, 100])\n",
    "    ax.set_xticklabels(['100', '90', '80', '70', '60', '50', '40', '30', '20', '10', 'Goal'])\n",
    "    ax.set_yticks([yd - .5 for yd in range(1, 10)])\n",
    "    ax.set_yticklabels(['4th and {}'.format(yd) for yd in range(9, 0, -1)])\n",
    "    ax.tick_params(axis='both', which='major', labelsize=15)\n",
    "\n",
    "    plt.show()"
   ]
  },
  {
   "cell_type": "code",
   "execution_count": null,
   "metadata": {
    "collapsed": true
   },
   "outputs": [],
   "source": []
  },
  {
   "cell_type": "code",
   "execution_count": null,
   "metadata": {
    "collapsed": true
   },
   "outputs": [],
   "source": []
  },
  {
   "cell_type": "code",
   "execution_count": 12,
   "metadata": {
    "collapsed": true
   },
   "outputs": [],
   "source": [
    "def printHeatMap(team):\n",
    "    playfrequencies = {}\n",
    "    data = np.zeros((9, 99))\n",
    "    if team not in mapping:\n",
    "        raise ValueError('No such team ' + team + ' in the given data with set constraints.')\n",
    "    for i in range(1, 10):\n",
    "        for j in range(1, 100):\n",
    "            if j in mapping[team]:\n",
    "                if i in mapping[team][j]:\n",
    "                    playfrequencies[j] = {}\n",
    "                    playfrequencies[j][i] = playteamfrequency(team, j, i)\n",
    "                    freq = playfrequencies[j][i]\n",
    "                    goforit = freq[0]\n",
    "                    punt = freq[1]\n",
    "                    fieldgoal = freq[2]\n",
    "                    total = goforit + punt + fieldgoal\n",
    "                    goforit = goforit / total\n",
    "                    punt = punt / total\n",
    "                    fieldgoal = fieldgoal / total\n",
    "                    val = 5 + punt * -5 + fieldgoal * 5\n",
    "                else:\n",
    "                    val = np.nan\n",
    "            else:\n",
    "                val = np.nan\n",
    "            data[i - 1, j - 1] = val\n",
    "    data = data[::-1,::-1]\n",
    "\n",
    "    fig, ax = plt.subplots(1, 1, figsize=(12, 9))\n",
    "\n",
    "    ax.pcolor(data, edgecolors='k', linewidths=.2, cmap=cmap, alpha=.6)\n",
    "    ax.set_xticks([0, 10, 20, 30, 40, 50, 60, 70, 80, 90, 100])\n",
    "    ax.set_xticklabels(['100', '90', '80', '70', '60', '50', '40', '30', '20', '10', 'Goal'])\n",
    "    ax.set_yticks([yd - .5 for yd in range(1, 10)])\n",
    "    ax.set_yticklabels(['4th and {}'.format(yd) for yd in range(9, 0, -1)])\n",
    "    ax.tick_params(axis='both', which='major', labelsize=15)\n",
    "\n",
    "    ax2 = fig.add_axes([0.95, 0.1, 0.03, 0.8])\n",
    "    cb = mpl.colorbar.ColorbarBase(ax2, cmap=cmap, ticks=[0, 0.5, 1])\n",
    "    cb.ax.set_yticklabels(['Punt', 'Go For It', 'Field Goal']) \n",
    "\n",
    "    plt.show()"
   ]
  },
  {
   "cell_type": "code",
   "execution_count": 13,
   "metadata": {
    "collapsed": true
   },
   "outputs": [],
   "source": [
    "############################################################################################################\n",
    "\n",
    "################ MUST BE CALLED BEFORE OTHER FUNCTION CALLS IF WANTING TO FILTER DATA. #####################\n",
    "\n",
    "############################################################################################################\n",
    "\n",
    "def filterMap(year_filt, filter_functions, FGResultWanted):\n",
    "    fg_attempts = None\n",
    "    if not FGResultWanted:\n",
    "        global mapping\n",
    "        mapping = getTeamMapping(year_filt, filter_functions)\n",
    "    else:\n",
    "        global neg_mapping\n",
    "        mapping, neg_mapping, fg_attempts = getTeamMappingwFGResult(year_filt, filter_functions)\n",
    "    if fg_attempts is not None:\n",
    "        return fg_attempts"
   ]
  },
  {
   "cell_type": "code",
   "execution_count": 14,
   "metadata": {
    "collapsed": true
   },
   "outputs": [],
   "source": [
    "def anderson_year_filter():\n",
    "    return 2015, 2018"
   ]
  },
  {
   "cell_type": "code",
   "execution_count": null,
   "metadata": {
    "collapsed": true
   },
   "outputs": [],
   "source": []
  },
  {
   "cell_type": "code",
   "execution_count": 15,
   "metadata": {
    "collapsed": true
   },
   "outputs": [],
   "source": [
    "filterMap(None, None, False)"
   ]
  },
  {
   "cell_type": "code",
   "execution_count": 16,
   "metadata": {},
   "outputs": [
    {
     "name": "stderr",
     "output_type": "stream",
     "text": [
      "/Users/ericherrmann/anaconda/lib/python3.6/site-packages/matplotlib/colors.py:496: RuntimeWarning: invalid value encountered in less\n",
      "  cbook._putmask(xa, xa < 0.0, -1)\n"
     ]
    },
    {
     "data": {
      "image/png": "[encoded data removed]",
      "text/plain": [
       "<matplotlib.figure.Figure at 0x1167f9c50>"
      ]
     },
     "metadata": {},
     "output_type": "display_data"
    }
   ],
   "source": [
    "mostCommonMap('CAL')"
   ]
  },
  {
   "cell_type": "code",
   "execution_count": 17,
   "metadata": {},
   "outputs": [
    {
     "name": "stderr",
     "output_type": "stream",
     "text": [
      "/Users/ericherrmann/anaconda/lib/python3.6/site-packages/matplotlib/colors.py:496: RuntimeWarning: invalid value encountered in less\n",
      "  cbook._putmask(xa, xa < 0.0, -1)\n"
     ]
    },
    {
     "data": {
      "image/png": "[encoded data removed]",
      "text/plain": [
       "<matplotlib.figure.Figure at 0x1167f9e10>"
      ]
     },
     "metadata": {},
     "output_type": "display_data"
    }
   ],
   "source": [
    "printHeatMap('CAL')"
   ]
  },
  {
   "cell_type": "code",
   "execution_count": 18,
   "metadata": {
    "collapsed": true
   },
   "outputs": [],
   "source": [
    "def printHeatMap_10yd_increments(team):\n",
    "    playfrequencies = {}\n",
    "    data = np.zeros((9, 99))\n",
    "    if team not in mapping:\n",
    "        raise ValueError('No such team ' + team + ' in the given data with set constraints.')\n",
    "    for i in range(1, 10):\n",
    "        for j in range(1, 100):\n",
    "            if j in mapping[team]:\n",
    "                if i in mapping[team][j]:\n",
    "                    playfrequencies[j] = {}\n",
    "                    playfrequencies[j][i] = playteamfrequency(team, j, i)\n",
    "                    freq = playfrequencies[j][i]\n",
    "                    goforit = freq[0]\n",
    "                    punt = freq[1]\n",
    "                    fieldgoal = freq[2]\n",
    "                    total = goforit + punt + fieldgoal\n",
    "                else:\n",
    "                    val = np.nan\n",
    "            else:\n",
    "                val = np.nan\n",
    "            if (j % 10 == 0):\n",
    "                goforit = goforit / total\n",
    "                punt = punt / total\n",
    "                fieldgoal = fieldgoal / total\n",
    "                val = 5 + punt * -5 + fieldgoal * 5\n",
    "                test = (int) (j / 10 - 1)\n",
    "                for t in range(j - 10, j):\n",
    "                    data[i - 1, t] = val\n",
    "    data = data[::-1,::-1]\n",
    "\n",
    "    fig, ax = plt.subplots(1, 1, figsize=(12, 9))\n",
    "\n",
    "    ax.pcolor(data, edgecolors='k', linewidths=0, cmap=cmap, alpha=0.6)\n",
    "    ax.set_xticks([0, 10, 20, 30, 40, 50, 60, 70, 80, 90, 100])\n",
    "    ax.set_xticklabels(['100', '90', '80', '70', '60', '50', '40', '30', '20', '10', 'Goal'])\n",
    "    ax.set_yticks([yd - .5 for yd in range(1, 10)])\n",
    "    ax.set_yticklabels(['4th and {}'.format(yd) for yd in range(9, 0, -1)])\n",
    "    ax.tick_params(axis='both', which='major', labelsize=20)\n",
    "\n",
    "    ax2 = fig.add_axes([0.95, 0.1, 0.03, 0.8])\n",
    "    cb = mpl.colorbar.ColorbarBase(ax2, cmap=cmap, ticks=[0, 5, 10])\n",
    "    cb.ax.set_yticklabels(['Punt', 'Go For It', 'Field Goal']) \n",
    "\n",
    "    plt.show()"
   ]
  },
  {
   "cell_type": "code",
   "execution_count": 19,
   "metadata": {},
   "outputs": [
    {
     "data": {
      "image/png": "[encoded data removed]",
      "text/plain": [
       "<matplotlib.figure.Figure at 0x10fff39e8>"
      ]
     },
     "metadata": {},
     "output_type": "display_data"
    }
   ],
   "source": [
    "printHeatMap_10yd_increments('CAL')"
   ]
  },
  {
   "cell_type": "code",
   "execution_count": 20,
   "metadata": {
    "collapsed": true
   },
   "outputs": [],
   "source": [
    "PAC_12 = ['USC', ]"
   ]
  },
  {
   "cell_type": "code",
   "execution_count": 21,
   "metadata": {
    "collapsed": true
   },
   "outputs": [],
   "source": [
    "fg_attempts = filterMap(anderson_year_filter, None, True)"
   ]
  },
  {
   "cell_type": "code",
   "execution_count": null,
   "metadata": {
    "collapsed": true
   },
   "outputs": [],
   "source": []
  },
  {
   "cell_type": "code",
   "execution_count": 22,
   "metadata": {
    "collapsed": true
   },
   "outputs": [],
   "source": [
    "def exportAndersonData(team):\n",
    "    global fg_attempts\n",
    "    df = {}\n",
    "    yrd_line_made = [None] * 50\n",
    "    attempt_corresponding = [0] * 50\n",
    "    index_made = 0\n",
    "    for yrdline100 in mapping[team]:\n",
    "        num_made_fg = 0\n",
    "        for ydstogo in mapping[team][yrdline100]:\n",
    "            num_made_fg += mapping[team][yrdline100][ydstogo]\n",
    "        if num_made_fg > 0:\n",
    "            yrd_line_made[index_made] = yrdline100\n",
    "            attempt_corresponding[index_made] = fg_attempts[yrdline100]\n",
    "            index_made += 1\n",
    "            \n",
    "    yrd_line_missed = [None] * 100\n",
    "    attempt_corresponding_missed = [0] * 100\n",
    "    index_missed = 0\n",
    "    for yrdline100 in neg_mapping[team]:\n",
    "        num_missed_fg = 0\n",
    "        for ydstogo in neg_mapping[team][yrdline100]:\n",
    "            num_missed_fg += neg_mapping[team][yrdline100][ydstogo]\n",
    "        if num_missed_fg < 0:\n",
    "            yrd_line_missed[index_missed] = yrdline100\n",
    "            attempt_corresponding_missed[index_missed] = fg_attempts[yrdline100]\n",
    "            index_missed += 1\n",
    "    \n",
    "    new_made_yrdline = [yrd_line_made[i] for i in range(0, 50) if yrd_line_made[i] is not None]\n",
    "    corr_attempts_made = [attempt_corresponding[i] for i in range(0, 50) if yrd_line_made[i] is not None]\n",
    "    new_missed_yrdline = [yrd_line_missed[i] for i in range(0, 50) if yrd_line_missed[i] is not None]\n",
    "    corr_attempts_missed = [attempt_corresponding_missed[i] for i in range(0, 50) if yrd_line_missed[i] is not None]\n",
    "    \n",
    "    #The following is extremely messy- used to fix a bug. Will clean up later.\n",
    "    df['FG Made (Yard Line)'] = new_made_yrdline\n",
    "    df2 = {}\n",
    "    df2['Attempts'] = corr_attempts_made\n",
    "    df3 = {}\n",
    "    df3['FG Missed (Yard Line)'] = new_missed_yrdline\n",
    "    df4 = {}\n",
    "    df4['Attempts From This YD Line'] = corr_attempts_missed\n",
    "    \n",
    "    \n",
    "    df = pd.DataFrame(df)\n",
    "    df2 = pd.DataFrame(df2)\n",
    "    df3 = pd.DataFrame(df3)\n",
    "    df4 = pd.DataFrame(df4)\n",
    "    #writer = pd.ExcelWriter('Anderson-Data.xlsx', engine='xlsxwriter')\n",
    "    #df.to_excel(writer, sheet_name='Sheet1')\n",
    "    #writer.save()\n",
    "    \n",
    "    df.to_csv(\"FG MADE MATT ANDERSON.csv\")\n",
    "    df2.to_csv(\"FG ATTEMPTS-CORRESPONDING TO MADE- MATT ANDERSON.csv\")\n",
    "    df3.to_csv(\"FG MISSED MATT ANDERSON.csv\")\n",
    "    df4.to_csv(\"FG ATTEMPTS-CORRESPONDING TO MISS- MATT ANDERSON.csv\")"
   ]
  },
  {
   "cell_type": "code",
   "execution_count": 23,
   "metadata": {
    "collapsed": true
   },
   "outputs": [],
   "source": [
    "exportAndersonData('CAL')"
   ]
  },
  {
   "cell_type": "code",
   "execution_count": null,
   "metadata": {
    "collapsed": true
   },
   "outputs": [],
   "source": []
  },
  {
   "cell_type": "code",
   "execution_count": null,
   "metadata": {
    "collapsed": true
   },
   "outputs": [],
   "source": []
  }
 ],
 "metadata": {
  "kernelspec": {
   "display_name": "Python 3",
   "language": "python",
   "name": "python3"
  },
  "language_info": {
   "codemirror_mode": {
    "name": "ipython",
    "version": 3
   },
   "file_extension": ".py",
   "mimetype": "text/x-python",
   "name": "python",
   "nbconvert_exporter": "python",
   "pygments_lexer": "ipython3",
   "version": "3.6.4"
  }
 },
 "nbformat": 4,
 "nbformat_minor": 2
}
