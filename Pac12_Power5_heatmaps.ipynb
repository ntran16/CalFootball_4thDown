{
 "cells": [
  {
   "cell_type": "markdown",
   "metadata": {},
   "source": [
    "### Pac 12 and Power 5 Heatmaps"
   ]
  },
  {
   "cell_type": "code",
   "execution_count": 1,
   "metadata": {},
   "outputs": [
    {
     "data": {
      "text/plain": [
       "{'divide': 'warn', 'over': 'warn', 'under': 'ignore', 'invalid': 'warn'}"
      ]
     },
     "execution_count": 1,
     "metadata": {},
     "output_type": "execute_result"
    }
   ],
   "source": [
    "import pandas as pd\n",
    "import matplotlib.pyplot as plt\n",
    "import numpy as np\n",
    "import seaborn as sns\n",
    "from get_data import get_data\n",
    "np.seterr(divide='ignore', invalid='ignore')"
   ]
  },
  {
   "cell_type": "code",
   "execution_count": 3,
   "metadata": {},
   "outputs": [
    {
     "name": "stdout",
     "output_type": "stream",
     "text": [
      "Done!\n"
     ]
    }
   ],
   "source": [
    "data = get_data(\"all\")\n",
    "print(\"Done!\")"
   ]
  },
  {
   "cell_type": "code",
   "execution_count": 8,
   "metadata": {},
   "outputs": [
    {
     "name": "stdout",
     "output_type": "stream",
     "text": [
      "Done!\n"
     ]
    }
   ],
   "source": [
    "keys = np.arange(0, 101)\n",
    "decisions1 = dict((x, []) for x in keys)\n",
    "decisions2 = dict((x, []) for x in keys)\n",
    "decisions3 = dict((x, []) for x in keys)\n",
    "decisions4 = dict((x, []) for x in keys)\n",
    "decisions5 = dict((x, []) for x in keys)\n",
    "decisions6 = dict((x, []) for x in keys)\n",
    "decisions7 = dict((x, []) for x in keys)\n",
    "decisions8 = dict((x, []) for x in keys)\n",
    "decisions9 = dict((x, []) for x in keys)\n",
    "\n",
    "for x in np.arange(1, 10):\n",
    "    fourth_and_x = data.loc[(data.down == 4) & (data.distance == x) & (data.type != \"Timeout\") & (data.type != \"No Play\") & (data.type != \"Kickoff\") & (data.type != \"End of Game\") & (data.type != \"Quarter End\") & (data.distance <= data.yardLine), :]#.drop(data.loc[(data.yardLine - data.yardsGained != 0) & (data.Touchdown == 1), :].index)\n",
    "\n",
    "    for index, row in fourth_and_x.iterrows():\n",
    "        locals()[\"decisions\" + str(x)][row.yardLine].append(row.type)\n",
    "print(\"Done!\")"
   ]
  },
  {
   "cell_type": "code",
   "execution_count": 9,
   "metadata": {},
   "outputs": [
    {
     "name": "stdout",
     "output_type": "stream",
     "text": [
      "Done!\n"
     ]
    }
   ],
   "source": [
    "num_4_1_per_yardline = list()\n",
    "num_4_2_per_yardline = list()\n",
    "num_4_3_per_yardline = list()\n",
    "num_4_4_per_yardline = list()\n",
    "num_4_5_per_yardline = list()\n",
    "num_4_6_per_yardline = list()\n",
    "num_4_7_per_yardline = list()\n",
    "num_4_8_per_yardline = list()\n",
    "num_4_9_per_yardline = list()\n",
    "\n",
    "for x in np.arange(1, 10):\n",
    "    #counts = data.loc[(data.down == 4) & (data.distance == x) & (data.type != \"Timeout\") & (data.type != \"No Play\") & (data.type != \"Kickoff\") & (data.type != \"End of Game\") & (data.type != \"Quarter End\") & (data.distance <= data.yardLine), :].drop(data.loc[(data.yardLine - data.yardsGained != 0) & (data.Touchdown == 1), :].index).groupby(\"yardLine\").count()\n",
    "    counts = data.loc[(data.down == 4) & (data.distance == x) & (data.type != \"Timeout\") & (data.type != \"No Play\") & (data.type != \"Kickoff\") & (data.type != \"End of Game\") & (data.type != \"Quarter End\") & (data.distance <= data.yardLine), :].groupby(\"yardLine\").count()\n",
    "\n",
    "    missing_yard_lines = list(set(keys) - set(counts.index))\n",
    "    \n",
    "    for y in missing_yard_lines:\n",
    "        counts.loc[y] = 0\n",
    "    \n",
    "    counts = counts.sort_index()\n",
    "    locals()[\"num_4_\" + str(x) + \"_per_yardline\"] = list(counts.gameId)\n",
    "print(\"Done!\")"
   ]
  },
  {
   "cell_type": "code",
   "execution_count": 10,
   "metadata": {},
   "outputs": [],
   "source": [
    "num_punts_4_1 = []\n",
    "num_fgs_4_1 = []\n",
    "num_go_4_1 = []\n",
    "num_punts_4_2 = []\n",
    "num_fgs_4_2 = []\n",
    "num_go_4_2 = []\n",
    "num_punts_4_3 = []\n",
    "num_fgs_4_3 = []\n",
    "num_go_4_3 = []\n",
    "num_punts_4_4 = []\n",
    "num_fgs_4_4 = []\n",
    "num_go_4_4 = []\n",
    "num_punts_4_5 = []\n",
    "num_fgs_4_5 = []\n",
    "num_go_4_5 = []\n",
    "num_punts_4_6 = []\n",
    "num_fgs_4_6 = []\n",
    "num_go_4_6 = []\n",
    "num_punts_4_7 = []\n",
    "num_fgs_4_7 = []\n",
    "num_go_4_7 = []\n",
    "num_punts_4_8 = []\n",
    "num_fgs_4_8 = []\n",
    "num_go_4_8 = []\n",
    "num_punts_4_9 = []\n",
    "num_fgs_4_9 = []\n",
    "num_go_4_9 = []"
   ]
  },
  {
   "cell_type": "code",
   "execution_count": 11,
   "metadata": {},
   "outputs": [],
   "source": [
    "for x in np.arange(1, 10):\n",
    "    for y in locals()[\"decisions\" + str(x)].values():\n",
    "        locals()[\"num_punts_4_\" + str(x)].append(y.count(\"Punt\"))\n",
    "        locals()[\"num_fgs_4_\" + str(x)].append(y.count(\"Field Goal\"))\n",
    "        locals()[\"num_go_4_\" + str(x)].append(y.count(\"Rush\") + y.count(\"Pass\") + y.count(\"Sack\"))"
   ]
  },
  {
   "cell_type": "code",
   "execution_count": 12,
   "metadata": {},
   "outputs": [],
   "source": [
    "%%capture\n",
    "\n",
    "num_go_4_1 = np.array(num_go_4_1)\n",
    "num_go_4_1[num_go_4_1 < 4] = 0\n",
    "\n",
    "num_go_4_2 = np.array(num_go_4_2)\n",
    "num_go_4_2[num_go_4_2 < 4] = 0\n",
    "\n",
    "num_go_4_3 = np.array(num_go_4_3)\n",
    "num_go_4_3[num_go_4_3 < 4] = 0\n",
    "\n",
    "num_go_4_4 = np.array(num_go_4_4)\n",
    "num_go_4_4[num_go_4_4 < 4] = 0\n",
    "\n",
    "num_go_4_5 = np.array(num_go_4_5)\n",
    "num_go_4_5[num_go_4_5 < 4] = 0\n",
    "\n",
    "num_go_4_6 = np.array(num_go_4_6)\n",
    "num_go_4_6[num_go_4_6 < 4] = 0\n",
    "\n",
    "num_go_4_7 = np.array(num_go_4_7)\n",
    "num_go_4_7[num_go_4_7 < 4] = 0\n",
    "\n",
    "num_go_4_8 = np.array(num_go_4_8)\n",
    "num_go_4_8[num_go_4_8 < 4] = 0\n",
    "\n",
    "num_go_4_9 = np.array(num_go_4_9)\n",
    "num_go_4_9[num_go_4_9 < 4] = 0\n",
    "\n",
    "\n",
    "prop_go_4_1 = num_go_4_1/np.array(num_4_1_per_yardline)\n",
    "prop_go_4_2 = num_go_4_2/np.array(num_4_2_per_yardline)\n",
    "prop_go_4_3 = num_go_4_3/np.array(num_4_3_per_yardline)\n",
    "prop_go_4_4 = num_go_4_4/np.array(num_4_4_per_yardline)\n",
    "prop_go_4_5 = num_go_4_5/np.array(num_4_5_per_yardline)\n",
    "prop_go_4_6 = num_go_4_6/np.array(num_4_6_per_yardline)\n",
    "prop_go_4_7 = num_go_4_7/np.array(num_4_7_per_yardline)\n",
    "prop_go_4_8 = num_go_4_8/np.array(num_4_8_per_yardline)\n",
    "prop_go_4_9 = num_go_4_9/np.array(num_4_9_per_yardline)"
   ]
  },
  {
   "cell_type": "code",
   "execution_count": 13,
   "metadata": {},
   "outputs": [],
   "source": [
    "prop_fgs_4_1 = num_fgs_4_1/np.array(num_4_1_per_yardline)\n",
    "prop_fgs_4_2 = num_fgs_4_2/np.array(num_4_2_per_yardline)\n",
    "prop_fgs_4_3 = num_fgs_4_3/np.array(num_4_3_per_yardline)\n",
    "prop_fgs_4_4 = num_fgs_4_4/np.array(num_4_4_per_yardline)\n",
    "prop_fgs_4_5 = num_fgs_4_5/np.array(num_4_5_per_yardline)\n",
    "prop_fgs_4_6 = num_fgs_4_6/np.array(num_4_6_per_yardline)\n",
    "prop_fgs_4_7 = num_fgs_4_7/np.array(num_4_7_per_yardline)\n",
    "prop_fgs_4_8 = num_fgs_4_8/np.array(num_4_8_per_yardline)\n",
    "prop_fgs_4_9 = num_fgs_4_9/np.array(num_4_9_per_yardline)"
   ]
  },
  {
   "cell_type": "code",
   "execution_count": 14,
   "metadata": {},
   "outputs": [],
   "source": [
    "prop_punts_4_1 = num_punts_4_1/np.array(num_4_1_per_yardline)\n",
    "prop_punts_4_2 = num_punts_4_2/np.array(num_4_2_per_yardline)\n",
    "prop_punts_4_3 = num_punts_4_3/np.array(num_4_3_per_yardline)\n",
    "prop_punts_4_4 = num_punts_4_4/np.array(num_4_4_per_yardline)\n",
    "prop_punts_4_5 = num_punts_4_5/np.array(num_4_5_per_yardline)\n",
    "prop_punts_4_6 = num_punts_4_6/np.array(num_4_6_per_yardline)\n",
    "prop_punts_4_7 = num_punts_4_7/np.array(num_4_7_per_yardline)\n",
    "prop_punts_4_8 = num_punts_4_8/np.array(num_4_8_per_yardline)\n",
    "prop_punts_4_9 = num_punts_4_9/np.array(num_4_9_per_yardline)"
   ]
  },
  {
   "cell_type": "code",
   "execution_count": 15,
   "metadata": {},
   "outputs": [],
   "source": [
    "prop_go_4_1[np.isnan(prop_go_4_1)] = 0\n",
    "prop_go_4_2[np.isnan(prop_go_4_2)] = 0\n",
    "prop_go_4_3[np.isnan(prop_go_4_3)] = 0\n",
    "prop_go_4_4[np.isnan(prop_go_4_4)] = 0\n",
    "prop_go_4_5[np.isnan(prop_go_4_5)] = 0\n",
    "prop_go_4_6[np.isnan(prop_go_4_6)] = 0\n",
    "prop_go_4_7[np.isnan(prop_go_4_7)] = 0\n",
    "prop_go_4_8[np.isnan(prop_go_4_8)] = 0\n",
    "prop_go_4_9[np.isnan(prop_go_4_9)] = 0"
   ]
  },
  {
   "cell_type": "code",
   "execution_count": 16,
   "metadata": {},
   "outputs": [],
   "source": [
    "prop_fgs_4_1[np.isnan(prop_fgs_4_1)] = 0\n",
    "prop_fgs_4_2[np.isnan(prop_fgs_4_2)] = 0\n",
    "prop_fgs_4_3[np.isnan(prop_fgs_4_3)] = 0\n",
    "prop_fgs_4_4[np.isnan(prop_fgs_4_4)] = 0\n",
    "prop_fgs_4_5[np.isnan(prop_fgs_4_5)] = 0\n",
    "prop_fgs_4_6[np.isnan(prop_fgs_4_6)] = 0\n",
    "prop_fgs_4_7[np.isnan(prop_fgs_4_7)] = 0\n",
    "prop_fgs_4_8[np.isnan(prop_fgs_4_8)] = 0\n",
    "prop_fgs_4_9[np.isnan(prop_fgs_4_9)] = 0"
   ]
  },
  {
   "cell_type": "code",
   "execution_count": 17,
   "metadata": {},
   "outputs": [],
   "source": [
    "prop_punts_4_1[np.isnan(prop_punts_4_1)] = 0\n",
    "prop_punts_4_2[np.isnan(prop_punts_4_2)] = 0\n",
    "prop_punts_4_3[np.isnan(prop_punts_4_3)] = 0\n",
    "prop_punts_4_4[np.isnan(prop_punts_4_4)] = 0\n",
    "prop_punts_4_5[np.isnan(prop_punts_4_5)] = 0\n",
    "prop_punts_4_6[np.isnan(prop_punts_4_6)] = 0\n",
    "prop_punts_4_7[np.isnan(prop_punts_4_7)] = 0\n",
    "prop_punts_4_8[np.isnan(prop_punts_4_8)] = 0\n",
    "prop_punts_4_9[np.isnan(prop_punts_4_9)] = 0"
   ]
  },
  {
   "cell_type": "code",
   "execution_count": 18,
   "metadata": {},
   "outputs": [],
   "source": [
    "prop_go_data = pd.DataFrame(columns = np.arange(0, 101), index = [\"4th and 1\", \"4th and 2\", \"4th and 3\", \"4th and 4\", \"4th and 5\", \"4th and 6\", \"4th and 7\", \"4th and 8\", \"4th and 9\"])\n",
    "prop_fgs_data = pd.DataFrame(columns = np.arange(0, 101), index = [\"4th and 1\", \"4th and 2\", \"4th and 3\", \"4th and 4\", \"4th and 5\", \"4th and 6\", \"4th and 7\", \"4th and 8\", \"4th and 9\"])\n",
    "prop_punts_data = pd.DataFrame(columns = np.arange(0, 101), index = [\"4th and 1\", \"4th and 2\", \"4th and 3\", \"4th and 4\", \"4th and 5\", \"4th and 6\", \"4th and 7\", \"4th and 8\", \"4th and 9\"])"
   ]
  },
  {
   "cell_type": "code",
   "execution_count": 19,
   "metadata": {},
   "outputs": [],
   "source": [
    "prop_go_data.loc[\"4th and 1\"] = prop_go_4_1\n",
    "prop_go_data.loc[\"4th and 2\"] = prop_go_4_2\n",
    "prop_go_data.loc[\"4th and 3\"] = prop_go_4_3\n",
    "prop_go_data.loc[\"4th and 4\"] = prop_go_4_4\n",
    "prop_go_data.loc[\"4th and 5\"] = prop_go_4_5\n",
    "prop_go_data.loc[\"4th and 6\"] = prop_go_4_6\n",
    "prop_go_data.loc[\"4th and 7\"] = prop_go_4_7\n",
    "prop_go_data.loc[\"4th and 8\"] = prop_go_4_8\n",
    "prop_go_data.loc[\"4th and 9\"] = prop_go_4_9"
   ]
  },
  {
   "cell_type": "code",
   "execution_count": 20,
   "metadata": {},
   "outputs": [],
   "source": [
    "prop_fgs_data.loc[\"4th and 1\"] = prop_fgs_4_1\n",
    "prop_fgs_data.loc[\"4th and 2\"] = prop_fgs_4_2\n",
    "prop_fgs_data.loc[\"4th and 3\"] = prop_fgs_4_3\n",
    "prop_fgs_data.loc[\"4th and 4\"] = prop_fgs_4_4\n",
    "prop_fgs_data.loc[\"4th and 5\"] = prop_fgs_4_5\n",
    "prop_fgs_data.loc[\"4th and 6\"] = prop_fgs_4_6\n",
    "prop_fgs_data.loc[\"4th and 7\"] = prop_fgs_4_7\n",
    "prop_fgs_data.loc[\"4th and 8\"] = prop_fgs_4_8\n",
    "prop_fgs_data.loc[\"4th and 9\"] = prop_fgs_4_9"
   ]
  },
  {
   "cell_type": "code",
   "execution_count": 21,
   "metadata": {},
   "outputs": [],
   "source": [
    "prop_punts_data.loc[\"4th and 1\"] = prop_punts_4_1\n",
    "prop_punts_data.loc[\"4th and 2\"] = prop_punts_4_2\n",
    "prop_punts_data.loc[\"4th and 3\"] = prop_punts_4_3\n",
    "prop_punts_data.loc[\"4th and 4\"] = prop_punts_4_4\n",
    "prop_punts_data.loc[\"4th and 5\"] = prop_punts_4_5\n",
    "prop_punts_data.loc[\"4th and 6\"] = prop_punts_4_6\n",
    "prop_punts_data.loc[\"4th and 7\"] = prop_punts_4_7\n",
    "prop_punts_data.loc[\"4th and 8\"] = prop_punts_4_8\n",
    "prop_punts_data.loc[\"4th and 9\"] = prop_punts_4_9"
   ]
  },
  {
   "cell_type": "code",
   "execution_count": 22,
   "metadata": {},
   "outputs": [],
   "source": [
    "%%capture\n",
    "prop_go_data = prop_go_data.convert_objects(convert_numeric = True)\n",
    "prop_fgs_data = prop_fgs_data.convert_objects(convert_numeric = True)\n",
    "prop_punts_data = prop_punts_data.convert_objects(convert_numeric = True)"
   ]
  },
  {
   "cell_type": "code",
   "execution_count": 28,
   "metadata": {},
   "outputs": [
    {
     "data": {
      "image/png": "[encoded data removed]",
      "text/plain": [
       "<matplotlib.figure.Figure at 0x1e603f197b8>"
      ]
     },
     "metadata": {},
     "output_type": "display_data"
    }
   ],
   "source": [
    "plt.subplots(figsize=(18, 12))\n",
    "sns_plot = sns.heatmap(prop_go_data, cmap=\"Greens\")\n",
    "sns_plot.set_title(\"Proportion of Decision to Go For It on 4th Down By Distance and Yard Line\\n Pac-12 Football Data 2001-2017\\n (Minimum 4 Attempts)\")\n",
    "fig = sns_plot.get_figure()\n",
    "fig.savefig('prop_go_heatmap_Pac12.png')"
   ]
  },
  {
   "cell_type": "code",
   "execution_count": 29,
   "metadata": {},
   "outputs": [
    {
     "data": {
      "image/png": "[encoded data removed]",
      "text/plain": [
       "<matplotlib.figure.Figure at 0x1e603e13128>"
      ]
     },
     "metadata": {},
     "output_type": "display_data"
    }
   ],
   "source": [
    "# omit any field goal attempts over 80 yards because I assume they were entered incorrectly\n",
    "prop_fgs_data.loc[:, 80:100] = 0\n",
    "\n",
    "plt.subplots(figsize=(18, 12))\n",
    "sns_plot = sns.heatmap(prop_fgs_data, cmap=\"Blues\")\n",
    "sns_plot.set_title(\"Proportion of Decision to Attempt a Field Goal on 4th Down By Distance and Yard Line\\n Pac-12 Football Data 2001-2017\")\n",
    "fig = sns_plot.get_figure()\n",
    "fig.savefig('prop_fgs_heatmap_Pac12.png')"
   ]
  }
 ],
 "metadata": {
  "kernelspec": {
   "display_name": "Python 3",
   "language": "python",
   "name": "python3"
  },
  "language_info": {
   "codemirror_mode": {
    "name": "ipython",
    "version": 3
   },
   "file_extension": ".py",
   "mimetype": "text/x-python",
   "name": "python",
   "nbconvert_exporter": "python",
   "pygments_lexer": "ipython3",
   "version": "3.6.2"
  }
 },
 "nbformat": 4,
 "nbformat_minor": 2
}
