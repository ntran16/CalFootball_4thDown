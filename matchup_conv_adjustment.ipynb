{
 "cells": [
  {
   "cell_type": "code",
   "execution_count": 448,
   "metadata": {
    "collapsed": true
   },
   "outputs": [],
   "source": [
    "#USER INPUT HERE\n",
    "modweight = 0.4 #change this value\n",
    "\n",
    "#change the name of the filename\n",
    "from mod_epv import mod_epv as m_epv"
   ]
  },
  {
   "cell_type": "code",
   "execution_count": 449,
   "metadata": {
    "collapsed": true
   },
   "outputs": [],
   "source": [
    "#import statements\n",
    "import numpy as np\n",
    "import pandas as pd\n",
    "#these two imports will always be the same:\n",
    "#from filename2 import matrix2 as a_epv\n",
    "from r_conv_pct import conv_pct as r_conv"
   ]
  },
  {
   "cell_type": "code",
   "execution_count": 450,
   "metadata": {
    "collapsed": true
   },
   "outputs": [],
   "source": [
    "r_conv = np.matrix(r_conv)"
   ]
  },
  {
   "cell_type": "code",
   "execution_count": 451,
   "metadata": {
    "collapsed": true
   },
   "outputs": [],
   "source": [
    "#fn for ceiling division\n",
    "def ceildiv(a, b):\n",
    "    return -(-a // b)\n",
    "\n",
    "#fn for grouping rows into bins of size binsize and taking the average of each bin\n",
    "def binaverage(matrix, binsize):\n",
    "    lst = np.array(matrix)\n",
    "    output = np.zeros((len(lst), (ceildiv(len(lst[0]),binsize))))\n",
    "    for i in range(0, len(lst)):\n",
    "        temp = []\n",
    "        for j in range(0, len(lst[0]), binsize):\n",
    "            temp.append(sum(lst[i][j:j + binsize]) / binsize)\n",
    "        output[i] = np.array(temp)\n",
    "    return output"
   ]
  },
  {
   "cell_type": "code",
   "execution_count": 452,
   "metadata": {},
   "outputs": [
    {
     "name": "stdout",
     "output_type": "stream",
     "text": [
      "conversionbydist = [[ 0.724459]\n",
      " [ 0.61432 ]\n",
      " [ 0.532199]\n",
      " [ 0.473218]\n",
      " [ 0.432494]\n",
      " [ 0.405153]\n",
      " [ 0.386304]\n",
      " [ 0.371073]\n",
      " [ 0.354576]]\n"
     ]
    }
   ],
   "source": [
    "#output the average conversion percentage independent of yardline100 bin\n",
    "print('conversionbydist =', binaverage(r_conv, 10))\n",
    "#not necessary but cool to look at if we want to use this for something"
   ]
  },
  {
   "cell_type": "code",
   "execution_count": 453,
   "metadata": {
    "collapsed": true,
    "scrolled": false
   },
   "outputs": [],
   "source": [
    "#place EPVs into 10 yard bins to match conversion percentages\n",
    "a_epv10 = binaverage(a_epv, 10)\n",
    "m_epv10 = binaverage(m_epv, 10)"
   ]
  },
  {
   "cell_type": "code",
   "execution_count": 454,
   "metadata": {},
   "outputs": [
    {
     "data": {
      "text/plain": [
       "array([[ 3.99753676,  3.15235337,  2.23279822,  1.31359426,  0.3943903 ,\n",
       "        -0.52481365, -1.44401761, -2.36322157, -3.28242553, -3.74010236],\n",
       "       [ 3.99753676,  3.15235337,  2.23279822,  1.31359426,  0.3943903 ,\n",
       "        -0.52481365, -1.44401761, -2.36322157, -3.28242553, -3.74010236],\n",
       "       [ 3.99753676,  3.15235337,  2.23279822,  1.31359426,  0.3943903 ,\n",
       "        -0.52481365, -1.44401761, -2.36322157, -3.28242553, -3.74010236],\n",
       "       [ 3.99753676,  3.15235337,  2.23279822,  1.31359426,  0.3943903 ,\n",
       "        -0.52481365, -1.44401761, -2.36322157, -3.28242553, -3.74010236],\n",
       "       [ 3.99753676,  3.15235337,  2.23279822,  1.31359426,  0.3943903 ,\n",
       "        -0.52481365, -1.44401761, -2.36322157, -3.28242553, -3.74010236],\n",
       "       [ 3.99753676,  3.15235337,  2.23279822,  1.31359426,  0.3943903 ,\n",
       "        -0.52481365, -1.44401761, -2.36322157, -3.28242553, -3.74010236],\n",
       "       [ 3.99753676,  3.15235337,  2.23279822,  1.31359426,  0.3943903 ,\n",
       "        -0.52481365, -1.44401761, -2.36322157, -3.28242553, -3.74010236],\n",
       "       [ 3.99753676,  3.15235337,  2.23279822,  1.31359426,  0.3943903 ,\n",
       "        -0.52481365, -1.44401761, -2.36322157, -3.28242553, -3.74010236],\n",
       "       [ 3.99753676,  3.15235337,  2.23279822,  1.31359426,  0.3943903 ,\n",
       "        -0.52481365, -1.44401761, -2.36322157, -3.28242553, -3.74010236]])"
      ]
     },
     "execution_count": 454,
     "metadata": {},
     "output_type": "execute_result"
    }
   ],
   "source": [
    "#print 10 yard bin averages\n",
    "print(a_epv10)\n",
    "print(m_epv10)"
   ]
  },
  {
   "cell_type": "code",
   "execution_count": 455,
   "metadata": {
    "collapsed": true
   },
   "outputs": [],
   "source": [
    "#create matrix compare fn with multiple use cases\n",
    "def matrixcompare(m1, m2, operation):\n",
    "    assert np.matrix(m1).shape == np.matrix(m2).shape, 'matrix size mismatch, cannot compare matrices of different sizes'\n",
    "    lst1 = np.array(m1)\n",
    "    lst2 = np.array(m2)\n",
    "    output = np.zeros((len(lst1), len(lst1[0])))\n",
    "    for i in range(0, len(lst1)):\n",
    "        for j in range(0, len(lst1[0])):\n",
    "            if operation == 'normeddiff':\n",
    "                #calculate the difference between the mod and the average (how much bigger is the mod epv compared to average?)\n",
    "                output[i][j] = lst2[i][j] - lst1[i][j]\n",
    "            elif operation == 'combine':\n",
    "                output[i][j] = (lst1[i][j] * lst2[i][j]) + lst2[i][j]\n",
    "            else:\n",
    "                break\n",
    "        if operation == 'normeddiff':\n",
    "            #normalize differences by row (normalized to be a percentage between - modweight and modweight)\n",
    "            romi = -14 #these two values can be adjusted, but essentially they represent the max differences possible in 2 epvs. \n",
    "            romx = 14 #the most 2 epvs can be different is 14 or negative 14, which are the floor and ceiling of m_epv-a_epv\n",
    "            output[i] = ((2 * (1 + modweight))*((np.array(output[i]) - romi) / (romx - romi)) - (1 + modweight))      \n",
    "    return output"
   ]
  },
  {
   "cell_type": "code",
   "execution_count": 456,
   "metadata": {
    "scrolled": true
   },
   "outputs": [
    {
     "name": "stdout",
     "output_type": "stream",
     "text": [
      "\n",
      " raw (test):\n",
      "\n",
      "[[ 0.7037   0.69639  0.71086  0.71313  0.72533  0.73013  0.73938  0.7345\n",
      "   0.75175  0.73942]\n",
      " [ 0.51983  0.60828  0.60422  0.61275  0.61886  0.64782  0.65338  0.65033\n",
      "   0.64154  0.58619]\n",
      " [ 0.41503  0.53663  0.53082  0.53581  0.54087  0.57976  0.57886  0.57666\n",
      "   0.55809  0.46946]\n",
      " [ 0.3685   0.4795   0.48298  0.47858  0.48557  0.52411  0.5162   0.51418\n",
      "   0.49599  0.38657]\n",
      " [ 0.35945  0.43498  0.45302  0.43733  0.44713  0.47902  0.46579  0.46357\n",
      "   0.44981  0.33484]\n",
      " [ 0.36708  0.40114  0.43327  0.40836  0.41974  0.44266  0.42801  0.42552\n",
      "   0.41414  0.31161]\n",
      " [ 0.3706   0.37604  0.41605  0.38792  0.39759  0.41316  0.40324  0.4007\n",
      "   0.38355  0.31419]\n",
      " [ 0.34922  0.35777  0.39367  0.37232  0.37486  0.38869  0.39186  0.3898\n",
      "   0.35262  0.33992]\n",
      " [ 0.28213  0.34439  0.35846  0.35781  0.34574  0.3674   0.39425  0.39351\n",
      "   0.31594  0.38613]]\n",
      "\n",
      " adjusted (test):\n",
      "\n",
      "[[ 0.63315666  0.63736074  0.86958069  0.59286735  0.39127131  0.69181178\n",
      "   0.48473623  0.48747138  0.12911866  0.46286935]\n",
      " [ 0.72763395  0.67837535  0.67870813  0.69324049  0.58138124  0.41947552\n",
      "   0.42835478  0.17147761  0.11018927  0.19109194]\n",
      " [ 0.53943677  0.65213174  0.4900954   0.44545069  0.45402739  0.3754054\n",
      "   0.2058416   0.44038246  0.09585611  0.15303915]\n",
      " [ 0.40525923  0.43885534  0.59081969  0.35001399  0.45616341  0.28695999\n",
      "   0.39003981  0.34124987  0.13478898  0.16467486]\n",
      " [ 0.46719646  0.52860307  0.32766022  0.27611242  0.33062537  0.26227238\n",
      "   0.2587921   0.26130414  0.21220122  0.20960641]\n",
      " [ 0.51382158  0.3671375   0.40002945  0.25782194  0.31037214  0.3308966\n",
      "   0.2378016   0.2398562   0.19537363  0.19506467]\n",
      " [ 0.40756871  0.3441651   0.38413057  0.36129295  0.29399356  0.1848968\n",
      "   0.22403943  0.14572571  0.18094257  0.10242272]\n",
      " [ 0.34913398  0.36322075  0.48156857  0.30953174  0.38964411  0.32942202\n",
      "   0.13934473  0.21972162  0.20161311  0.04282644]\n",
      " [ 0.2820605   0.4185149   0.29511288  0.33324972  0.35937565  0.27463835\n",
      "   0.33731961  0.26116387  0.14904705  0.24171343]]\n"
     ]
    }
   ],
   "source": [
    "#testing if this concept works for r_conv\n",
    "a = np.int_(np.random.rand(int(r_conv.shape[0]), int(r_conv.shape[1])) * 6)\n",
    "b = m_epv10#random numbers, since this number is larger, the defense is easier\n",
    "c = matrixcompare(a, b, 'normeddiff') #a is average epv, b is matchup epv. Larger EPV = easier defense = higher percentages\n",
    "\n",
    "print('\\n raw (test):\\n')\n",
    "print(r_conv)\n",
    "print('\\n adjusted (test):\\n')\n",
    "test = matrixcompare(c, r_conv, 'combine')\n",
    "print(test)"
   ]
  },
  {
   "cell_type": "code",
   "execution_count": null,
   "metadata": {},
   "outputs": [],
   "source": [
    "#compare mod epv with avg epv to create a percent of average epv that represents how much different the modded epv is from the norm\n",
    "epv_diff = matrixcompare(a_epv10, m_epv10, 'normeddiff') #average EPV *FIRST*. \n",
    "\n",
    "#multiply this with our average conversion percentages to modify conversion percentage\n",
    "m_conv = matrixcompare(epv_diff, r_conv, 'combine')"
   ]
  },
  {
   "cell_type": "code",
   "execution_count": 442,
   "metadata": {
    "collapsed": true
   },
   "outputs": [],
   "source": [
    "#insert output statement here\n",
    "np.savetxt(\"avg_conv_pct.csv\", r_conv, delimiter = ',', fmt = '%10.5f')\n",
    "np.savetxt(\"mod_conv_pct.csv\", test, delimiter = \",\", fmt = '%10.5f')"
   ]
  }
 ],
 "metadata": {
  "kernelspec": {
   "display_name": "Python 3",
   "language": "python",
   "name": "python3"
  },
  "language_info": {
   "codemirror_mode": {
    "name": "ipython",
    "version": 3
   },
   "file_extension": ".py",
   "mimetype": "text/x-python",
   "name": "python",
   "nbconvert_exporter": "python",
   "pygments_lexer": "ipython3",
   "version": "3.6.1"
  }
 },
 "nbformat": 4,
 "nbformat_minor": 2
}
