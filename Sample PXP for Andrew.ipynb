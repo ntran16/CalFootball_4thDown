{
 "cells": [
  {
   "cell_type": "code",
   "execution_count": 4,
   "metadata": {},
   "outputs": [
    {
     "name": "stdout",
     "output_type": "stream",
     "text": [
      "importing Jupyter notebook from n_most_similar_games.ipynb\n"
     ]
    },
    {
     "name": "stderr",
     "output_type": "stream",
     "text": [
      "/Users/jeremylevitt/anaconda3/lib/python3.6/site-packages/bs4/__init__.py:181: UserWarning: No parser was explicitly specified, so I'm using the best available HTML parser for this system (\"lxml\"). This usually isn't a problem, but if you run this code on another system, or in a different virtual environment, it may use a different parser and behave differently.\n",
      "\n",
      "The code that caused this warning is on line 193 of the file /Users/jeremylevitt/anaconda3/lib/python3.6/runpy.py. To get rid of this warning, change code that looks like this:\n",
      "\n",
      " BeautifulSoup(YOUR_MARKUP})\n",
      "\n",
      "to this:\n",
      "\n",
      " BeautifulSoup(YOUR_MARKUP, \"lxml\")\n",
      "\n",
      "  markup_type=markup_type))\n"
     ]
    },
    {
     "name": "stdout",
     "output_type": "stream",
     "text": [
      "<class 'pandas.core.frame.DataFrame'>\n",
      "Int64Index: 1996 entries, 2312 to 1970\n",
      "Data columns (total 31 columns):\n",
      "awayAbbr             1996 non-null object\n",
      "awayId               1996 non-null object\n",
      "awayScore            1996 non-null object\n",
      "awayTeam             1996 non-null object\n",
      "clock                1996 non-null object\n",
      "defenseAbbr          1996 non-null object\n",
      "defenseId            1996 non-null object\n",
      "defenseTeam          1996 non-null object\n",
      "description          1996 non-null object\n",
      "distance             1996 non-null object\n",
      "down                 1996 non-null object\n",
      "driveIndex           1996 non-null object\n",
      "endYardLine          1996 non-null object\n",
      "gameId               1996 non-null object\n",
      "homeAbbr             1996 non-null object\n",
      "homeId               1996 non-null object\n",
      "homeScore            1996 non-null object\n",
      "homeTeam             1996 non-null object\n",
      "isScoringPlay        398 non-null object\n",
      "offenseAbbr          1996 non-null object\n",
      "offenseId            1996 non-null object\n",
      "offenseTeam          1996 non-null object\n",
      "playIndex            1996 non-null object\n",
      "quarter              1996 non-null object\n",
      "type                 1996 non-null object\n",
      "wallclock            343 non-null object\n",
      "week                 1996 non-null object\n",
      "yardLine             1996 non-null object\n",
      "yardsGained          1996 non-null object\n",
      "year                 1996 non-null object\n",
      "home_off_away_def    1996 non-null bool\n",
      "dtypes: bool(1), object(30)\n",
      "memory usage: 485.4+ KB\n"
     ]
    }
   ],
   "source": [
    "import pandas as pd\n",
    "import matplotlib.pyplot as plt\n",
    "import statsmodels.formula.api as smf\n",
    "import numpy as np\n",
    "import glob\n",
    "import import_ipynb as ipynb\n",
    "import n_most_similar_games as matchup\n",
    "from bs4 import BeautifulSoup\n",
    "from collections import Counter\n",
    "\n",
    "CAL_OFF = 60\n",
    "OPP_DEF = 90\n",
    "\n"
   ]
  },
  {
   "cell_type": "code",
   "execution_count": 14,
   "metadata": {},
   "outputs": [],
   "source": [
    "from create_final_decision import create_final_output"
   ]
  },
  {
   "cell_type": "code",
   "execution_count": 15,
   "metadata": {},
   "outputs": [],
   "source": [
    "pxp = pd.DataFrame()\n",
    "yrdline100 = []\n",
    "ydstogo = []\n",
    "for x in range(900):\n",
    "    yrdline100.append(x % 100)\n",
    "    ydstogo.append(int(x / 100))\n",
    "pxp['yrdline100'] = yrdline100\n",
    "pxp['yrdstogo'] = ydstogo\n",
    "pxp['gfi_epv'] = np.repeat(4, 900)\n",
    "pxp['fg_epv'] = np.repeat(3, 900)\n",
    "pxp['punt_epv'] = np.repeat(2, 900)\n",
    "\n",
    "conv_pxp = pd.DataFrame()\n",
    "conv_pxp['avg_conv'] = np.repeat(50, 900)\n",
    "conv_pxp['mod_conv'] = np.repeat(60, 900)\n",
    "\n",
    "create_final_output(pxp, conv_pxp)"
   ]
  },
  {
   "cell_type": "code",
   "execution_count": null,
   "metadata": {},
   "outputs": [],
   "source": [
    "def insert_andrew_function_here(pxp, conv_pxp):\n",
    "    #Make that shit into a 9 pg excel file"
   ]
  }
 ],
 "metadata": {
  "kernelspec": {
   "display_name": "Python 3",
   "language": "python",
   "name": "python3"
  },
  "language_info": {
   "codemirror_mode": {
    "name": "ipython",
    "version": 3
   },
   "file_extension": ".py",
   "mimetype": "text/x-python",
   "name": "python",
   "nbconvert_exporter": "python",
   "pygments_lexer": "ipython3",
   "version": "3.6.4"
  }
 },
 "nbformat": 4,
 "nbformat_minor": 2
}
