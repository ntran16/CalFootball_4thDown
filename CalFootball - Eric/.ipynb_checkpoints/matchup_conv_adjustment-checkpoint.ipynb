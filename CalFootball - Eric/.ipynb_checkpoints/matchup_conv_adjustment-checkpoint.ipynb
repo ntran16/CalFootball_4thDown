{
 "cells": [
  {
   "cell_type": "code",
   "execution_count": 312,
   "metadata": {},
   "outputs": [],
   "source": [
    "#USER INPUT HERE:\n",
    "#edit this value of mod weight\n",
    "\n",
    "modweight = 0.3 #this is a dummy value, edit"
   ]
  },
  {
   "cell_type": "code",
   "execution_count": 300,
   "metadata": {
    "collapsed": true
   },
   "outputs": [],
   "source": [
    "#import statements\n",
    "import numpy as np\n",
    "#from filename1 import matrix1 as m_epv\n",
    "#from filename2 import matrix2 as a_epv\n",
    "from r_conv_pct import conv_pct as r_conv"
   ]
  },
  {
   "cell_type": "code",
   "execution_count": 301,
   "metadata": {
    "collapsed": true
   },
   "outputs": [],
   "source": [
    "r_conv = np.matrix(r_conv)"
   ]
  },
  {
   "cell_type": "code",
   "execution_count": 302,
   "metadata": {},
   "outputs": [],
   "source": [
    "#fn for ceiling division\n",
    "def ceildiv(a, b):\n",
    "    return -(-a // b)\n",
    "\n",
    "#fn for grouping rows into bins of size binsize and taking the average of each bin\n",
    "def binaverage(matrix, binsize):\n",
    "    lst = np.array(matrix)\n",
    "    output = np.zeros((len(lst), (ceildiv(len(lst[0]),binsize))))\n",
    "    for i in range(0, len(lst)):\n",
    "        temp = []\n",
    "        for j in range(0, len(lst[0]), binsize):\n",
    "            temp.append(sum(lst[i][j:j + binsize]) / binsize)\n",
    "        output[i] = np.array(temp)\n",
    "    return output"
   ]
  },
  {
   "cell_type": "code",
   "execution_count": 319,
   "metadata": {},
   "outputs": [
    {
     "data": {
      "text/plain": [
       "array([[ 0.724459],\n",
       "       [ 0.61432 ],\n",
       "       [ 0.532199],\n",
       "       [ 0.473218],\n",
       "       [ 0.432494],\n",
       "       [ 0.405153],\n",
       "       [ 0.386304],\n",
       "       [ 0.371073],\n",
       "       [ 0.354576]])"
      ]
     },
     "execution_count": 319,
     "metadata": {},
     "output_type": "execute_result"
    }
   ],
   "source": [
    "#output the average conversion percentage independent of yardline100 bin\n",
    "binaverage(r_conv, 10)\n",
    "#not necessary but cool to look at if we want to use this for something"
   ]
  },
  {
   "cell_type": "code",
   "execution_count": null,
   "metadata": {
    "scrolled": false
   },
   "outputs": [],
   "source": [
    "#place EPVs into 10 yard bins to match conversion percentages\n",
    "m_epv10 = binaverage(m_epv, 10)\n",
    "a_epv10 = binaverage(a_epv, 10)"
   ]
  },
  {
   "cell_type": "code",
   "execution_count": 313,
   "metadata": {},
   "outputs": [],
   "source": [
    "#create matrix compare fn with multiple use cases\n",
    "def matrixcompare(m1, m2, operation):\n",
    "    assert np.matrix(m1).shape == np.matrix(m2).shape, 'matrix size mismatch, cannot compare matrices of different sizes'\n",
    "    lst1 = np.array(m1)\n",
    "    lst2 = np.array(m2)\n",
    "    output = np.zeros((len(lst1), len(lst1[0])))\n",
    "    for i in range(0, len(lst1)):\n",
    "        for j in range(0, len(lst1[0])):\n",
    "            if operation == 'normeddiff':\n",
    "                #calculate the difference between the mod and the average (how much bigger is the mod epv compared to average?)\n",
    "                output[i][j] = lst2[i][j] - lst1[i][j]\n",
    "            elif operation == 'combine':\n",
    "                output[i][j] = (lst1[i][j] * lst2[i][j]) + lst2[i][j]\n",
    "            else:\n",
    "                break\n",
    "        if operation == 'normeddiff':\n",
    "            #normalize differences by row (normalized to be a percentage between - modweight and modweight)\n",
    "            romi = min(output[i])\n",
    "            romx = max(output[i])\n",
    "            output[i] = ((2* modweight)*((np.array(output[i]) - romi) / (romx - romi)) - modweight)      \n",
    "    return output"
   ]
  },
  {
   "cell_type": "code",
   "execution_count": 318,
   "metadata": {
    "scrolled": true
   },
   "outputs": [
    {
     "name": "stdout",
     "output_type": "stream",
     "text": [
      "[[ 0.7037   0.69639  0.71086  0.71313  0.72533  0.73013  0.73938  0.7345\n",
      "   0.75175  0.73942]\n",
      " [ 0.51983  0.60828  0.60422  0.61275  0.61886  0.64782  0.65338  0.65033\n",
      "   0.64154  0.58619]\n",
      " [ 0.41503  0.53663  0.53082  0.53581  0.54087  0.57976  0.57886  0.57666\n",
      "   0.55809  0.46946]\n",
      " [ 0.3685   0.4795   0.48298  0.47858  0.48557  0.52411  0.5162   0.51418\n",
      "   0.49599  0.38657]\n",
      " [ 0.35945  0.43498  0.45302  0.43733  0.44713  0.47902  0.46579  0.46357\n",
      "   0.44981  0.33484]\n",
      " [ 0.36708  0.40114  0.43327  0.40836  0.41974  0.44266  0.42801  0.42552\n",
      "   0.41414  0.31161]\n",
      " [ 0.3706   0.37604  0.41605  0.38792  0.39759  0.41316  0.40324  0.4007\n",
      "   0.38355  0.31419]\n",
      " [ 0.34922  0.35777  0.39367  0.37232  0.37486  0.38869  0.39186  0.3898\n",
      "   0.35262  0.33992]\n",
      " [ 0.28213  0.34439  0.35846  0.35781  0.34574  0.3674   0.39425  0.39351\n",
      "   0.31594  0.38613]]\n",
      "\n",
      " adjusted:\n",
      "\n",
      "[[ 0.83804273  0.71538245  0.84656964  0.849273    0.74511173  0.511091\n",
      "   0.961194    0.87472273  0.85426136  0.557926  ]\n",
      " [ 0.6341926   0.6204456   0.5921356   0.625005    0.680746    0.842166\n",
      "   0.588042    0.7673894   0.449078    0.4806758 ]\n",
      " [ 0.516901    0.52199464  0.63215836  0.433519    0.673629    0.62719491\n",
      "   0.56307291  0.62384127  0.390663    0.610298  ]\n",
      " [ 0.25795     0.503475    0.386384    0.574296    0.534127    0.6027265\n",
      "   0.5162      0.488471    0.49599     0.502541  ]\n",
      " [ 0.467285    0.545398    0.42165708  0.44742223  0.312991    0.51218292\n",
      "   0.541033    0.49566331  0.43942977  0.435292  ]\n",
      " [ 0.256956    0.41451133  0.53436633  0.530868    0.461714    0.486926\n",
      "   0.299607    0.297864    0.31750733  0.321997  ]\n",
      " [ 0.3706      0.488852    0.49926     0.310336    0.278313    0.495792\n",
      "   0.383078    0.460805    0.30684     0.2356425 ]\n",
      " [ 0.4330328   0.4221686   0.3700498   0.484016    0.4198432   0.272083\n",
      "   0.4388832   0.366412    0.35262     0.4011056 ]\n",
      " [ 0.22167357  0.41818786  0.465998    0.465153    0.449462    0.28867143\n",
      "   0.34356071  0.275457    0.27531914  0.30338786]]\n"
     ]
    }
   ],
   "source": [
    "#testing if this concept works for r_conv\n",
    "a = np.int_(np.random.rand(int(r_conv.shape[0]), int(r_conv.shape[1])) * -7)\n",
    "b = np.int_(np.random.rand(int(r_conv.shape[0]), int(r_conv.shape[1])) * 10) #random numbers, since this number is larger, the defense is easier\n",
    "c = matrixcompare(a, b, 'normeddiff') #a is average epv, b is matchup epv. Larger EPV = easier defense = higher percentages\n",
    "\n",
    "print(r_conv)\n",
    "print('\\n adjusted:\\n')\n",
    "print(matrixcompare(c, r_conv, 'combine'))"
   ]
  },
  {
   "cell_type": "code",
   "execution_count": null,
   "metadata": {},
   "outputs": [],
   "source": [
    "#compare mod epv with avg epv to create a percent of average epv that represents how much different the modded epv is from the norm\n",
    "epv_diff = matrixcompare(a_epv10, m_epv10, 'normeddiff') #average EPV *FIRST*. \n",
    "\n",
    "#multiply this with our average conversion percentages to modify conversion percentage\n",
    "m_conv = matrixcompare(epv_diff, r_conv, 'combine')"
   ]
  }
 ],
 "metadata": {
  "kernelspec": {
   "display_name": "Python 3",
   "language": "python",
   "name": "python3"
  },
  "language_info": {
   "codemirror_mode": {
    "name": "ipython",
    "version": 3
   },
   "file_extension": ".py",
   "mimetype": "text/x-python",
   "name": "python",
   "nbconvert_exporter": "python",
   "pygments_lexer": "ipython3",
   "version": "3.6.1"
  }
 },
 "nbformat": 4,
 "nbformat_minor": 2
}
