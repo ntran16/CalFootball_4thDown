{
 "cells": [
  {
   "cell_type": "code",
   "execution_count": 188,
   "metadata": {},
   "outputs": [],
   "source": [
    "# @author: ericherrmann@berkeley.edu"
   ]
  },
  {
   "cell_type": "code",
   "execution_count": 189,
   "metadata": {},
   "outputs": [],
   "source": [
    "#USER INPUT HERE\n",
    "modweight = 0.9 #change this value to the weight we use for modified vs avg epv\n",
    "\n",
    "#change the name of the filename being used as the mod_epv for the current matchup\n",
    "#don't include the file extension\n",
    "\n",
    "filename = 'mod_epv_sanjosest' #yes this is clunky but it's late and I'm tired of fixing bugs\n",
    "from mod_epv_sanjosest import mod_epv as m_epv\n",
    "\n",
    "teamname = file.split('_')[2] \n",
    "\n",
    "print('opponent = ', teamname)"
   ]
  },
  {
   "cell_type": "code",
   "execution_count": 170,
   "metadata": {},
   "outputs": [],
   "source": [
    "#import statements\n",
    "import numpy as np\n",
    "import pandas as pd\n",
    "#these two imports will always be the same:\n",
    "from avg_epv import avg_epv as a_epv\n",
    "from r_conv_pct import conv_pct as r_conv"
   ]
  },
  {
   "cell_type": "code",
   "execution_count": 171,
   "metadata": {},
   "outputs": [],
   "source": [
    "r_conv = np.matrix(r_conv)"
   ]
  },
  {
   "cell_type": "code",
   "execution_count": 172,
   "metadata": {},
   "outputs": [],
   "source": [
    "#fn for ceiling division\n",
    "def ceildiv(a, b):\n",
    "    return -(-a // b)\n",
    "\n",
    "#fn for grouping rows into bins of size binsize and taking the average of each bin\n",
    "def binaverage(matrix, binsize):\n",
    "    lst = np.array(matrix)\n",
    "    output = np.zeros((len(lst), (ceildiv(len(lst[0]),binsize))))\n",
    "    for i in range(0, len(lst)):\n",
    "        temp = []\n",
    "        for j in range(0, len(lst[0]), binsize):\n",
    "            temp2 = lst[i][j:j + binsize]\n",
    "            temp2 = [x for x in temp2 if x is not None]\n",
    "            temp.append(sum(temp2) / len(temp2))\n",
    "        output[i] = np.array(temp)\n",
    "    return output"
   ]
  },
  {
   "cell_type": "code",
   "execution_count": 173,
   "metadata": {},
   "outputs": [
    {
     "name": "stdout",
     "output_type": "stream",
     "text": [
      "conversionbydist =\n",
      " [[0.724]\n",
      " [0.614]\n",
      " [0.532]\n",
      " [0.473]\n",
      " [0.432]\n",
      " [0.405]\n",
      " [0.386]\n",
      " [0.371]\n",
      " [0.355]]\n"
     ]
    }
   ],
   "source": [
    "#output the average conversion percentage independent of yardline100 bin\n",
    "print('conversionbydist =\\n', binaverage(r_conv, 10))\n",
    "#not necessary but cool to look at if we want to use this for something"
   ]
  },
  {
   "cell_type": "code",
   "execution_count": 174,
   "metadata": {
    "scrolled": false
   },
   "outputs": [],
   "source": [
    "#place EPVs into 10 yard bins to match conversion percentages\n",
    "a_epv10 = binaverage(a_epv, 10)\n",
    "m_epv10 = binaverage(m_epv, 10)"
   ]
  },
  {
   "cell_type": "code",
   "execution_count": 175,
   "metadata": {
    "scrolled": true
   },
   "outputs": [
    {
     "name": "stdout",
     "output_type": "stream",
     "text": [
      "[[ 4.063  3.261  2.714  2.166  1.619  1.072  0.525 -0.022 -0.569 -0.87 ]\n",
      " [ 4.118  3.315  2.768  2.221  1.674  1.127  0.58   0.033 -0.515 -0.843]\n",
      " [ 4.181  3.37   2.823  2.276  1.729  1.182  0.634  0.087 -0.46  -0.815]\n",
      " [ 4.254  3.425  2.878  2.331  1.783  1.236  0.689  0.142 -0.405 -0.788]\n",
      " [ 4.342  3.48   2.932  2.385  1.838  1.291  0.744  0.197 -0.35  -0.761]\n",
      " [ 4.454  3.534  2.987  2.44   1.893  1.346  0.799  0.251 -0.296 -0.733]\n",
      " [ 4.609  3.589  3.042  2.495  1.948  1.4    0.853  0.306 -0.241 -0.706]\n",
      " [ 4.848  3.644  3.097  2.549  2.002  1.455  0.908  0.361 -0.186 -0.679]\n",
      " [ 5.3    3.698  3.151  2.604  2.057  1.51   0.963  0.416 -0.132 -0.651]] \n",
      "\n",
      "[[ 2.461  1.337  0.638 -0.061 -0.76  -1.459 -2.158 -2.857 -3.556 -3.941]\n",
      " [ 2.543  1.407  0.708  0.009 -0.69  -1.389 -2.088 -2.787 -3.486 -3.906]\n",
      " [ 2.637  1.477  0.778  0.079 -0.62  -1.319 -2.018 -2.717 -3.416 -3.871]\n",
      " [ 2.748  1.547  0.848  0.149 -0.55  -1.249 -1.948 -2.647 -3.346 -3.836]\n",
      " [ 2.884  1.617  0.918  0.219 -0.48  -1.179 -1.878 -2.577 -3.276 -3.801]\n",
      " [ 3.061  1.687  0.988  0.289 -0.41  -1.109 -1.808 -2.508 -3.207 -3.766]\n",
      " [ 3.308  1.757  1.058  0.359 -0.341 -1.04  -1.739 -2.438 -3.137 -3.731]\n",
      " [ 3.697  1.826  1.127  0.428 -0.271 -0.97  -1.669 -2.368 -3.067 -3.696]\n",
      " [ 4.44   1.896  1.197  0.498 -0.201 -0.9   -1.599 -2.298 -2.997 -3.661]]\n"
     ]
    }
   ],
   "source": [
    "#print 10 yard bin averages\n",
    "np.set_printoptions(precision=3, suppress = True)\n",
    "print(a_epv10, '\\n')\n",
    "print(m_epv10)"
   ]
  },
  {
   "cell_type": "code",
   "execution_count": 176,
   "metadata": {},
   "outputs": [],
   "source": [
    "#create matrix compare fn with multiple use cases\n",
    "def matrixcompare(m1, m2, operation):\n",
    "    assert np.matrix(m1).shape == np.matrix(m2).shape, 'matrix size mismatch, cannot compare matrices of different sizes'\n",
    "    lst1 = np.array(m1)\n",
    "    lst2 = np.array(m2)\n",
    "    output = np.zeros((len(lst1), len(lst1[0])))\n",
    "    for i in range(0, len(lst1)):\n",
    "        for j in range(0, len(lst1[0])):\n",
    "            if operation == 'normeddiff':\n",
    "                #calculate the difference between the mod and the average (how much bigger is the mod epv compared to average?)\n",
    "                output[i][j] = lst2[i][j] - lst1[i][j]\n",
    "            elif operation == 'combine':\n",
    "                output[i][j] = (lst1[i][j] * lst2[i][j]) + lst2[i][j]\n",
    "            else:\n",
    "                break\n",
    "        if operation == 'normeddiff':\n",
    "            #normalize differences by row (normalized to be a percentage between - modweight and modweight)\n",
    "            romi = -14 #these two values can be adjusted, but essentially they represent the max differences possible in 2 epvs. \n",
    "            romx = 14 #the most 2 epvs can be different is 14 or negative 14, which are the floor and ceiling of m_epv-a_epv\n",
    "            output[i] = ((2 * (1 + modweight))*((np.array(output[i]) - romi) / (romx - romi)) - (1 + modweight))      \n",
    "    return output"
   ]
  },
  {
   "cell_type": "code",
   "execution_count": 177,
   "metadata": {},
   "outputs": [
    {
     "name": "stdout",
     "output_type": "stream",
     "text": [
      "[[-0.217 -0.261 -0.282 -0.302 -0.323 -0.344 -0.364 -0.385 -0.405 -0.417]\n",
      " [-0.214 -0.259 -0.28  -0.3   -0.321 -0.341 -0.362 -0.383 -0.403 -0.416]\n",
      " [-0.209 -0.257 -0.278 -0.298 -0.319 -0.339 -0.36  -0.381 -0.401 -0.415]\n",
      " [-0.204 -0.255 -0.275 -0.296 -0.317 -0.337 -0.358 -0.379 -0.399 -0.414]\n",
      " [-0.198 -0.253 -0.273 -0.294 -0.315 -0.335 -0.356 -0.376 -0.397 -0.413]\n",
      " [-0.189 -0.251 -0.271 -0.292 -0.313 -0.333 -0.354 -0.374 -0.395 -0.412]\n",
      " [-0.176 -0.249 -0.269 -0.29  -0.311 -0.331 -0.352 -0.372 -0.393 -0.411]\n",
      " [-0.156 -0.247 -0.267 -0.288 -0.308 -0.329 -0.35  -0.37  -0.391 -0.409]\n",
      " [-0.117 -0.245 -0.265 -0.286 -0.306 -0.327 -0.348 -0.368 -0.389 -0.408]]\n"
     ]
    }
   ],
   "source": [
    "#compare mod epv with avg epv to create a percent of average epv that represents how much different the modded epv is from the norm\n",
    "epv_diff = matrixcompare(a_epv10, m_epv10, 'normeddiff') #average EPV *FIRST*. \n",
    "print(epv_diff)\n",
    "#multiply this with our average conversion percentages to modify conversion percentage\n",
    "m_conv = matrixcompare(epv_diff, r_conv, 'combine')"
   ]
  },
  {
   "cell_type": "code",
   "execution_count": 178,
   "metadata": {
    "scrolled": true
   },
   "outputs": [],
   "source": [
    "r_conv = np.array(r_conv)\n",
    "r_conv100 = pd.Series(np.repeat([j for i in r_conv for j in i ], 10))\n",
    "m_conv = np.array(m_conv)\n",
    "m_conv100 = pd.Series(np.repeat([j for i in m_conv for j in i ], 10))"
   ]
  },
  {
   "cell_type": "code",
   "execution_count": 179,
   "metadata": {},
   "outputs": [],
   "source": [
    "#insert output statement here\n",
    "np.savetxt(\"avg_conv_pct.csv\", r_conv100, fmt = '%10.5f')\n",
    "np.savetxt(\"mod_conv_pct_\" + teamname + \".csv\", m_conv100, fmt = '%10.5f')"
   ]
  },
  {
   "cell_type": "code",
   "execution_count": 180,
   "metadata": {},
   "outputs": [
    {
     "name": "stdout",
     "output_type": "stream",
     "text": [
      "\n",
      " raw:\n",
      "\n",
      "[[0.704 0.696 0.711 0.713 0.725 0.73  0.739 0.735 0.752 0.739]\n",
      " [0.52  0.608 0.604 0.613 0.619 0.648 0.653 0.65  0.642 0.586]\n",
      " [0.415 0.537 0.531 0.536 0.541 0.58  0.579 0.577 0.558 0.469]\n",
      " [0.368 0.479 0.483 0.479 0.486 0.524 0.516 0.514 0.496 0.387]\n",
      " [0.359 0.435 0.453 0.437 0.447 0.479 0.466 0.464 0.45  0.335]\n",
      " [0.367 0.401 0.433 0.408 0.42  0.443 0.428 0.426 0.414 0.312]\n",
      " [0.371 0.376 0.416 0.388 0.398 0.413 0.403 0.401 0.384 0.314]\n",
      " [0.349 0.358 0.394 0.372 0.375 0.389 0.392 0.39  0.353 0.34 ]\n",
      " [0.282 0.344 0.358 0.358 0.346 0.367 0.394 0.394 0.316 0.386]]\n",
      "\n",
      " adjusted:\n",
      "\n",
      "[[0.551 0.515 0.511 0.498 0.491 0.479 0.47  0.452 0.447 0.431]\n",
      " [0.409 0.451 0.435 0.429 0.42  0.427 0.417 0.401 0.383 0.343]\n",
      " [0.328 0.399 0.383 0.376 0.368 0.383 0.37  0.357 0.334 0.275]\n",
      " [0.293 0.357 0.35  0.337 0.332 0.347 0.331 0.32  0.298 0.227]\n",
      " [0.288 0.325 0.329 0.309 0.306 0.318 0.3   0.289 0.271 0.197]\n",
      " [0.298 0.301 0.316 0.289 0.289 0.295 0.277 0.266 0.251 0.183]\n",
      " [0.305 0.283 0.304 0.275 0.274 0.276 0.261 0.251 0.233 0.185]\n",
      " [0.295 0.27  0.288 0.265 0.259 0.261 0.255 0.245 0.215 0.201]\n",
      " [0.249 0.26  0.263 0.256 0.24  0.247 0.257 0.249 0.193 0.228]]\n"
     ]
    }
   ],
   "source": [
    "#print values for testing purposes:\n",
    "\n",
    "print('\\n raw:\\n')\n",
    "print(r_conv)\n",
    "print('\\n adjusted:\\n')\n",
    "print(m_conv)"
   ]
  }
 ],
 "metadata": {
  "kernelspec": {
   "display_name": "Python 3",
   "language": "python",
   "name": "python3"
  },
  "language_info": {
   "codemirror_mode": {
    "name": "ipython",
    "version": 3
   },
   "file_extension": ".py",
   "mimetype": "text/x-python",
   "name": "python",
   "nbconvert_exporter": "python",
   "pygments_lexer": "ipython3",
   "version": "3.6.7"
  }
 },
 "nbformat": 4,
 "nbformat_minor": 2
}
