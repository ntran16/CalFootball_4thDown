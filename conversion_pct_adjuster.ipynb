{
 "cells": [
  {
   "cell_type": "code",
   "execution_count": 55,
   "metadata": {
    "collapsed": true
   },
   "outputs": [],
   "source": [
    "#USER INPUT HERE\n",
    "modweight = 0.4 #change this value\n",
    "\n",
    "#change the name of the filename\n",
    "from mod_epv import mod_epv as m_epv"
   ]
  },
  {
   "cell_type": "code",
   "execution_count": 56,
   "metadata": {},
   "outputs": [],
   "source": [
    "#import statements\n",
    "import numpy as np\n",
    "import pandas as pd\n",
    "#these two imports will always be the same:\n",
    "from avg_epv import avg_epv as a_epv\n",
    "from r_conv_pct import conv_pct as r_conv"
   ]
  },
  {
   "cell_type": "code",
   "execution_count": 57,
   "metadata": {
    "collapsed": true
   },
   "outputs": [],
   "source": [
    "r_conv = np.matrix(r_conv)"
   ]
  },
  {
   "cell_type": "code",
   "execution_count": 58,
   "metadata": {
    "collapsed": true
   },
   "outputs": [],
   "source": [
    "#fn for ceiling division\n",
    "def ceildiv(a, b):\n",
    "    return -(-a // b)\n",
    "\n",
    "#fn for grouping rows into bins of size binsize and taking the average of each bin\n",
    "def binaverage(matrix, binsize):\n",
    "    lst = np.array(matrix)\n",
    "    output = np.zeros((len(lst), (ceildiv(len(lst[0]),binsize))))\n",
    "    for i in range(0, len(lst)):\n",
    "        temp = []\n",
    "        for j in range(0, len(lst[0]), binsize):\n",
    "            temp.append(sum(lst[i][j:j + binsize]) / binsize)\n",
    "        output[i] = np.array(temp)\n",
    "    return output"
   ]
  },
  {
   "cell_type": "code",
   "execution_count": 59,
   "metadata": {},
   "outputs": [
    {
     "name": "stdout",
     "output_type": "stream",
     "text": [
      "conversionbydist = [[ 0.724459]\n",
      " [ 0.61432 ]\n",
      " [ 0.532199]\n",
      " [ 0.473218]\n",
      " [ 0.432494]\n",
      " [ 0.405153]\n",
      " [ 0.386304]\n",
      " [ 0.371073]\n",
      " [ 0.354576]]\n"
     ]
    }
   ],
   "source": [
    "#output the average conversion percentage independent of yardline100 bin\n",
    "print('conversionbydist =', binaverage(r_conv, 10))\n",
    "#not necessary but cool to look at if we want to use this for something"
   ]
  },
  {
   "cell_type": "code",
   "execution_count": 60,
   "metadata": {},
   "outputs": [],
   "source": [
    "#clean the 'None' type vals out of epv\n",
    "for i in range(len(a_epv)):\n",
    "    a_epv[i] = [x for x in a_epv[i] if x is not None]\n",
    "for i in range(len(m_epv)):\n",
    "    m_epv[i] = [x for x in m_epv[i] if x is not None]"
   ]
  },
  {
   "cell_type": "code",
   "execution_count": 61,
   "metadata": {
    "scrolled": false
   },
   "outputs": [],
   "source": [
    "#place EPVs into 10 yard bins to match conversion percentages\n",
    "a_epv10 = binaverage(a_epv, 10)\n",
    "m_epv10 = binaverage(m_epv, 10)"
   ]
  },
  {
   "cell_type": "code",
   "execution_count": 62,
   "metadata": {},
   "outputs": [
    {
     "name": "stdout",
     "output_type": "stream",
     "text": [
      "[[  3.05888871e+00   2.53443957e+00   1.86902657e+00   1.32187855e+00\n",
      "    7.74730529e-01   2.27582507e-01  -3.19565515e-01  -8.66713536e-01\n",
      "   -1.41386156e+00  -1.71479297e-01]\n",
      " [  2.19394948e+00   2.01931549e+00   1.41435735e+00   8.67209327e-01\n",
      "    3.20061306e-01  -2.27086716e-01  -7.74234738e-01  -1.32138276e+00\n",
      "   -1.86853078e+00  -2.16946219e-01]\n",
      " [  1.91207240e+00   1.62678761e+00   1.09147532e+00   5.44327296e-01\n",
      "   -2.82072572e-03  -5.49968747e-01  -1.09711677e+00  -1.64426479e+00\n",
      "   -2.19141281e+00  -2.49234422e-01]\n",
      " [  1.69578775e+00   1.40300617e+00   8.90811244e-01   3.43663222e-01\n",
      "   -2.03484799e-01  -7.50632821e-01  -1.29778084e+00  -1.84492886e+00\n",
      "   -2.39207689e+00  -2.69300830e-01]\n",
      " [  1.50897605e+00   1.20050814e+00   7.01722532e-01   1.54574511e-01\n",
      "   -3.92573511e-01  -9.39721532e-01  -1.48686955e+00  -2.03401758e+00\n",
      "   -2.58116560e+00  -2.88209701e-01]\n",
      " [  1.37003801e+00   1.01494694e+00   5.14488508e-01  -3.26595141e-02\n",
      "   -5.79807536e-01  -1.12695556e+00  -1.67410358e+00  -2.22125160e+00\n",
      "   -2.76839962e+00  -3.06933103e-01]\n",
      " [  1.25567125e+00   8.58717227e-01   3.52500165e-01  -1.94647857e-01\n",
      "   -7.41795878e-01  -1.28894390e+00  -1.83609192e+00  -2.38323994e+00\n",
      "   -2.93038796e+00  -3.23131938e-01]\n",
      " [  1.15535305e+00   7.38571525e-01   2.14597239e-01  -3.32550783e-01\n",
      "   -8.79698804e-01  -1.42684683e+00  -1.97399485e+00  -2.52114287e+00\n",
      "   -3.06829089e+00  -3.36922230e-01]\n",
      " [  1.07280684e+00   6.15124610e-01   7.68205189e-02  -4.70327503e-01\n",
      "   -1.01747552e+00  -1.56462355e+00  -2.11177157e+00  -2.65891959e+00\n",
      "   -3.20606761e+00  -3.50699902e-01]]\n",
      "[[ 3.70469977  2.55653018  1.6297652   0.71056125 -0.20864271 -1.12784667\n",
      "  -2.04705063 -2.96625459 -3.88545854 -0.43910207]\n",
      " [ 3.71651925  2.60893668  1.69283133  0.77362737 -0.14557659 -1.06478055\n",
      "  -1.98398451 -2.90318846 -3.82239242 -0.43279546]\n",
      " [ 3.68221684  2.60859115  1.68395827  0.76475432 -0.15444964 -1.0736536\n",
      "  -1.99285756 -2.91206151 -3.83126547 -0.43368276]\n",
      " [ 3.63360937  2.58361501  1.65720747  0.73800351 -0.18120045 -1.10040441\n",
      "  -2.01960836 -2.93881232 -3.85801628 -0.43635785]\n",
      " [ 3.57666722  2.54615604  1.62161933  0.70241537 -0.21678859 -1.13599255\n",
      "  -2.0551965  -2.97440046 -3.89360442 -0.43991666]\n",
      " [ 3.51393068  2.49841831  1.57702285  0.65781889 -0.26138507 -1.18058902\n",
      "  -2.09979298 -3.01899694 -3.9382009  -0.44437631]\n",
      " [ 3.45304346  2.44558814  1.52593403  0.60673007 -0.31247388 -1.23167784\n",
      "  -2.1508818  -3.07008576 -3.98928972 -0.44948519]\n",
      " [ 3.38807485  2.38749948  1.46854814  0.54934418 -0.36985978 -1.28906374\n",
      "  -2.2082677  -3.12747165 -4.04667561 -0.45522378]\n",
      " [ 3.32158626  2.32475373  1.40551466  0.4863107  -0.43289326 -1.35209722\n",
      "  -2.27130118 -3.19050513 -4.10970909 -0.46152713]]\n"
     ]
    }
   ],
   "source": [
    "#print 10 yard bin averages\n",
    "print(a_epv10)\n",
    "print(m_epv10)"
   ]
  },
  {
   "cell_type": "code",
   "execution_count": 63,
   "metadata": {
    "collapsed": true
   },
   "outputs": [],
   "source": [
    "#create matrix compare fn with multiple use cases\n",
    "def matrixcompare(m1, m2, operation):\n",
    "    assert np.matrix(m1).shape == np.matrix(m2).shape, 'matrix size mismatch, cannot compare matrices of different sizes'\n",
    "    lst1 = np.array(m1)\n",
    "    lst2 = np.array(m2)\n",
    "    output = np.zeros((len(lst1), len(lst1[0])))\n",
    "    for i in range(0, len(lst1)):\n",
    "        for j in range(0, len(lst1[0])):\n",
    "            if operation == 'normeddiff':\n",
    "                #calculate the difference between the mod and the average (how much bigger is the mod epv compared to average?)\n",
    "                output[i][j] = lst2[i][j] - lst1[i][j]\n",
    "            elif operation == 'combine':\n",
    "                output[i][j] = (lst1[i][j] * lst2[i][j]) + lst2[i][j]\n",
    "            else:\n",
    "                break\n",
    "        if operation == 'normeddiff':\n",
    "            #normalize differences by row (normalized to be a percentage between - modweight and modweight)\n",
    "            romi = -14 #these two values can be adjusted, but essentially they represent the max differences possible in 2 epvs. \n",
    "            romx = 14 #the most 2 epvs can be different is 14 or negative 14, which are the floor and ceiling of m_epv-a_epv\n",
    "            output[i] = ((2 * (1 + modweight))*((np.array(output[i]) - romi) / (romx - romi)) - (1 + modweight))      \n",
    "    return output"
   ]
  },
  {
   "cell_type": "code",
   "execution_count": 64,
   "metadata": {
    "collapsed": true
   },
   "outputs": [],
   "source": [
    "#compare mod epv with avg epv to create a percent of average epv that represents how much different the modded epv is from the norm\n",
    "epv_diff = matrixcompare(a_epv10, m_epv10, 'normeddiff') #average EPV *FIRST*. \n",
    "\n",
    "#multiply this with our average conversion percentages to modify conversion percentage\n",
    "m_conv = matrixcompare(epv_diff, r_conv, 'combine')"
   ]
  },
  {
   "cell_type": "code",
   "execution_count": 65,
   "metadata": {
    "collapsed": true
   },
   "outputs": [],
   "source": [
    "#insert output statement here\n",
    "np.savetxt(\"avg_conv_pct.csv\", r_conv, delimiter = ',', fmt = '%10.5f')\n",
    "np.savetxt(\"mod_conv_pct.csv\", m_conv, delimiter = \",\", fmt = '%10.5f')"
   ]
  },
  {
   "cell_type": "code",
   "execution_count": 66,
   "metadata": {},
   "outputs": [
    {
     "name": "stdout",
     "output_type": "stream",
     "text": [
      "\n",
      " raw:\n",
      "\n",
      "[[ 0.7037   0.69639  0.71086  0.71313  0.72533  0.73013  0.73938  0.7345\n",
      "   0.75175  0.73942]\n",
      " [ 0.51983  0.60828  0.60422  0.61275  0.61886  0.64782  0.65338  0.65033\n",
      "   0.64154  0.58619]\n",
      " [ 0.41503  0.53663  0.53082  0.53581  0.54087  0.57976  0.57886  0.57666\n",
      "   0.55809  0.46946]\n",
      " [ 0.3685   0.4795   0.48298  0.47858  0.48557  0.52411  0.5162   0.51418\n",
      "   0.49599  0.38657]\n",
      " [ 0.35945  0.43498  0.45302  0.43733  0.44713  0.47902  0.46579  0.46357\n",
      "   0.44981  0.33484]\n",
      " [ 0.36708  0.40114  0.43327  0.40836  0.41974  0.44266  0.42801  0.42552\n",
      "   0.41414  0.31161]\n",
      " [ 0.3706   0.37604  0.41605  0.38792  0.39759  0.41316  0.40324  0.4007\n",
      "   0.38355  0.31419]\n",
      " [ 0.34922  0.35777  0.39367  0.37232  0.37486  0.38869  0.39186  0.3898\n",
      "   0.35262  0.33992]\n",
      " [ 0.28213  0.34439  0.35846  0.35781  0.34574  0.3674   0.39425  0.39351\n",
      "   0.31594  0.38613]]\n",
      "\n",
      " adjusted:\n",
      "\n",
      "[[ 0.74914572  0.69792837  0.69385187  0.66953513  0.65400299  0.63116605\n",
      "   0.61165321  0.58028871  0.5659477   0.71963144]\n",
      " [ 0.59897774  0.64414548  0.62104595  0.60701577  0.59004353  0.59355252\n",
      "   0.57433737  0.54746043  0.51619196  0.57353713]\n",
      " [ 0.4884963   0.58931652  0.56227018  0.5476207   0.53266885  0.54939885\n",
      "   0.52700915  0.50355123  0.46657146  0.46080089]\n",
      " [ 0.43990873  0.53611019  0.5199954   0.49745234  0.48665206  0.50577812\n",
      "   0.47893926  0.4579347   0.42328087  0.38011208]\n",
      " [ 0.43377316  0.49351299  0.49469316  0.46128872  0.45498987  0.46961823\n",
      "   0.4393179   0.41997667  0.39077519  0.32976024]\n",
      " [ 0.44577801  0.46064797  0.47930643  0.43655638  0.43310546  0.44028586\n",
      "   0.40979007  0.39157434  0.36569385  0.30732713]\n",
      " [ 0.45203461  0.43571269  0.46487072  0.41900705  0.41465941  0.415526\n",
      "   0.39054641  0.37317809  0.34293582  0.31022011]\n",
      " [ 0.42719111  0.4167637   0.44303428  0.40515471  0.39397183  0.39404549\n",
      "   0.38267978  0.3661653   0.3181202   0.33589869]\n",
      " [ 0.34557481  0.40326792  0.40608837  0.39203947  0.36595135  0.37520822\n",
      "   0.38796055  0.37259158  0.28739035  0.38185063]]\n"
     ]
    }
   ],
   "source": [
    "#print values for testing purposes:\n",
    "\n",
    "print('\\n raw:\\n')\n",
    "print(r_conv)\n",
    "print('\\n adjusted:\\n')\n"
    "print(m_conv)"
   ]
  }
 ],
 "metadata": {
  "kernelspec": {
   "display_name": "Python 3",
   "language": "python",
   "name": "python3"
  },
  "language_info": {
   "codemirror_mode": {
    "name": "ipython",
    "version": 3
   },
   "file_extension": ".py",
   "mimetype": "text/x-python",
   "name": "python",
   "nbconvert_exporter": "python",
   "pygments_lexer": "ipython3",
   "version": "3.6.1"
  }
 },
 "nbformat": 4,
 "nbformat_minor": 2
}
