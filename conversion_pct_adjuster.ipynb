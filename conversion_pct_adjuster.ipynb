{
 "cells": [
  {
   "cell_type": "code",
   "execution_count": 230,
   "metadata": {},
   "outputs": [],
   "source": [
    "# @author: ericherrmann@berkeley.edu"
   ]
  },
  {
   "cell_type": "code",
   "execution_count": 231,
   "metadata": {},
   "outputs": [
    {
     "name": "stdout",
     "output_type": "stream",
     "text": [
      "opponent =  UCONN\n"
     ]
    }
   ],
   "source": [
    "#USER INPUT HERE\n",
    "modweight = 0.9 #change this value to the weight we use for modified vs avg epv\n",
    "\n",
    "\n",
    "#yes this is clunky but it's late and I'm tired of fixing bugs\n",
    "filename = 'mod_epv_UCONN' #change the name of the filename being used as the mod_epv for the current matchup\n",
    "#don't include the file extension\n",
    "from mod_epv_UCONN import mod_epv as m_epv #change this as well :/\n",
    "\n",
    "teamname = filename.split('_')[2] \n",
    "\n",
    "print('opponent = ', teamname)"
   ]
  },
  {
   "cell_type": "code",
   "execution_count": 232,
   "metadata": {},
   "outputs": [],
   "source": [
    "#import statements\n",
    "import numpy as np\n",
    "import pandas as pd\n",
    "#these two imports will always be the same:\n",
    "from avg_epv import avg_epv as a_epv\n",
    "from r_conv_pct import conv_pct as r_conv"
   ]
  },
  {
   "cell_type": "code",
   "execution_count": 233,
   "metadata": {},
   "outputs": [],
   "source": [
    "r_conv = np.matrix(r_conv)"
   ]
  },
  {
   "cell_type": "code",
   "execution_count": 234,
   "metadata": {},
   "outputs": [],
   "source": [
    "#fn for ceiling division\n",
    "def ceildiv(a, b):\n",
    "    return -(-a // b)\n",
    "\n",
    "#fn for grouping rows into bins of size binsize and taking the average of each bin\n",
    "def binaverage(matrix, binsize):\n",
    "    lst = np.array(matrix)\n",
    "    output = np.zeros((len(lst), (ceildiv(len(lst[0]),binsize))))\n",
    "    for i in range(0, len(lst)):\n",
    "        temp = []\n",
    "        for j in range(0, len(lst[0]), binsize):\n",
    "            temp2 = lst[i][j:j + binsize]\n",
    "            temp2 = [x for x in temp2 if x is not None]\n",
    "            temp.append(sum(temp2) / len(temp2))\n",
    "        output[i] = np.array(temp)\n",
    "    return output"
   ]
  },
  {
   "cell_type": "code",
   "execution_count": 235,
   "metadata": {},
   "outputs": [
    {
     "name": "stdout",
     "output_type": "stream",
     "text": [
      "conversionbydist =\n",
      " [[0.724]\n",
      " [0.614]\n",
      " [0.532]\n",
      " [0.473]\n",
      " [0.432]\n",
      " [0.405]\n",
      " [0.386]\n",
      " [0.371]\n",
      " [0.355]]\n"
     ]
    }
   ],
   "source": [
    "#output the average conversion percentage independent of yardline100 bin\n",
    "print('conversionbydist =\\n', binaverage(r_conv, 10))\n",
    "#not necessary but cool to look at if we want to use this for something"
   ]
  },
  {
   "cell_type": "code",
   "execution_count": 236,
   "metadata": {
    "scrolled": false
   },
   "outputs": [],
   "source": [
    "#place EPVs into 10 yard bins to match conversion percentages\n",
    "a_epv10 = binaverage(a_epv, 10)\n",
    "m_epv10 = binaverage(m_epv, 10)"
   ]
  },
  {
   "cell_type": "code",
   "execution_count": 237,
   "metadata": {
    "scrolled": true
   },
   "outputs": [
    {
     "name": "stdout",
     "output_type": "stream",
     "text": [
      "[[ 4.063  3.261  2.714  2.166  1.619  1.072  0.525 -0.022 -0.569 -0.87 ]\n",
      " [ 4.118  3.315  2.768  2.221  1.674  1.127  0.58   0.033 -0.515 -0.843]\n",
      " [ 4.181  3.37   2.823  2.276  1.729  1.182  0.634  0.087 -0.46  -0.815]\n",
      " [ 4.254  3.425  2.878  2.331  1.783  1.236  0.689  0.142 -0.405 -0.788]\n",
      " [ 4.342  3.48   2.932  2.385  1.838  1.291  0.744  0.197 -0.35  -0.761]\n",
      " [ 4.454  3.534  2.987  2.44   1.893  1.346  0.799  0.251 -0.296 -0.733]\n",
      " [ 4.609  3.589  3.042  2.495  1.948  1.4    0.853  0.306 -0.241 -0.706]\n",
      " [ 4.848  3.644  3.097  2.549  2.002  1.455  0.908  0.361 -0.186 -0.679]\n",
      " [ 5.3    3.698  3.151  2.604  2.057  1.51   0.963  0.416 -0.132 -0.651]] \n",
      "\n",
      "[[ 2.686  1.629  0.975  0.321 -0.333 -0.987 -1.641 -2.295 -2.949 -3.309]\n",
      " [ 2.763  1.695  1.041  0.387 -0.267 -0.921 -1.575 -2.229 -2.883 -3.276]\n",
      " [ 2.852  1.76   1.106  0.452 -0.202 -0.856 -1.51  -2.164 -2.818 -3.243]\n",
      " [ 2.956  1.826  1.172  0.518 -0.137 -0.791 -1.445 -2.099 -2.753 -3.21 ]\n",
      " [ 3.085  1.891  1.237  0.583 -0.071 -0.725 -1.379 -2.033 -2.687 -3.178]\n",
      " [ 3.251  1.956  1.302  0.648 -0.006 -0.66  -1.314 -1.968 -2.622 -3.145]\n",
      " [ 3.485  2.022  1.368  0.714  0.06  -0.594 -1.248 -1.902 -2.556 -3.112]\n",
      " [ 3.853  2.087  1.433  0.779  0.125 -0.529 -1.183 -1.837 -2.491 -3.08 ]\n",
      " [ 4.556  2.153  1.499  0.845  0.191 -0.464 -1.118 -1.772 -2.426 -3.047]]\n"
     ]
    }
   ],
   "source": [
    "#print 10 yard bin averages\n",
    "np.set_printoptions(precision=3, suppress = True)\n",
    "print(a_epv10, '\\n')\n",
    "print(m_epv10)"
   ]
  },
  {
   "cell_type": "code",
   "execution_count": 238,
   "metadata": {},
   "outputs": [],
   "source": [
    "#create matrix compare fn with multiple use cases\n",
    "def matrixcompare(m1, m2, operation):\n",
    "    assert np.matrix(m1).shape == np.matrix(m2).shape, 'matrix size mismatch, cannot compare matrices of different sizes'\n",
    "    lst1 = np.array(m1)\n",
    "    lst2 = np.array(m2)\n",
    "    output = np.zeros((len(lst1), len(lst1[0])))\n",
    "    for i in range(0, len(lst1)):\n",
    "        for j in range(0, len(lst1[0])):\n",
    "            if operation == 'normeddiff':\n",
    "                #calculate the difference between the mod and the average (how much bigger is the mod epv compared to average?)\n",
    "                output[i][j] = lst2[i][j] - lst1[i][j]\n",
    "            elif operation == 'combine':\n",
    "                output[i][j] = (lst1[i][j] * lst2[i][j]) + lst2[i][j]\n",
    "            else:\n",
    "                break\n",
    "        if operation == 'normeddiff':\n",
    "            #normalize differences by row (normalized to be a percentage between - modweight and modweight)\n",
    "            romi = -14 #these two values can be adjusted, but essentially they represent the max differences possible in 2 epvs. \n",
    "            romx = 14 #the most 2 epvs can be different is 14 or negative 14, which are the floor and ceiling of m_epv-a_epv\n",
    "            output[i] = ((2 * (1 + modweight))*((np.array(output[i]) - romi) / (romx - romi)) - (1 + modweight))      \n",
    "    return output"
   ]
  },
  {
   "cell_type": "code",
   "execution_count": 239,
   "metadata": {},
   "outputs": [
    {
     "name": "stdout",
     "output_type": "stream",
     "text": [
      "[[-0.187 -0.221 -0.236 -0.25  -0.265 -0.279 -0.294 -0.308 -0.323 -0.331]\n",
      " [-0.184 -0.22  -0.234 -0.249 -0.263 -0.278 -0.292 -0.307 -0.321 -0.33 ]\n",
      " [-0.18  -0.218 -0.233 -0.248 -0.262 -0.277 -0.291 -0.306 -0.32  -0.329]\n",
      " [-0.176 -0.217 -0.232 -0.246 -0.261 -0.275 -0.29  -0.304 -0.319 -0.329]\n",
      " [-0.171 -0.216 -0.23  -0.245 -0.259 -0.274 -0.288 -0.303 -0.317 -0.328]\n",
      " [-0.163 -0.214 -0.229 -0.243 -0.258 -0.272 -0.287 -0.301 -0.316 -0.327]\n",
      " [-0.152 -0.213 -0.227 -0.242 -0.256 -0.271 -0.285 -0.3   -0.314 -0.327]\n",
      " [-0.135 -0.211 -0.226 -0.24  -0.255 -0.269 -0.284 -0.298 -0.313 -0.326]\n",
      " [-0.101 -0.21  -0.224 -0.239 -0.253 -0.268 -0.282 -0.297 -0.311 -0.325]]\n"
     ]
    }
   ],
   "source": [
    "#compare mod epv with avg epv to create a percent of average epv that represents how much different the modded epv is from the norm\n",
    "epv_diff = matrixcompare(a_epv10, m_epv10, 'normeddiff') #average EPV *FIRST*. \n",
    "print(epv_diff)\n",
    "#multiply this with our average conversion percentages to modify conversion percentage\n",
    "m_conv = matrixcompare(epv_diff, r_conv, 'combine')"
   ]
  },
  {
   "cell_type": "code",
   "execution_count": 240,
   "metadata": {
    "scrolled": true
   },
   "outputs": [],
   "source": [
    "r_conv = np.array(r_conv)\n",
    "r_conv100 = pd.Series(np.repeat([j for i in r_conv for j in i ], 10))\n",
    "m_conv = np.array(m_conv)\n",
    "m_conv100 = pd.Series(np.repeat([j for i in m_conv for j in i ], 10))"
   ]
  },
  {
   "cell_type": "code",
   "execution_count": 241,
   "metadata": {},
   "outputs": [],
   "source": [
    "#insert output statement here\n",
    "np.savetxt(\"avg_conv_pct.csv\", r_conv100, fmt = '%10.5f')\n",
    "np.savetxt(\"mod_conv_pct_\" + teamname + \".csv\", m_conv100, fmt = '%10.5f')"
   ]
  },
  {
   "cell_type": "code",
   "execution_count": 242,
   "metadata": {},
   "outputs": [
    {
     "name": "stdout",
     "output_type": "stream",
     "text": [
      "\n",
      " raw:\n",
      "\n",
      "[[0.704 0.696 0.711 0.713 0.725 0.73  0.739 0.735 0.752 0.739]\n",
      " [0.52  0.608 0.604 0.613 0.619 0.648 0.653 0.65  0.642 0.586]\n",
      " [0.415 0.537 0.531 0.536 0.541 0.58  0.579 0.577 0.558 0.469]\n",
      " [0.368 0.479 0.483 0.479 0.486 0.524 0.516 0.514 0.496 0.387]\n",
      " [0.359 0.435 0.453 0.437 0.447 0.479 0.466 0.464 0.45  0.335]\n",
      " [0.367 0.401 0.433 0.408 0.42  0.443 0.428 0.426 0.414 0.312]\n",
      " [0.371 0.376 0.416 0.388 0.398 0.413 0.403 0.401 0.384 0.314]\n",
      " [0.349 0.358 0.394 0.372 0.375 0.389 0.392 0.39  0.353 0.34 ]\n",
      " [0.282 0.344 0.358 0.358 0.346 0.367 0.394 0.394 0.316 0.386]]\n",
      "\n",
      " adjusted:\n",
      "\n",
      "[[0.572 0.542 0.543 0.535 0.533 0.526 0.522 0.508 0.509 0.495]\n",
      " [0.424 0.474 0.463 0.46  0.456 0.468 0.462 0.451 0.435 0.393]\n",
      " [0.34  0.419 0.407 0.403 0.399 0.419 0.41  0.4   0.379 0.315]\n",
      " [0.304 0.375 0.371 0.361 0.359 0.38  0.367 0.358 0.338 0.259]\n",
      " [0.298 0.341 0.349 0.33  0.331 0.348 0.332 0.323 0.307 0.225]\n",
      " [0.307 0.315 0.334 0.309 0.312 0.322 0.305 0.297 0.283 0.21 ]\n",
      " [0.314 0.296 0.322 0.294 0.296 0.301 0.288 0.281 0.263 0.212]\n",
      " [0.302 0.282 0.305 0.283 0.279 0.284 0.281 0.274 0.242 0.229]\n",
      " [0.254 0.272 0.278 0.272 0.258 0.269 0.283 0.277 0.218 0.261]]\n"
     ]
    }
   ],
   "source": [
    "#print values for testing purposes:\n",
    "\n",
    "print('\\n raw:\\n')\n",
    "print(r_conv)\n",
    "print('\\n adjusted:\\n')\n",
    "print(m_conv)"
   ]
  }
 ],
 "metadata": {
  "kernelspec": {
   "display_name": "Python 3",
   "language": "python",
   "name": "python3"
  },
  "language_info": {
   "codemirror_mode": {
    "name": "ipython",
    "version": 3
   },
   "file_extension": ".py",
   "mimetype": "text/x-python",
   "name": "python",
   "nbconvert_exporter": "python",
   "pygments_lexer": "ipython3",
   "version": "3.6.7"
  }
 },
 "nbformat": 4,
 "nbformat_minor": 2
}
