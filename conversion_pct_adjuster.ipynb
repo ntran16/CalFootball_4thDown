{
 "cells": [
  {
   "cell_type": "code",
   "execution_count": 49,
   "metadata": {
    "collapsed": true
   },
   "outputs": [],
   "source": [
    "#USER INPUT HERE\n",
    "modweight = 0.5 #change this value\n",
    "\n",
    "#change the name of the filename being used as the mod_epv for the current matchup\n",
    "from mod_epv import mod_epv as m_epv"
   ]
  },
  {
   "cell_type": "code",
   "execution_count": 50,
   "metadata": {
    "collapsed": true
   },
   "outputs": [],
   "source": [
    "#import statements\n",
    "import numpy as np\n",
    "import pandas as pd\n",
    "#these two imports will always be the same:\n",
    "from avg_epv import avg_epv as a_epv\n",
    "from r_conv_pct import conv_pct as r_conv"
   ]
  },
  {
   "cell_type": "code",
   "execution_count": 51,
   "metadata": {
    "collapsed": true
   },
   "outputs": [],
   "source": [
    "r_conv = np.matrix(r_conv)"
   ]
  },
  {
   "cell_type": "code",
   "execution_count": 52,
   "metadata": {
    "collapsed": true
   },
   "outputs": [],
   "source": [
    "#fn for ceiling division\n",
    "def ceildiv(a, b):\n",
    "    return -(-a // b)\n",
    "\n",
    "#fn for grouping rows into bins of size binsize and taking the average of each bin\n",
    "def binaverage(matrix, binsize):\n",
    "    lst = np.array(matrix)\n",
    "    output = np.zeros((len(lst), (ceildiv(len(lst[0]),binsize))))\n",
    "    for i in range(0, len(lst)):\n",
    "        temp = []\n",
    "        for j in range(0, len(lst[0]), binsize):\n",
    "            temp2 = lst[i][j:j + binsize]\n",
    "            temp2 = [x for x in temp2 if x is not None]\n",
    "            temp.append(sum(temp2) / len(temp2))\n",
    "        output[i] = np.array(temp)\n",
    "    return output"
   ]
  },
  {
   "cell_type": "code",
   "execution_count": 53,
   "metadata": {},
   "outputs": [
    {
     "name": "stdout",
     "output_type": "stream",
     "text": [
      "conversionbydist = [[ 0.724]\n",
      " [ 0.614]\n",
      " [ 0.532]\n",
      " [ 0.473]\n",
      " [ 0.432]\n",
      " [ 0.405]\n",
      " [ 0.386]\n",
      " [ 0.371]\n",
      " [ 0.355]]\n"
     ]
    }
   ],
   "source": [
    "#output the average conversion percentage independent of yardline100 bin\n",
    "print('conversionbydist =', binaverage(r_conv, 10))\n",
    "#not necessary but cool to look at if we want to use this for something"
   ]
  },
  {
   "cell_type": "code",
   "execution_count": 54,
   "metadata": {
    "scrolled": false
   },
   "outputs": [],
   "source": [
    "#place EPVs into 10 yard bins to match conversion percentages\n",
    "a_epv10 = binaverage(a_epv, 10)\n",
    "m_epv10 = binaverage(m_epv, 10)"
   ]
  },
  {
   "cell_type": "code",
   "execution_count": 55,
   "metadata": {
    "scrolled": true
   },
   "outputs": [
    {
     "name": "stdout",
     "output_type": "stream",
     "text": [
      "[[ 4.063  3.261  2.714  2.166  1.619  1.072  0.525 -0.022 -0.569 -0.87 ]\n",
      " [ 4.118  3.315  2.768  2.221  1.674  1.127  0.58   0.033 -0.515 -0.843]\n",
      " [ 4.181  3.37   2.823  2.276  1.729  1.182  0.634  0.087 -0.46  -0.815]\n",
      " [ 4.254  3.425  2.878  2.331  1.783  1.236  0.689  0.142 -0.405 -0.788]\n",
      " [ 4.342  3.48   2.932  2.385  1.838  1.291  0.744  0.197 -0.35  -0.761]\n",
      " [ 4.454  3.534  2.987  2.44   1.893  1.346  0.799  0.251 -0.296 -0.733]\n",
      " [ 4.609  3.589  3.042  2.495  1.948  1.4    0.853  0.306 -0.241 -0.706]\n",
      " [ 4.848  3.644  3.097  2.549  2.002  1.455  0.908  0.361 -0.186 -0.679]\n",
      " [ 5.3    3.698  3.151  2.604  2.057  1.51   0.963  0.416 -0.132 -0.651]] \n",
      "\n",
      "[[ 3.627  2.424  1.505  0.586 -0.334 -1.253 -2.172 -3.091 -4.01  -4.516]\n",
      " [ 3.705  2.516  1.597  0.677 -0.242 -1.161 -2.08  -2.999 -3.919 -4.47 ]\n",
      " [ 3.79   2.608  1.689  0.769 -0.15  -1.069 -1.988 -2.907 -3.827 -4.424]\n",
      " [ 3.887  2.7    1.781  0.861 -0.058 -0.977 -1.896 -2.815 -3.735 -4.378]\n",
      " [ 4.001  2.792  1.872  0.953  0.034 -0.885 -1.804 -2.724 -3.643 -4.332]\n",
      " [ 4.142  2.884  1.964  1.045  0.126 -0.793 -1.712 -2.632 -3.551 -4.286]\n",
      " [ 4.33   2.975  2.056  1.137  0.218 -0.701 -1.621 -2.54  -3.459 -4.24 ]\n",
      " [ 4.613  3.067  2.148  1.229  0.31  -0.609 -1.529 -2.448 -3.367 -4.194]\n",
      " [ 5.132  3.159  2.24   1.321  0.402 -0.517 -1.437 -2.356 -3.275 -4.148]]\n"
     ]
    }
   ],
   "source": [
    "#print 10 yard bin averages\n",
    "np.set_printoptions(precision=3, suppress = True)\n",
    "print(a_epv10, '\\n')\n",
    "print(m_epv10)"
   ]
  },
  {
   "cell_type": "code",
   "execution_count": 56,
   "metadata": {
    "collapsed": true
   },
   "outputs": [],
   "source": [
    "#create matrix compare fn with multiple use cases\n",
    "def matrixcompare(m1, m2, operation):\n",
    "    assert np.matrix(m1).shape == np.matrix(m2).shape, 'matrix size mismatch, cannot compare matrices of different sizes'\n",
    "    lst1 = np.array(m1)\n",
    "    lst2 = np.array(m2)\n",
    "    output = np.zeros((len(lst1), len(lst1[0])))\n",
    "    for i in range(0, len(lst1)):\n",
    "        for j in range(0, len(lst1[0])):\n",
    "            if operation == 'normeddiff':\n",
    "                #calculate the difference between the mod and the average (how much bigger is the mod epv compared to average?)\n",
    "                output[i][j] = lst2[i][j] - lst1[i][j]\n",
    "            elif operation == 'combine':\n",
    "                output[i][j] = (lst1[i][j] * lst2[i][j]) + lst2[i][j]\n",
    "            else:\n",
    "                break\n",
    "        if operation == 'normeddiff':\n",
    "            #normalize differences by row (normalized to be a percentage between - modweight and modweight)\n",
    "            romi = -14 #these two values can be adjusted, but essentially they represent the max differences possible in 2 epvs. \n",
    "            romx = 14 #the most 2 epvs can be different is 14 or negative 14, which are the floor and ceiling of m_epv-a_epv\n",
    "            output[i] = ((2 * (1 + modweight))*((np.array(output[i]) - romi) / (romx - romi)) - (1 + modweight))      \n",
    "    return output"
   ]
  },
  {
   "cell_type": "code",
   "execution_count": 57,
   "metadata": {},
   "outputs": [
    {
     "name": "stdout",
     "output_type": "stream",
     "text": [
      "[[-0.047 -0.09  -0.13  -0.169 -0.209 -0.249 -0.289 -0.329 -0.369 -0.391]\n",
      " [-0.044 -0.086 -0.126 -0.165 -0.205 -0.245 -0.285 -0.325 -0.365 -0.389]\n",
      " [-0.042 -0.082 -0.122 -0.161 -0.201 -0.241 -0.281 -0.321 -0.361 -0.387]\n",
      " [-0.039 -0.078 -0.118 -0.157 -0.197 -0.237 -0.277 -0.317 -0.357 -0.385]\n",
      " [-0.037 -0.074 -0.114 -0.153 -0.193 -0.233 -0.273 -0.313 -0.353 -0.383]\n",
      " [-0.033 -0.07  -0.11  -0.149 -0.189 -0.229 -0.269 -0.309 -0.349 -0.381]\n",
      " [-0.03  -0.066 -0.106 -0.145 -0.185 -0.225 -0.265 -0.305 -0.345 -0.379]\n",
      " [-0.025 -0.062 -0.102 -0.141 -0.181 -0.221 -0.261 -0.301 -0.341 -0.377]\n",
      " [-0.018 -0.058 -0.098 -0.137 -0.177 -0.217 -0.257 -0.297 -0.337 -0.375]]\n"
     ]
    }
   ],
   "source": [
    "#compare mod epv with avg epv to create a percent of average epv that represents how much different the modded epv is from the norm\n",
    "epv_diff = matrixcompare(a_epv10, m_epv10, 'normeddiff') #average EPV *FIRST*. \n",
    "print(epv_diff)\n",
    "#multiply this with our average conversion percentages to modify conversion percentage\n",
    "m_conv = matrixcompare(epv_diff, r_conv, 'combine')"
   ]
  },
  {
   "cell_type": "code",
   "execution_count": 58,
   "metadata": {
    "collapsed": true,
    "scrolled": true
   },
   "outputs": [],
   "source": [
    "r_conv = np.array(r_conv)\n",
    "r_conv100 = pd.Series(np.repeat([j for i in r_conv for j in i ], 10))\n",
    "m_conv = np.array(m_conv)\n",
    "m_conv100 = pd.Series(np.repeat([j for i in m_conv for j in i ], 10))"
   ]
  },
  {
   "cell_type": "code",
   "execution_count": 59,
   "metadata": {
    "collapsed": true
   },
   "outputs": [],
   "source": [
    "#insert output statement here\n",
    "np.savetxt(\"avg_conv_pct.csv\", r_conv100, fmt = '%10.5f')\n",
    "np.savetxt(\"mod_conv_pct.csv\", m_conv100, fmt = '%10.5f')"
   ]
  },
  {
   "cell_type": "code",
   "execution_count": 60,
   "metadata": {},
   "outputs": [
    {
     "name": "stdout",
     "output_type": "stream",
     "text": [
      "\n",
      " raw:\n",
      "\n",
      "[[ 0.704  0.696  0.711  0.713  0.725  0.73   0.739  0.735  0.752  0.739]\n",
      " [ 0.52   0.608  0.604  0.613  0.619  0.648  0.653  0.65   0.642  0.586]\n",
      " [ 0.415  0.537  0.531  0.536  0.541  0.58   0.579  0.577  0.558  0.469]\n",
      " [ 0.368  0.479  0.483  0.479  0.486  0.524  0.516  0.514  0.496  0.387]\n",
      " [ 0.359  0.435  0.453  0.437  0.447  0.479  0.466  0.464  0.45   0.335]\n",
      " [ 0.367  0.401  0.433  0.408  0.42   0.443  0.428  0.426  0.414  0.312]\n",
      " [ 0.371  0.376  0.416  0.388  0.398  0.413  0.403  0.401  0.384  0.314]\n",
      " [ 0.349  0.358  0.394  0.372  0.375  0.389  0.392  0.39   0.353  0.34 ]\n",
      " [ 0.282  0.344  0.358  0.358  0.346  0.367  0.394  0.394  0.316  0.386]]\n",
      "\n",
      " adjusted:\n",
      "\n",
      "[[ 0.671  0.634  0.619  0.592  0.574  0.548  0.526  0.493  0.475  0.451]\n",
      " [ 0.497  0.556  0.528  0.511  0.492  0.489  0.467  0.439  0.408  0.358]\n",
      " [ 0.398  0.493  0.466  0.449  0.432  0.44   0.416  0.392  0.357  0.288]\n",
      " [ 0.354  0.442  0.426  0.403  0.39   0.4    0.373  0.351  0.319  0.238]\n",
      " [ 0.346  0.403  0.402  0.37   0.361  0.367  0.339  0.319  0.291  0.207]\n",
      " [ 0.355  0.373  0.386  0.347  0.34   0.341  0.313  0.294  0.27   0.193]\n",
      " [ 0.36   0.351  0.372  0.331  0.324  0.32   0.296  0.279  0.251  0.195]\n",
      " [ 0.34   0.336  0.354  0.32   0.307  0.303  0.29   0.272  0.232  0.212]\n",
      " [ 0.277  0.324  0.323  0.309  0.284  0.288  0.293  0.277  0.21   0.241]]\n"
     ]
    }
   ],
   "source": [
    "#print values for testing purposes:\n",
    "\n",
    "print('\\n raw:\\n')\n",
    "print(r_conv)\n",
    "print('\\n adjusted:\\n')\n",
    "print(m_conv)"
   ]
  }
 ],
 "metadata": {
  "kernelspec": {
   "display_name": "Python 3",
   "language": "python",
   "name": "python3"
  },
  "language_info": {
   "codemirror_mode": {
    "name": "ipython",
    "version": 3
   },
   "file_extension": ".py",
   "mimetype": "text/x-python",
   "name": "python",
   "nbconvert_exporter": "python",
   "pygments_lexer": "ipython3",
   "version": "3.6.1"
  }
 },
 "nbformat": 4,
 "nbformat_minor": 2
}
