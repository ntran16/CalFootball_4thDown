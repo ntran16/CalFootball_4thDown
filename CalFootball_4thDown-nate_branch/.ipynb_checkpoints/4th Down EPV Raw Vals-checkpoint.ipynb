{
 "cells": [
  {
   "cell_type": "markdown",
   "metadata": {},
   "source": [
    "## TODO\n",
    "\n",
    "1. Create decision plot"
   ]
  },
  {
   "cell_type": "code",
   "execution_count": 1,
   "metadata": {
    "collapsed": true
   },
   "outputs": [],
   "source": [
    "import pandas as pd\n",
    "import matplotlib.pyplot as plt\n",
    "import statsmodels.formula.api as smf\n",
    "import numpy as np\n",
    "import glob\n",
    "\n",
    "pd.set_option(\"display.max_rows\", 50)\n",
    "# pd.set_option('display.max_colwidth', -1)\n",
    "%matplotlib inline\n",
    "\n",
    "def curve_fit(x, y, smoothness=.5):\n",
    "    from statsmodels.nonparametric.smoothers_lowess import lowess\n",
    "    results = lowess(y, x, is_sorted=True, frac=smoothness)\n",
    "    return results[:, 1]"
   ]
  },
  {
   "cell_type": "markdown",
   "metadata": {},
   "source": [
    "# 4th Down Bot\n",
    "\n",
    "The NYT 4th Down Bot uses NFL play-by-play data to make a recommendation for 4th down decisions.  The current model behind the 4th Down Bot estimates the win probability given a state of the game.  We will do a recreation of the original 4th Down Bot model from Brian Burke (now of ESPN, formerly of Advanced Football Analytics).\n",
    "\n",
    "The basic premise of the model is to maximize the expected value of the 4th down decision. To do this, we will use NFL play-by-play data to estimate quantities related to the value of a location on the field, punt distance, likelihood of converting a first down, and likelihood of making a field goal.  This notebook builds a replica of the bot.\n",
    "\n",
    "+ The NYT 4th Down Bot can be found here: http://nyt4thdownbot.com/ \n",
    "+ The model: http://www.advancedfootballanalytics.com/index.php/home/research/game-strategy/120-4th-down-study\n",
    "+ Coverage: http://www.nytimes.com/newsgraphics/2013/11/28/fourth-downs/post.html\n",
    "+ More coverage: https://www.nytimes.com/2015/10/02/upshot/a-better-4th-down-bot-giving-analysis-before-the-play.html\n",
    "+ Slides on the construction of the new model: http://slides.com/treycausey/4thdownbot#/\n",
    "+ The new model on GitHub: https://github.com/TheUpshot/4thdownbot-model\n",
    "+ Berkeley's own David Romer on 4th down decisions: https://eml.berkeley.edu/~dromer/papers/JPE_April06.pdf"
   ]
  },
  {
   "cell_type": "markdown",
   "metadata": {},
   "source": [
    "## I. The Model\n",
    "\n",
    "Our goal will be to maximize the expected value of the decision to go for it, punt, or kick a field goal.  This means we need to compute the following quantities:\n",
    "\n",
    " + Expected Possession Value (EPV): the value, in points, of a first down at any location on the field.  Kickoffs will also require an expected value.\n",
    " + Probability of making a 4th down conversion given a location on the field, eg. how likely a team is to make a 4th and 3 conversion from the opponent 47 yard line.  We can use this with EPV to quantify the expected value of going for the first down.\n",
    " + Expected net punt distance given a location on the field.  Coupled with EPV, this quantifies the expected value of punting.\n",
    " + Probability of making a field goal from a given distance, eg. how likely it is to make a 45 yard field goal.  Combined with the EPV for field location and kickoffs, we can compute an expected value of kicking the field goal by estimating the likelihood and expected value of a miss or a make.\n",
    " \n",
    "These 4 quantities can be combined to produce expected value of going for the first down, punting, or kicking the field goal.  Our decision rule will be to choose the option that maximizes expected value.  The model we will build is a baseline \"average\" model that can be used as a starting point before factoring in issues like quality of field goal kicker, offense or defense quality, or weather.\n",
    "\n",
    "More details on the individual computations for the three expected value quantities is below."
   ]
  },
  {
   "cell_type": "markdown",
   "metadata": {},
   "source": [
    "## II. NFL PxP Data\n",
    "\n",
    "NFL play-by-play data is loaded from csv format.  \n",
    "\n",
    "Below is a list of avaible columns we will use.  Many are self explanatory so when needed, a description will be given.  Note, there are many more fields available that we will not use.\n",
    "+ GameID\n",
    "+ Drive - index given the # of the drive within the game\n",
    "+ qtr\n",
    "+ down\n",
    "+ yrdline100 - the yard line expressed on a scale of 1 to 99 instead of 1 to 50 and back to 1.\n",
    "+ ydstogo - yards to go for a first down\n",
    "+ Yards.Gained - yards gained on the play\n",
    "+ posteam - possessing team\n",
    "+ DefensiveTeam - defensive team\n",
    "+ desc - play description\n",
    "+ PlayType - label for what type of play\n",
    "+ Touchdown - 0,1 indicating if a TD was scored\n",
    "+ FieldGoalResult - label indicating good, blocked, or no good.\n",
    "+ FieldGoalDistance\n",
    "+ PosTeamScore - Score of the possessing team.  This will flip when the possession flips.\n",
    "+ DefTeamScore - Score of the defensive team.  This will flip when the possession flips.\n",
    "+ HomeTeam\n",
    "+ AwayTeam\n",
    "\n",
    "\n",
    "A few convenient data fields are added to easy computation of possession value.\n",
    "\n",
    "+ half\n",
    "+ yrdregion - region of the field: Inside the 10, 10 to 20, and beyond 20.\n",
    "+ HomeScore & AwayScore - The score of the possession and defensive teams are given.  This changes as the ball changes possession\n",
    "+ nextposteam - The team possessing the ball in the next play. Non-plays are ignored\n",
    "+ nextyrdline100 - Where the ball is on the next play. Non-plays are ignored\n",
    "+ nextdown - The down for the next play\n",
    "+ 1stdownconversion - Whether the current play converted a first down (0 or 1 value)"
   ]
  },
  {
   "cell_type": "markdown",
   "metadata": {},
   "source": [
    "# NCAA data"
   ]
  },
  {
   "cell_type": "code",
   "execution_count": 2,
   "metadata": {
    "collapsed": true
   },
   "outputs": [],
   "source": [
    "def load_year(pxp):\n",
    "#missing 'FieldGoalResult' and 'FieldGoalDistance', already have 'homeScore' and 'awayScore'\n",
    "#FieldGoalresults is either Good, No Good or Blocked\n",
    "\n",
    "# College Quarters: 1,2,3,4,5,6\n",
    "# down is 1,2,3,4,0. change 0 to 'nan'\n",
    "# why is distance negative???\n",
    "# distance: all goal line is (0)\n",
    "# playtypes: 'Kickoff', 'Rush', 'Pass Incompletion', 'Passing Touchdown',\n",
    "#        'Kickoff Return (Offense)', 'Penalty', 'Punt', 'Pass Reception',\n",
    "#        'Rushing Touchdown', 'End Period', 'Fumble Recovery (Own)', 'Sack',\n",
    "#        'Timeout', 'Field Goal Good', 'End of Half',\n",
    "#        'Fumble Recovery (Opponent)', 'Pass Interception Return',\n",
    "#        'End of Game', 'Blocked Punt', 'Field Goal Missed',\n",
    "#        'Interception Return Touchdown', 'Fumble Return Touchdown',\n",
    "#        'Safety', 'Blocked Field Goal', 'Kickoff Return Touchdown',\n",
    "#        'Blocked Field Goal Touchdown', 'Missed Field Goal Return',\n",
    "#        'Punt Return Touchdown', nan, 'Defensive 2pt Conversion'\n",
    "# for NFL, types: 'Kickoff', 'Pass', 'Run', 'Timeout', 'Extra Point', 'Sack',\n",
    "#        'Quarter End', 'Punt', 'No Play', 'Two Minute Warning', 'Spike',\n",
    "#        'Field Goal', 'QB Kneel', 'End of Game', 'Half End'\n",
    "# isScoringPlay types: 'Passing Touchdown', 'Rushing Touchdown', 'Field Goal Good',\n",
    "#        'Interception Return Touchdown', 'Fumble Return Touchdown',\n",
    "#        'Safety', 'Kickoff Return Touchdown', 'Punt',\n",
    "#        'Blocked Field Goal Touchdown', 'Blocked Punt',\n",
    "#        'Punt Return Touchdown', 'Fumble Recovery (Opponent)',\n",
    "#        'Kickoff Return (Offense)', nan, 'Kickoff',\n",
    "#        'Defensive 2pt Conversion'\n",
    "\n",
    "# We only cover offensive TouchDown\n",
    "\n",
    "    cols = ['gameId', 'driveIndex', 'quarter', 'down', 'yardLine', 'distance', 'yardsGained',\n",
    "            'offenseTeam', 'defenseTeam', 'description', 'type', 'isScoringPlay',\n",
    "            'homeScore', 'awayScore', 'homeTeam', 'awayTeam', 'clock']\n",
    "\n",
    "    pxp['type'].fillna('No Play', inplace = True)\n",
    "\n",
    "    # Compute half.  For OT (qtr = 5 or 6), use half = 3. \n",
    "    pxp['half'] = pd.cut(pxp['quarter'], [1,2,4,6], labels=[1,2,3], include_lowest=True)\n",
    "\n",
    "    # Compute yardage (NCAA data yardage is relative to home team except for kickoff plays) \n",
    "#     pxp['yrdline100'] = np.select([(pxp['homeTeam'] == pxp['offenseTeam']) & (~pxp['type'].str.contains('Kickoff')), \n",
    "#                                 (pxp['homeTeam'] == pxp['offenseTeam']) & (pxp['type'].str.contains('Kickoff')), \n",
    "#                                 (pxp['awayTeam'] == pxp['offenseTeam']) & (~pxp['type'].str.contains('Kickoff')),\n",
    "#                                 (pxp['awayTeam'] == pxp['offenseTeam']) & (pxp['type'].str.contains('Kickoff'))], \n",
    "#                                [100-pxp['yardLine'], pxp['yardLine'], pxp['yardLine'], 100-pxp['yardLine']], default='np.nan').astype(int)\n",
    "\n",
    "    pxp['yrdline100'] = np.select([(pxp['homeTeam'] == pxp['offenseTeam']),\n",
    "                                (pxp['awayTeam'] == pxp['offenseTeam'])], \n",
    "                               [100-pxp['yardLine'], pxp['yardLine']], default='np.nan').astype(int)\n",
    "\n",
    "    # Compute field region\n",
    "    pxp['yrdregion'] = pd.cut(pxp['yrdline100'], [0., 9., 20., 100.], labels=['Inside10', '10to20', 'Beyond20'])\n",
    "    \n",
    "    # Compute Touchdown play: Make a new column to determine offensive touchdown (only either rushing or passing play)\n",
    "    # The NFL model use both defensive and offensive TD here (and some other weird type of TD)\n",
    "    pxp['Touchdown'] = np.where((pxp['type']=='Passing Touchdown')|(pxp['type']=='Rushing Touchdown')|(pxp['description'].str.contains('TD'))|(pxp['description'].str.contains('Touchdown'))|(pxp['description'].str.contains('TOUCHDOWN')), 1, 0)\n",
    "\n",
    "    # index of play\n",
    "    pxp['index'] = range(1, len(pxp) + 1)\n",
    "\n",
    "    ## Compute fieldgoal play: Make a new column to determine fieldgoals as missed, blocked, or good\n",
    "    fgcondition = [(pxp['type']=='Field Goal Good'), \n",
    "                (pxp['type']=='Field Goal Missed'),\n",
    "                (pxp['type']=='Missed Field Goal Return'),\n",
    "                (pxp['type']=='Missed Field Goal Return Touchdown'),\n",
    "                (pxp['type']=='Blocked Field Goal'),\n",
    "                (pxp['type']=='Blocked Field Goal Touchdown')]\n",
    "    pxp['FieldGoalResult'] = np.select(fgcondition, ['Good', 'No Good', 'No Good', 'No Good', 'Blocked', 'Blocked'])\n",
    "    pxp['FieldGoalResult'] = pxp['FieldGoalResult'].replace('0', np.nan)\n",
    "    \n",
    "    ## Compute fieldgoal distance: Make a new column to determine fieldgoals distance (blockFG for TD and return is different)\n",
    "    pxp.loc[(pxp['type'].isin(['Field Goal Good','Field Goal Missed','Blocked Field Goal'])),'FieldGoalDistance']=pxp['yardsGained']\n",
    "    pxp.loc[(pxp['type'].isin(['Missed Field Goal Return', 'Missed Field Goal Return Touchdown','Blocked Field Goal Touchdown'])),'FieldGoalDistance']=pxp['yrdline100'].astype(int)+17\n",
    "\n",
    "\n",
    "    # Fill in missing values due to timeouts leaving NAs in the dataset. This is not needed in NCAA plays\n",
    "#     pxp.loc[:, ['HomeScore', 'AwayScore']] = pxp[['HomeScore', 'AwayScore']].fillna(method='ffill')\n",
    "    \n",
    "    # Compute nextposteam, nextyrdline100, nextdown, and 1stdownconversion.  Must be within a game \n",
    "    # and a half since possession doesn't carry between halves and obviously not between games.  \n",
    "    # Non-relevant plays are ignored so that computations aren't mangled.\n",
    "\n",
    "#     There is no extra point plays\n",
    "    ignore_plays = ['Penalty', 'End Period', 'Timeout', 'End of Half', 'End of Game', \n",
    "        'No Play', 'Coin Toss', 'Extra Point Good','Blocked PAT','Extra Point Missed']\n",
    "    \n",
    "    ignore_mask = ~pxp['type'].isin(ignore_plays)\n",
    "    game_halves = pxp.\\\n",
    "        loc[ignore_mask].\\\n",
    "        groupby(['gameId', 'half'])\n",
    "    pxp.loc[ignore_mask, 'nextposteam'] = game_halves['offenseTeam'].\\\n",
    "        shift(-1).\\\n",
    "        fillna(method='bfill')\n",
    "    pxp.loc[ignore_mask, 'nextyrdline100'] = game_halves['yrdline100'].\\\n",
    "        shift(-1).\\\n",
    "        fillna(method='bfill')\n",
    "    pxp.loc[ignore_mask, 'nextdown'] = game_halves['down'].\\\n",
    "        shift(-1).\\\n",
    "        fillna(method='bfill')\n",
    "    pxp.loc[ignore_mask, '1stdownconversion'] = (\n",
    "        (pxp.loc[ignore_mask, 'nextdown'] == 1.) | \n",
    "        (pxp.loc[ignore_mask, 'distance'] <= pxp.loc[ignore_mask, 'yardsGained']) |\n",
    "        (pxp.loc[ignore_mask, 'Touchdown'] == 1)\n",
    "    ).astype(int)\n",
    "    \n",
    "    \n",
    "    return pxp"
   ]
  },
  {
   "cell_type": "markdown",
   "metadata": {},
   "source": [
    "### Extract Kickoffs and Possession Starts\n",
    "\n",
    "We need to extract kickoffs and possession starts in order to build a possession value calculator.  To do that, we follow this process:\n",
    "1. Isolate kickoffs by using PlayType. \n",
    "2. Drill down by GameID and Drive # (ignoring kickoffs) and take the first play of the drive.  We need to ignore kickoffs and extra points because those can both appear as the first play of a drive.  This will pollute our results if we do not ignore them.\n",
    "3. Find the next score in the game for each possession.  This is the hardest computation.  We do this by computing differences in the home and away scores and then fill those backward.  We treat home scores as positive and away scores as negative.  We only consider possession value within a half.  So if there is no score before halftime or the end of the game, the value is 0.\n",
    "4. Compute possession value.  We multiply the next score value by +1 or -1 depending on if the current possessing team is the home team or away team.  If its the home team, then multiply by +1 because the next score is already oriented to the home team.  If its the away team, then multiply by -1 because a positive next score is a negative for the away team.\n",
    "5. Restrict possessions to the first and third quarter to avoid end of half/game effects like settling for points at the end of the first half or playing to win at the end of the game.\n",
    "\n",
    "Some caveats:\n",
    "+ The dataset used is not perfect so while we expect this procedure to work a vast majority of the time, it may miss some results because of holes in the dataset.  It is unlikely this affects the analysis too much.\n",
    "+ While we restricted to first and third quarters, we did not restrict cases when there is a blowout.  Competitive games lead to more reliable results so this is probably the first issue to address going forward."
   ]
  },
  {
   "cell_type": "code",
   "execution_count": 3,
   "metadata": {
    "collapsed": true
   },
   "outputs": [],
   "source": [
    "def extract_kickoffs_and_possessions(pxp):\n",
    "    \n",
    "    ko_mask = pxp['type'].isin(['Kickoff', 'Kickoff Return (Defense)','Kickoff Return Touchdown','Kickoff Return (Offense)'])  \n",
    "    kickoffs = pxp.loc[ko_mask]\n",
    "    # Exclude kickoffs and XPs and groupby GameID and Drive\n",
    "    xp_mask = pxp['type'].isin(['Extra Point Good','Blocked PAT','Extra Point Missed','No Play'])\n",
    "    game_drives = pxp.loc[~ko_mask & ~xp_mask].groupby(['gameId', 'driveIndex'])\n",
    "\n",
    "    poss_starts = game_drives.head(1)\n",
    "\n",
    "    # Concatenate kickoffs and first plays, sort, and reindex\n",
    "    ko_and_poss = pd.concat([kickoffs, poss_starts])\\\n",
    "            .sort_values(['gameId', 'driveIndex', 'index'], na_position='first')\n",
    "    ko_and_poss.reset_index(drop=True, inplace=True)\n",
    "\n",
    "    # Extract game halves\n",
    "    game_halves = ko_and_poss.groupby(['gameId', 'half'])\n",
    "    # Compute changes in the scores.  + for Home and - for Away. Aka if the away team score then -7\n",
    "    score_change = game_halves['homeScore'].diff() - game_halves['awayScore'].diff()\n",
    "    ko_and_poss['score_change'] = score_change\n",
    "    # Backfill the score change so that each possession now has a value for next score in the game (when does the next score come)\n",
    "    ko_and_poss['NextScore'] = score_change.fillna(0).replace(to_replace=0., method='bfill')\n",
    "#     ko_and_poss.loc[ko_and_poss['Touchdown']==1, 'NextScore'] = ko_and_poss['NextScore']/ko_and_poss['NextScore']*7\n",
    "    \n",
    "    # Determine if the possessing team is home or away\n",
    "    posteam = ko_and_poss['offenseTeam']\n",
    "    hometeam = ko_and_poss['homeTeam']\n",
    "    awayteam = ko_and_poss['awayTeam']\n",
    "    ko_and_poss['posteam_is_home'] = (posteam == hometeam).astype(int)\n",
    "    ko_and_poss['posteam_is_away'] = (posteam == awayteam).astype(int)\n",
    "    # NextScore is unchanged if posteam == hometeam and negated if posteam == awayteam\n",
    "    ko_and_poss['PossessionValue'] = ko_and_poss['NextScore'] * \\\n",
    "        (ko_and_poss['posteam_is_home'] - ko_and_poss['posteam_is_away'])\n",
    "\n",
    "    return ko_and_poss"
   ]
  },
  {
   "cell_type": "code",
   "execution_count": 4,
   "metadata": {},
   "outputs": [
    {
     "ename": "NameError",
     "evalue": "name 'ko_and_poss' is not defined",
     "output_type": "error",
     "traceback": [
      "\u001b[0;31m---------------------------------------------------------------------------\u001b[0m",
      "\u001b[0;31mNameError\u001b[0m                                 Traceback (most recent call last)",
      "\u001b[0;32m<ipython-input-4-3664aac20afc>\u001b[0m in \u001b[0;36m<module>\u001b[0;34m()\u001b[0m\n\u001b[0;32m----> 1\u001b[0;31m \u001b[0mko_and_poss\u001b[0m\u001b[0;34m[\u001b[0m\u001b[0;34m'clock'\u001b[0m\u001b[0;34m]\u001b[0m\u001b[0;34m\u001b[0m\u001b[0m\n\u001b[0m",
      "\u001b[0;31mNameError\u001b[0m: name 'ko_and_poss' is not defined"
     ]
    }
   ],
   "source": [
    "ko_and_poss['clock']"
   ]
  },
  {
   "cell_type": "markdown",
   "metadata": {},
   "source": [
    "### Extract Punts\n",
    "\n",
    "We need to extract net punt distance.  Extracing punts is easy.  Determining net punt distance is tricky.  A few things can happen on a punt: it goes off as expected; returned for a touchdown; muffed; fumbled; blocked.  There may be even more wrinkles.  Suffice to say, this is a bit complicated.  To simplify things, we just want to know the expected net punt distance for punts that are not returned, muffed, fumbled, blocked, or anything else.  \n",
    "\n",
    "Why is it okay to simplify things?  Those complicating events do not happen often enough to materially affect the computation and just add a nuisance to the whole model.  Consider a return TD worth about 7 points.  If a return TD happens every 100 punts, then its worth about 0.01 points in expectation.  Not really a huge amount.\n",
    "\n",
    "We compute net punt distance by finding regular punts and determining the field position change."
   ]
  },
  {
   "cell_type": "code",
   "execution_count": null,
   "metadata": {
    "collapsed": true
   },
   "outputs": [],
   "source": [
    "def extract_punts(pxp):\n",
    "    # Build table of punts\n",
    "    punt_mask = pxp['type'].isin(['Punt', 'Blocked Punt', 'Punt Return'])\n",
    "    punts = pxp.loc[punt_mask].copy()\n",
    "    punts.reset_index(drop=True, inplace=True)\n",
    "\n",
    "    # Extract relevant values\n",
    "    posteam = punts['offenseTeam']\n",
    "    nextposteam = punts['nextposteam']\n",
    "    yrdline = punts['yrdline100']\n",
    "    nextyardline = punts['nextyrdline100'] \n",
    "\n",
    "    # Determine if there was a possession change, ie. the punt went off as expected.\n",
    "    # This excludes muffs or fumbled returns.  It also exludes return TDs and probably\n",
    "    # some other cases.  It is likely not too bad to do this since these events are rare.\n",
    "    poss_change = (posteam != nextposteam)\n",
    "    # Determine the net punt distance\n",
    "    net_punt_dist = (yrdline.astype(int) - (100 - nextyardline.astype(int))) * poss_change.astype(int)\n",
    "    # Add net punt length to punts table\n",
    "    punts.loc[poss_change, 'net_punt_dist'] = net_punt_dist[poss_change]\n",
    "    \n",
    "    return punts"
   ]
  },
  {
   "cell_type": "markdown",
   "metadata": {},
   "source": [
    "### Extract Field Goals\n",
    "\n",
    "For field goal results, we just need FieldGoalDistance and FieldGoalResult and then to compute a 0-1 value representing the success.  This is straightforward.\n",
    "\n",
    "When it comes to making 4th down decisions, the quality of the kicker and the field/weather conditions should definitely be taken into consideration.  Remember, we are computing a baseline \"average\" model that can be used as a starting point."
   ]
  },
  {
   "cell_type": "code",
   "execution_count": null,
   "metadata": {
    "collapsed": true
   },
   "outputs": [],
   "source": [
    "def extract_fgs(pxp):\n",
    "    fg_mask = pxp['type'].isin(['Field Goal Good','Field Goal Missed','Blocked Field Goal','Blocked Field Goal Touchdown',\n",
    "                           'Missed Field Goal Return','Missed Field Goal Return Touchdown'])\n",
    "    fgs = pxp.loc[fg_mask, ['FieldGoalDistance', 'FieldGoalResult']].copy()\n",
    "    fgs['FieldGoalSuccess'] = (fgs['FieldGoalResult'] == 'Good').astype(int)\n",
    "    return fgs"
   ]
  },
  {
   "cell_type": "markdown",
   "metadata": {},
   "source": [
    "### Extract Third Downs\n",
    "\n",
    "First, why third downs?  Since most teams do not go for it on fourth down, we need a proxy for the likelihood of converting the first down.  Since third downs are generally considered make-or-break, we opt to substitute performance on third downs for fourth down.\n",
    "\n",
    "In the dataset, various non-relevant plays can occur on third down.  We need to ignore these.  Also, we can likely safely assume that beyond 9 yards we do not need to consider going for it."
   ]
  },
  {
   "cell_type": "code",
   "execution_count": null,
   "metadata": {
    "collapsed": true
   },
   "outputs": [],
   "source": [
    "def extract_third_downs(pxp):\n",
    "    ignore_plays = ['Penalty', 'Timeout', 'End Period', 'Punt Return', 'No Play',\n",
    "                   'Blocked Punt','Blocked Field Goal', 'Blocked Punt Touchdown', 'Punt',\n",
    "                   'Field Goal Good', 'Field Goal Missed','Kickoff Return Touchdown',\n",
    "                   'Kickoff Return (Offense)', 'Missed Field Goal Return',\n",
    "                   'Defensive 2pt Conversion', 'Kickoff']\n",
    "    ignore_plays_mask = pxp['type'].isin(ignore_plays)\n",
    "    all_third_downs_mask = (pxp['down'] == 3)|(pxp['down'] == 4)\n",
    "    under_10_to_go = ((pxp['distance'] <= 9)&(pxp['distance'] >=0))\n",
    "    third_down_mask = all_third_downs_mask & ~ignore_plays_mask & under_10_to_go\n",
    "\n",
    "    third_down_plays = pxp.loc[third_down_mask].\\\n",
    "        copy().\\\n",
    "        reset_index(drop=True)\n",
    "    return third_down_plays"
   ]
  },
  {
   "cell_type": "markdown",
   "metadata": {},
   "source": [
    "### Load Available Data\n",
    "\n",
    "Load in data for each available year and concatenate each table."
   ]
  },
  {
   "cell_type": "code",
   "execution_count": null,
   "metadata": {
    "collapsed": true
   },
   "outputs": [],
   "source": [
    "temp = []\n",
    "data = []\n",
    "subpxp = []\n",
    "for year in range(2008,2018):    \n",
    "    path =r'/Users/ericherrmann/GitHub/CalFootball_4thDown/CalFootball_4thDown-JeremyAustin/Improved-NCAA-Football-Data' + str(year) + 'PXP' # use your path\n",
    "    allFiles = glob.glob(path + \"/*.csv\")\n",
    "    frame = pd.DataFrame()\n",
    "    list_ = []\n",
    "    cols = ['gameId', 'driveIndex', 'year', 'week', 'clock', 'quarter', 'down', 'yardLine', 'distance', 'yardsGained',\n",
    "            'offenseTeam', 'defenseTeam', 'description', 'type',\n",
    "            'homeScore', 'awayScore', 'homeTeam', 'awayTeam']\n",
    "    for file_ in allFiles:\n",
    "        df = pd.read_csv(file_,index_col=None, header=0, usecols=cols)\n",
    "        list_.append(df)\n",
    "        subpxp = pd.concat(list_, ignore_index=True)\n",
    "    temp.append(subpxp)\n",
    "    data= pd.concat(temp, ignore_index=True)\n",
    "\n",
    "# pxp = []\n",
    "# ko_and_poss = []\n",
    "# punts = []\n",
    "# fgs = []\n",
    "# third_downs = []\n",
    "\n",
    "pxp = load_year(data)\n",
    "pxp['yrdline100'] = pxp['yrdline100'].astype(int)\n",
    "badyard = ~((pxp['yrdline100']>=100)|(pxp['yrdline100']<=0))\n",
    "## Extracting possession and kickoffs (starting points)\n",
    "ko_and_poss = extract_kickoffs_and_possessions(pxp.loc[badyard])\n",
    "# Retrict to first and third quarters\n",
    "first_and_third_qtr = (ko_and_poss['quarter'] == 1) | (ko_and_poss['quarter'] == 3)\n",
    "ko_and_poss_first_and_third = ko_and_poss.loc[first_and_third_qtr]\n",
    "\n",
    "punts = extract_punts(pxp)\n",
    "\n",
    "fgs = extract_fgs(pxp)\n",
    "\n",
    "third_downs = extract_third_downs(pxp)\n"
   ]
  },
  {
   "cell_type": "markdown",
   "metadata": {},
   "source": [
    "## IV. The Four Quantities"
   ]
  },
  {
   "cell_type": "markdown",
   "metadata": {},
   "source": [
    "### 1. Expected Possession/Kickoff Value"
   ]
  },
  {
   "cell_type": "markdown",
   "metadata": {},
   "source": [
    "#### Expected Kickoff Value\n",
    "\n",
    "In the dataset, the return team is considered the possessing team.  So computing the average value represents the expected value to the return team.\n",
    "\n",
    "After this, `ekv` contains our model for Expected Kickoff Value."
   ]
  },
  {
   "cell_type": "code",
   "execution_count": null,
   "metadata": {
    "collapsed": true
   },
   "outputs": [],
   "source": [
    "# Restrict to kickoff events\n",
    "ko = ko_and_poss_first_and_third['type'].isin(['Kickoff'])\n",
    "ko_nonzero = ~(ko_and_poss_first_and_third['score_change']==0)\n",
    "# Compute the average kickoff value\n",
    "ekv = ko_and_poss_first_and_third.loc[ko_nonzero]['PossessionValue'].mean()\n",
    "\n",
    "pd.set_option('display.max_column', 100)\n",
    "# ekv = -1\n",
    "\n",
    "print(\"Expected Kickoff Value: {:.3f} pts\".format(ekv))\n"
   ]
  },
  {
   "cell_type": "code",
   "execution_count": null,
   "metadata": {
    "collapsed": true,
    "scrolled": true
   },
   "outputs": [],
   "source": [
    "pd.set_option('display.max_column', 100)\n",
    "\n",
    "# ko_and_poss_first_and_third[(ko_and_poss_first_and_third['yrdline100']==1)]"
   ]
  },
  {
   "cell_type": "markdown",
   "metadata": {},
   "source": [
    "#### Expected Possession Value \n",
    "\n",
    "We group by each yard line, excluding kickoffs, and compute the average possession value."
   ]
  },
  {
   "cell_type": "code",
   "execution_count": null,
   "metadata": {
    "collapsed": true
   },
   "outputs": [],
   "source": [
    "# 1. Ignore kickoffs\n",
    "# 2. Group by yardline \n",
    "# 3. Take the average of PossessionValue\n",
    "# 4. Convert to DataFrame instead of Series\n",
    "# 5. Make the index a column instead\n",
    "possession_values = ko_and_poss_first_and_third.loc[~ko].\\\n",
    "    groupby('yrdline100')['PossessionValue'].\\\n",
    "    mean().\\\n",
    "    to_frame()\n",
    "    \n",
    "pos_weight = ko_and_poss_first_and_third.loc[~ko].\\\n",
    "    groupby('yrdline100')['PossessionValue'].\\\n",
    "    count().\\\n",
    "    to_frame()\n",
    "\n",
    "possession_values.columns = ['rEPV']   # Update column names\n"
   ]
  },
  {
   "cell_type": "markdown",
   "metadata": {},
   "source": [
    "#### Raw Values\n",
    "\n",
    "The plot below shows the results of our estimation.  We clearly see a strong relationship between the Raw Expected Possession Value but the noise in the estimation is apparent.  The expected value should be \"smooth\" and increasing as you get closer and not fluctuating so much."
   ]
  },
  {
   "cell_type": "code",
   "execution_count": null,
   "metadata": {
    "collapsed": true
   },
   "outputs": [],
   "source": [
    "ax = possession_values.plot(y='rEPV', linestyle='', marker='.')"
   ]
  },
  {
   "cell_type": "code",
   "execution_count": null,
   "metadata": {
    "collapsed": true
   },
   "outputs": [],
   "source": [
    "def curve_fit(x, y, smoothness=.1):\n",
    "    from statsmodels.nonparametric.smoothers_lowess import lowess\n",
    "    results = lowess(y, x, is_sorted=True, frac=smoothness)\n",
    "    return results[:, 1]"
   ]
  },
  {
   "cell_type": "markdown",
   "metadata": {},
   "source": [
    "#### Final Values\n",
    "\n",
    "We can run a simple regression of the raw value on the yard line to produce a \"smoothed\" estimate of the Expected Possession Value.\n",
    "\n",
    "After this, `epv_model` contains our model for Expected Possession Value for a location on the field."
   ]
  },
  {
   "cell_type": "code",
   "execution_count": null,
   "metadata": {
    "collapsed": true
   },
   "outputs": [],
   "source": [
    "formula = 'rEPV ~ yrdline100'\n",
    "results = smf.ols(formula, data=possession_values.reset_index()).fit()\n",
    "# print(results.summary())\n",
    "\n",
    "possession_values['EPV'] = results.fittedvalues.values\n",
    "ax = possession_values.plot(y='rEPV', linestyle='', marker='.')\n",
    "possession_values.plot(y='EPV', ax=ax, lw=3)\n",
    "ax.grid()\n",
    "\n",
    "epv_model = possession_values['EPV']\n",
    "print(epv_model)"
   ]
  },
  {
   "cell_type": "markdown",
   "metadata": {},
   "source": [
    "### 2.  Expected Conversion Percentage\n",
    "\n",
    "#### Raw Values\n",
    "\n",
    "We each separate region on the field (inside the 10 yardline, from the 10 yardline to the 20 yardline, and beyond the 20 yardline), and compute the expected conversion percentage for each yard to go value.  We separate into regions because we have reason to believe that near the goalline, the offense is less likely to convert given less room to work with.  The data bears this out.  This change in conversion percentage can affect the expected value quantities."
   ]
  },
  {
   "cell_type": "code",
   "execution_count": null,
   "metadata": {
    "collapsed": true
   },
   "outputs": [],
   "source": [
    "# 1. Group by region and yards to go\n",
    "# 2. Take the average success rate\n",
    "# 3. Modify the index\n",
    "conv_pct = third_downs.\\\n",
    "    groupby(['yrdregion', 'distance'])['1stdownconversion'].\\\n",
    "    mean().\\\n",
    "    to_frame()\n",
    "conv_pct.columns = ['rConvPct']  # update column names\n",
    "\n",
    "for region in ['Inside10', '10to20', 'Beyond20']:\n",
    "    conv_pct_region = conv_pct.loc[region]\n",
    "    conv_pct.loc[region, 'ExpConvPct'] = curve_fit(\n",
    "        conv_pct_region.index, conv_pct_region['rConvPct'])\n",
    "    \n",
    "exp_conv_pct_model = conv_pct['ExpConvPct']\n"
   ]
  },
  {
   "cell_type": "code",
   "execution_count": null,
   "metadata": {
    "collapsed": true
   },
   "outputs": [],
   "source": [
    "fig, ax = plt.subplots()\n",
    "for color, region in [('C0', 'Inside10'), ('C2', '10to20'), ('C4', 'Beyond20')]:\n",
    "    conv_pct.loc[region].plot(\n",
    "        ax=ax, y='rConvPct', color=color, marker='.', ms=8, label='rConvPct ' + region)\n",
    "\n",
    "ax.legend(loc=1)\n",
    "ax.grid()"
   ]
  },
  {
   "cell_type": "markdown",
   "metadata": {},
   "source": [
    "#### Final Values\n",
    "\n",
    "Unlike for EPV which uses a simple line-fit regression model, we should run a more advanced regression model called LOWESS regression.  In simple terms, it is a curve fit instead of a straight line fit.  We clearly require this since we do not want straight lines for Expected Conversion Percentage.\n",
    "\n",
    "Our final model for Expected Conversion Percentage will be in `exp_conv_pct_model`."
   ]
  },
  {
   "cell_type": "code",
   "execution_count": null,
   "metadata": {
    "collapsed": true
   },
   "outputs": [],
   "source": [
    "for region in ['Inside10', '10to20', 'Beyond20']:\n",
    "    conv_pct_region = conv_pct.loc[region]\n",
    "    conv_pct.loc[region, 'ExpConvPct'] = curve_fit(\n",
    "        conv_pct_region.index, conv_pct_region['rConvPct'])\n",
    "    \n",
    "exp_conv_pct_model = conv_pct['ExpConvPct']"
   ]
  },
  {
   "cell_type": "code",
   "execution_count": null,
   "metadata": {
    "collapsed": true
   },
   "outputs": [],
   "source": [
    "fig, ax = plt.subplots()\n",
    "it = [(('C0', 'C1'), 'Inside10'), (('C2', 'C3'), '10to20'), (('C4', 'C5'), 'Beyond20')]\n",
    "for (clr1, clr2), region in it:\n",
    "    conv_pct.loc[region].plot(\n",
    "        ax=ax, y='rConvPct', color=clr1, marker='.', ms=8, label='rConvPct ' + region)\n",
    "    conv_pct.loc[region].plot(\n",
    "        ax=ax, y='ExpConvPct', color=clr2, lw=3, label='ExpConvPct ' + region)\n",
    "\n",
    "ax.legend(loc=1)\n",
    "ax.grid()"
   ]
  },
  {
   "cell_type": "markdown",
   "metadata": {},
   "source": [
    "### 3. Net Punt Distance\n",
    "\n",
    "To compute net punt distance, we consider all the \"successful\" punts we extracted (ie. ignoring return TDs, muffs, and fumbles, etc).  In building the punts table, we look at the current yardline and the next yardline and computed a difference (accounting for the switch in orientation of the 100 yard value) to get net punt distance.  Now we just need to average."
   ]
  },
  {
   "cell_type": "code",
   "execution_count": null,
   "metadata": {
    "collapsed": true
   },
   "outputs": [],
   "source": [
    "# 1. Group by yardline \n",
    "# 2. Take the average of net_punt_len (the average automatically ignores null values!)\n",
    "# 3. Convert to DataFrame instead of Series\n",
    "# 4. Make the index a column instead\n",
    "punt_dist = punts.\\\n",
    "    groupby('yrdline100')['net_punt_dist'].\\\n",
    "    mean().\\\n",
    "    to_frame()\n",
    "punt_dist.columns = ['rExpNetPuntDist']  # Update column names"
   ]
  },
  {
   "cell_type": "markdown",
   "metadata": {},
   "source": [
    "#### Raw Values\n",
    "\n",
    "In the plot below, we see a beautiful relationship between expected punt distance and the yardline.  As with Expected Possession Value, the expected net punt distance should be increasing as you get closer and not fluctuating as much."
   ]
  },
  {
   "cell_type": "code",
   "execution_count": null,
   "metadata": {
    "collapsed": true
   },
   "outputs": [],
   "source": [
    "ax = punt_dist.plot(y='rExpNetPuntDist', linestyle='', marker='.')\n",
    "ax.set_xlim(-.3, 102.3)\n",
    "ax.set_ylim(-4, 53)\n",
    "ax.legend(loc=2)\n",
    "ax.grid()"
   ]
  },
  {
   "cell_type": "markdown",
   "metadata": {},
   "source": [
    "#### Final Values\n",
    "\n",
    "We can run our curve fit to generate a final model.  We clearly require this since we do not want a straight line for Expected Net Punt Distance.\n",
    "\n",
    "`exp_net_punt_dist_model` will contain our model for Expected Net Punt Distance."
   ]
  },
  {
   "cell_type": "code",
   "execution_count": null,
   "metadata": {
    "collapsed": true
   },
   "outputs": [],
   "source": [
    "punt_dist['rExpNetPuntDist'].fillna(method = 'bfill', inplace = True)\n",
    "punt_dist['ExpNetPuntDist'] = curve_fit(\n",
    "    punt_dist['rExpNetPuntDist'].index, punt_dist['rExpNetPuntDist'])\n",
    "\n",
    "exp_net_punt_dist_model = punt_dist['ExpNetPuntDist']\n",
    "# punt_dist.size\n",
    "# punt_dist['rExpNetPuntDist']"
   ]
  },
  {
   "cell_type": "code",
   "execution_count": null,
   "metadata": {
    "collapsed": true
   },
   "outputs": [],
   "source": [
    "ax = punt_dist.plot(y='rExpNetPuntDist', linestyle='', marker='.')\n",
    "punt_dist.plot(y='ExpNetPuntDist', ax=ax, lw=3)\n",
    "ax.set_xlim(-.3, 102.3)\n",
    "ax.set_ylim(-4, 53)\n",
    "ax.legend(loc=2)\n",
    "ax.grid()"
   ]
  },
  {
   "cell_type": "markdown",
   "metadata": {},
   "source": [
    "### 4. Expected Field Goal Probability\n",
    "\n",
    "We gather field goal results and compute the expected probability of success."
   ]
  },
  {
   "cell_type": "code",
   "execution_count": null,
   "metadata": {
    "collapsed": true
   },
   "outputs": [],
   "source": [
    "# 1. Group by distance \n",
    "# 2. Take the average success rate\n",
    "# 3. Convert to DataFrame instead of Series\n",
    "# 4. Make the index a column instead\n",
    "fg_prob = fgs.\\\n",
    "    groupby('FieldGoalDistance')['FieldGoalSuccess'].\\\n",
    "    mean().\\\n",
    "    to_frame()\n",
    "fg_prob.columns = ['rFieldGoalProb']  # Update column names\n",
    "fg_prob"
   ]
  },
  {
   "cell_type": "markdown",
   "metadata": {},
   "source": [
    "#### Raw Values\n",
    "\n",
    "Raw Expected Field Goal Probability is a bit noisy as we have grown accustom to seeing so far.  We fit a curve but this time we ignore data observations beyond 63 yards since they are extra noisy."
   ]
  },
  {
   "cell_type": "code",
   "execution_count": null,
   "metadata": {
    "collapsed": true
   },
   "outputs": [],
   "source": [
    "ax = fg_prob.plot(y='rFieldGoalProb', linestyle='', marker='.')\n",
    "ax.legend(loc=0)\n",
    "ax.grid()"
   ]
  },
  {
   "cell_type": "markdown",
   "metadata": {},
   "source": [
    "#### Final Values\n",
    "\n",
    "We can run another curve fit to get a nice estimate of field goal probability.\n",
    "\n",
    "`exp_fg_prob_model` will contain our field goal probability model."
   ]
  },
  {
   "cell_type": "code",
   "execution_count": null,
   "metadata": {
    "collapsed": true
   },
   "outputs": [],
   "source": [
    "under_63_mask = fg_prob.index <= 63.\n",
    "fg_under_63 = fg_prob.loc[under_63_mask]\n",
    "\n",
    "fg_prob.loc[under_63_mask, 'ExpFieldGoalProb'] = curve_fit(\n",
    "    fg_under_63.index, fg_under_63['rFieldGoalProb'])\n",
    "\n",
    "exp_fg_prob_model = fg_prob.loc[under_63_mask, 'ExpFieldGoalProb'].copy()\n",
    "\n",
    "ax = fg_prob.plot(y='rFieldGoalProb', linestyle='', marker='.')\n",
    "fg_prob.plot(y='ExpFieldGoalProb', ax=ax, lw=3)\n",
    "ax.grid()"
   ]
  },
  {
   "cell_type": "markdown",
   "metadata": {},
   "source": [
    "### Extracting Model Values"
   ]
  },
  {
   "cell_type": "code",
   "execution_count": null,
   "metadata": {
    "collapsed": true
   },
   "outputs": [],
   "source": [
    "# Model values can be extracted easily\n",
    "print(\"EPV at 60 yards:\", epv_model[20])\n",
    "print(\"Exp Conv Pct inside the 10 with 1 yard to go: at\", exp_conv_pct_model[('Inside10', 1)])\n",
    "print(\"Exp Net Punt Dist from the 50:\", exp_net_punt_dist_model[60])\n",
    "print(\"Exp FG Pct from 45 yards:\", exp_fg_prob_model[40])"
   ]
  },
  {
   "cell_type": "markdown",
   "metadata": {},
   "source": [
    "## V. Decision Maker"
   ]
  },
  {
   "cell_type": "markdown",
   "metadata": {},
   "source": [
    "## Building the Decision Maker\n",
    "\n",
    "We pass the model objects into a function which itself then builds a function that evaluates the models and computes the decision.  The steps are:\n",
    "\n",
    "1. Expected value of going for it\n",
    "    + Determine the value of a failed conversion\n",
    "    + Determine the value of a successful conversion\n",
    "    + Compute the expected value using the conversion success probability\n",
    "2. Expected value of punting\n",
    "    + Determine the expected net punt distance\n",
    "    + Compute the expected value of the expected yardline after the punt\n",
    "3. Expected value of kicking\n",
    "    + Compute the value of making the field goal: 3 minus the value of a kickoff\n",
    "    + Compute the value of missing the field goal.\n",
    "    + Compute the expected value using the field goal success probability"
   ]
  },
  {
   "cell_type": "code",
   "execution_count": null,
   "metadata": {
    "collapsed": true
   },
   "outputs": [],
   "source": [
    "epv_model\n",
    "ekv = -.6"
   ]
  },
  {
   "cell_type": "code",
   "execution_count": null,
   "metadata": {
    "collapsed": true
   },
   "outputs": [],
   "source": [
    "def build_decision_maker(ekv, epv_model, exp_conv_pct_model, \n",
    "                         exp_net_punt_dist_model, exp_fg_prob_model):\n",
    "    \n",
    "    YRDSTOGO_CAP = 10  # Model restriction\n",
    "    PUNT_LIM = 29      # Model restriction\n",
    "    FG_LIM = 63        # Model restriction\n",
    "    FG_OFFSET = 8      # Field goal placement distance (not including the 10 for the endzone)\n",
    "    FG_FAIL_RESET = 0  # Where the ball is placed after a failed field goal.  If 0, at the spot.  \n",
    "                       # Otherwise, at the spot or at the reset spot, whichever is better.\n",
    "    \n",
    "    def decision_maker(yrdline100, ydstogo, print_message=False):\n",
    "        if yrdline100 < 10:\n",
    "            region = 'Inside10'\n",
    "        elif yrdline100 < 20:\n",
    "            region = '10to20'\n",
    "        else:\n",
    "            region = 'Beyond20'\n",
    "            \n",
    "        # 1. Expected value of going for it\n",
    "        \n",
    "        # Value of failing (approximately turning over at same spot)\n",
    "        conv_fail_yrdline100 = 100 - yrdline100\n",
    "        conv_fail_epv = -epv_model[conv_fail_yrdline100] \n",
    "        \n",
    "        # Value of converting (approximately at the first down marker)\n",
    "        if yrdline100 == ydstogo:\n",
    "            conv_succ_epv = 6 - ekv\n",
    "        else:\n",
    "            first_down_yrdline100 = yrdline100 - ydstogo\n",
    "            conv_succ_epv = epv_model[first_down_yrdline100] -1\n",
    "\n",
    "        # Conversion Pct\n",
    "        exp_conv_pct = exp_conv_pct_model[(region, ydstogo)] if ydstogo < YRDSTOGO_CAP else None\n",
    "        \n",
    "        # Overall expected value of going for it\n",
    "        go_ev = exp_conv_pct * conv_succ_epv + (1 - exp_conv_pct) * conv_fail_epv\n",
    "        \n",
    "        # 2. Expected value of punting\n",
    "        \n",
    "        # Expected next yardline\n",
    "        if yrdline100 >= PUNT_LIM:\n",
    "            exp_net_punt_dist = exp_net_punt_dist_model[yrdline100]\n",
    "            exp_yrdline100 = 100 - yrdline100 + int(exp_net_punt_dist)\n",
    "            \n",
    "            # Overall expected value of punting\n",
    "            punt_ev = -epv_model[exp_yrdline100]\n",
    "        else:\n",
    "            punt_ev = None\n",
    "            \n",
    "        # 3. Expected value of kicking a field goal\n",
    "        fg_dist =  yrdline100 + 10 + FG_OFFSET\n",
    "        if fg_dist <= FG_LIM:\n",
    "            # Probability of success\n",
    "            exp_fg_prob = exp_fg_prob_model[fg_dist ]\n",
    "\n",
    "            # Expected value of field success\n",
    "            fg_succ_epv = 3 - ekv\n",
    "\n",
    "            # EPV of field goal fail\n",
    "            fg_fail_yrdline100 = 100 - yrdline100 - FG_OFFSET\n",
    "            fg_fail_epv = -epv_model[fg_fail_yrdline100]\n",
    "\n",
    "            # Overall expected value kicking\n",
    "            fg_ev = fg_succ_epv * exp_fg_prob + fg_fail_epv * (1 - exp_fg_prob)\n",
    "        else:\n",
    "            fg_ev = None\n",
    "    \n",
    "        choices = [('go for it', go_ev), ('punt', punt_ev), ('kick', fg_ev)]\n",
    "        max_val = -100\n",
    "        for choice, ev in choices:\n",
    "            if ev is None:\n",
    "                continue\n",
    "            if ev > max_val:\n",
    "                max_val = ev\n",
    "                decision = choice\n",
    "    \n",
    "        if print_message:\n",
    "            print(\"Expected Values\")\n",
    "            print(\"Go for it: {:.2f}\".format(go_ev))\n",
    "            if punt_ev is not None:\n",
    "                print(\"Punt: {:.2f}\".format(punt_ev))\n",
    "            else:\n",
    "                print(\"Punt: TOO CLOSE TO PUNT\")\n",
    "            if fg_ev is not None:\n",
    "                print(\"FG: {:.2f}\".format(fg_ev))\n",
    "            else:\n",
    "                print(\"FG: TOO FAR TO KICK\")        \n",
    "\n",
    "            print()\n",
    "            print(\"Coach, you should:\")\n",
    "            print(decision.upper())\n",
    "\n",
    "        return decision\n",
    "    \n",
    "    return decision_maker\n",
    "\n",
    "# Build the decision maker\n",
    "decision_maker = build_decision_maker(\n",
    "    ekv, epv_model, exp_conv_pct_model, exp_net_punt_dist_model, exp_fg_prob_model)"
   ]
  },
  {
   "cell_type": "code",
   "execution_count": null,
   "metadata": {
    "collapsed": true
   },
   "outputs": [],
   "source": [
    "# A test\n",
    "decision_maker(80, 9, print_message=True);"
   ]
  },
  {
   "cell_type": "markdown",
   "metadata": {},
   "source": [
    "### Compute Decisions"
   ]
  },
  {
   "cell_type": "code",
   "execution_count": null,
   "metadata": {
    "collapsed": true
   },
   "outputs": [],
   "source": [
    "# Determine the decisions for each combination on the field\n",
    "\n",
    "yrdlines = list(range(1, 100))\n",
    "down_dist = list(range(1, 10))\n",
    "\n",
    "decisions = []\n",
    "for yrdstogo in down_dist:\n",
    "    tmp = []\n",
    "    for yrdline in yrdlines:\n",
    "        if (yrdline >= yrdstogo) and (100 - yrdline + yrdstogo >= 10): # Exclude impossible scenarios\n",
    "            decision = decision_maker(yrdline, yrdstogo)\n",
    "            tmp.append(decision)\n",
    "        else:\n",
    "            tmp.append(None)\n",
    "    decisions.append(tmp)\n",
    "# Convert to a table\n",
    "pd.DataFrame(decisions, columns=yrdlines, index=down_dist)"
   ]
  }
 ],
 "metadata": {
  "anaconda-cloud": {},
  "kernelspec": {
   "display_name": "Python 3",
   "language": "python",
   "name": "python3"
  },
  "language_info": {
   "codemirror_mode": {
    "name": "ipython",
    "version": 3
   },
   "file_extension": ".py",
   "mimetype": "text/x-python",
   "name": "python",
   "nbconvert_exporter": "python",
   "pygments_lexer": "ipython3",
   "version": "3.6.1"
  }
 },
 "nbformat": 4,
 "nbformat_minor": 2
}
