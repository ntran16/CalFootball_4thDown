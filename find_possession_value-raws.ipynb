{
 "cells": [
  {
   "cell_type": "code",
   "execution_count": 2,
   "metadata": {
    "collapsed": true
   },
   "outputs": [],
   "source": [
    "import pandas as pd\n",
    "import matplotlib.pyplot as plt\n",
    "import statsmodels.formula.api as smf\n",
    "import numpy as np\n",
    "import glob"
   ]
  },
  {
   "cell_type": "code",
   "execution_count": 3,
   "metadata": {
    "collapsed": true
   },
   "outputs": [],
   "source": [
    "temp = []\n",
    "data = []\n",
    "subpxp = []\n",
    "for year in range(2008,2018):    \n",
    "    path ='/Users/ericherrmann/GitHub/CalFootball_4thDown/NCAA-Football-Data/' + str(year) + 'PXP' # use your path\n",
    "    allFiles = glob.glob(path + \"/*.csv\")\n",
    "    frame = pd.DataFrame()\n",
    "    list_ = []\n",
    "    cols = ['gameId', 'driveIndex', 'year', 'week', 'clock', 'quarter', 'down', 'yardLine', 'distance', 'yardsGained',\n",
    "            'offenseTeam', 'defenseTeam', 'description', 'type',\n",
    "            'homeScore', 'awayScore', 'homeTeam', 'awayTeam']\n",
    "    for file_ in allFiles:\n",
    "        df = pd.read_csv(file_,index_col=None, header=0, usecols=cols)\n",
    "        list_.append(df)\n",
    "        subpxp = pd.concat(list_, ignore_index=True)\n",
    "    temp.append(subpxp)\n",
    "    data= pd.concat(temp, ignore_index=True)"
   ]
  },
  {
   "cell_type": "code",
   "execution_count": 4,
   "metadata": {},
   "outputs": [
    {
     "ename": "ModuleNotFoundError",
     "evalue": "No module named 'cal_football'",
     "output_type": "error",
     "traceback": [
      "\u001b[0;31m---------------------------------------------------------------------------\u001b[0m",
      "\u001b[0;31mModuleNotFoundError\u001b[0m                       Traceback (most recent call last)",
      "\u001b[0;32m<ipython-input-4-73b4583c53c5>\u001b[0m in \u001b[0;36m<module>\u001b[0;34m()\u001b[0m\n\u001b[0;32m----> 1\u001b[0;31m \u001b[0;32mimport\u001b[0m \u001b[0mcal_football\u001b[0m \u001b[0;32mas\u001b[0m \u001b[0mcf\u001b[0m\u001b[0;34m\u001b[0m\u001b[0m\n\u001b[0m\u001b[1;32m      2\u001b[0m \u001b[0mpxp\u001b[0m \u001b[0;34m=\u001b[0m \u001b[0mcf\u001b[0m\u001b[0;34m.\u001b[0m\u001b[0mextract_data\u001b[0m\u001b[0;34m(\u001b[0m\u001b[0mdata\u001b[0m\u001b[0;34m)\u001b[0m\u001b[0;34m\u001b[0m\u001b[0m\n\u001b[1;32m      3\u001b[0m \u001b[0mbadyard\u001b[0m \u001b[0;34m=\u001b[0m \u001b[0;34m~\u001b[0m\u001b[0;34m(\u001b[0m\u001b[0;34m(\u001b[0m\u001b[0mpxp\u001b[0m\u001b[0;34m[\u001b[0m\u001b[0;34m'yrdline100'\u001b[0m\u001b[0;34m]\u001b[0m\u001b[0;34m>=\u001b[0m\u001b[0;36m100\u001b[0m\u001b[0;34m)\u001b[0m\u001b[0;34m|\u001b[0m\u001b[0;34m(\u001b[0m\u001b[0mpxp\u001b[0m\u001b[0;34m[\u001b[0m\u001b[0;34m'yrdline100'\u001b[0m\u001b[0;34m]\u001b[0m\u001b[0;34m<=\u001b[0m\u001b[0;36m0\u001b[0m\u001b[0;34m)\u001b[0m\u001b[0;34m)\u001b[0m\u001b[0;34m\u001b[0m\u001b[0m\n\u001b[1;32m      4\u001b[0m \u001b[0;31m# possession_values = cf.get_possession_value(ko_and_pos)\u001b[0m\u001b[0;34m\u001b[0m\u001b[0;34m\u001b[0m\u001b[0m\n",
      "\u001b[0;31mModuleNotFoundError\u001b[0m: No module named 'cal_football'"
     ]
    }
   ],
   "source": [
    "import cal_football as cf\n",
    "pxp = cf.extract_data(data)\n",
    "badyard = ~((pxp['yrdline100']>=100)|(pxp['yrdline100']<=0))\n",
    "# possession_values = cf.get_possession_value(ko_and_pos)"
   ]
  },
  {
   "cell_type": "code",
   "execution_count": null,
   "metadata": {
    "collapsed": true
   },
   "outputs": [],
   "source": [
    "ko_and_poss = cf.extract_kickoffs_and_possessions(pxp)\n",
    "fgs = cf.extract_field_goals(pxp)\n",
    "third_downs = cf.extract_third_downs(pxp)\n",
    "punts = cf.extract_punts(pxp)\n",
    "\n",
    "ekv,epv_model = cf.epv_model(ko_and_poss)\n",
    "exp_conv_pct_model = cf.exp_conv_pct_model(third_downs)\n",
    "exp_net_punt_dist_model = cf.exp_net_punt_dist_model(punts)\n",
    "exp_fg_prob_model = cf.exp_fg_prob_model(fgs)"
   ]
  },
  {
   "cell_type": "code",
   "execution_count": null,
   "metadata": {
    "collapsed": true
   },
   "outputs": [],
   "source": [
    "epv_model.to_pickle(\"./epv_model.pkl\")\n",
    "exp_conv_pct_model.to_pickle(\"./exp_conv_pct_model.pkl\")\n",
    "exp_net_punt_dist_model.to_pickle(\"./exp_net_punt_dist_model.pkl\")\n",
    "exp_fg_prob_model.to_pickle(\"./exp_fg_prob_model.pkl\")"
   ]
  },
  {
   "cell_type": "code",
   "execution_count": null,
   "metadata": {
    "collapsed": true
   },
   "outputs": [],
   "source": [
    "def build_decision_maker(ekv, epv_model, exp_conv_pct_model, \n",
    "                         exp_net_punt_dist_model, exp_fg_prob_model):\n",
    "    \n",
    "    YRDSTOGO_CAP = 10  # Model restriction\n",
    "    PUNT_LIM = 29      # Model restriction\n",
    "    FG_LIM = 63        # Model restriction\n",
    "    FG_OFFSET = 8      # Field goal placement distance (not including the 10 for the endzone)\n",
    "    FG_FAIL_RESET = 0  # Where the ball is placed after a failed field goal.  If 0, at the spot.  \n",
    "                       # Otherwise, at the spot or at the reset spot, whichever is better.\n",
    "    \n",
    "    def decision_maker(yrdline100, ydstogo, print_message=False):\n",
    "        if yrdline100 < 10:\n",
    "            region = 'Inside10'\n",
    "        elif yrdline100 < 20:\n",
    "            region = '10to20'\n",
    "        else:\n",
    "            region = 'Beyond20'\n",
    "            \n",
    "        # 1. Expected value of going for it\n",
    "        \n",
    "        # Value of failing (approximately turning over at same spot)\n",
    "        conv_fail_yrdline100 = 100 - yrdline100\n",
    "        conv_fail_epv = -epv_model[conv_fail_yrdline100] \n",
    "        \n",
    "        # Value of converting (approximately at the first down marker)\n",
    "        if yrdline100 == ydstogo:\n",
    "            conv_succ_epv = 6 - ekv\n",
    "        else:\n",
    "            first_down_yrdline100 = yrdline100 - ydstogo\n",
    "            conv_succ_epv = epv_model[first_down_yrdline100] -1\n",
    "\n",
    "        # Conversion Pct\n",
    "        exp_conv_pct = exp_conv_pct_model[(region, ydstogo)] if ydstogo < YRDSTOGO_CAP else None\n",
    "        \n",
    "        # Overall expected value of going for it\n",
    "        go_ev = exp_conv_pct * conv_succ_epv + (1 - exp_conv_pct) * conv_fail_epv\n",
    "        \n",
    "        # 2. Expected value of punting\n",
    "        \n",
    "        # Expected next yardline\n",
    "        if yrdline100 >= PUNT_LIM:\n",
    "            exp_net_punt_dist = exp_net_punt_dist_model[yrdline100]\n",
    "            exp_yrdline100 = 100 - yrdline100 + int(exp_net_punt_dist)\n",
    "            \n",
    "            # Overall expected value of punting\n",
    "            punt_ev = -epv_model[exp_yrdline100]\n",
    "        else:\n",
    "            punt_ev = None\n",
    "            \n",
    "        # 3. Expected value of kicking a field goal\n",
    "        fg_dist =  yrdline100 + 10 + FG_OFFSET\n",
    "        if fg_dist <= FG_LIM:\n",
    "            # Probability of success\n",
    "            exp_fg_prob = exp_fg_prob_model[fg_dist ]\n",
    "\n",
    "            # Expected value of field success\n",
    "            fg_succ_epv = 3 - ekv\n",
    "\n",
    "            # EPV of field goal fail\n",
    "            fg_fail_yrdline100 = 100 - yrdline100 - FG_OFFSET\n",
    "            fg_fail_epv = -epv_model[fg_fail_yrdline100]\n",
    "\n",
    "            # Overall expected value kicking\n",
    "            fg_ev = fg_succ_epv * exp_fg_prob + fg_fail_epv * (1 - exp_fg_prob)\n",
    "        else:\n",
    "            fg_ev = None\n",
    "    \n",
    "        choices = [('go for it', go_ev), ('punt', punt_ev), ('kick', fg_ev)]\n",
    "        max_val = -100\n",
    "        for choice, ev in choices:\n",
    "            if ev is None:\n",
    "                continue\n",
    "            if ev > max_val:\n",
    "                max_val = ev\n",
    "                decision = choice\n",
    "    \n",
    "        if print_message:\n",
    "            #print(\"Expected Values at {:.2f}\".format(yrdline100) + \" yard line and dist to go {:.2f}\".format(ydstogo))\n",
    "            #print(\"Go for it: {:.2f}\".format(go_ev))\n",
    "            out = \" {:.2f}\".format(yrdline100) + \",\"\n",
    "            out += \" {:.2f}\".format(go_ev) + \",\"\n",
    "            if punt_ev is not None:\n",
    "                #print(\"Punt: {:.2f}\".format(punt_ev))\n",
    "                out += \" {:.2f}\".format(punt_ev) + \",\"\n",
    "            else:\n",
    "                #print(\"Punt: TOO CLOSE TO PUNT\")\n",
    "                out += \" !punt\" + \",\"\n",
    "            if fg_ev is not None:\n",
    "                #print(\"FG: {:.2f}\".format(fg_ev))\n",
    "                out += \" {:.2f}\".format(fg_ev) + \",\"\n",
    "            else:\n",
    "                #print(\"FG: TOO FAR TO KICK\")\n",
    "                out += \" !kick\" + \",\"\n",
    "            print(out)\n",
    "            \n",
    "\n",
    "        return decision\n",
    "    \n",
    "    return decision_maker\n",
    "\n",
    "# Build the decision maker\n",
    "decision_maker = build_decision_maker(\n",
    "    ekv, epv_model, exp_conv_pct_model, exp_net_punt_dist_model, exp_fg_prob_model)"
   ]
  },
  {
   "cell_type": "code",
   "execution_count": null,
   "metadata": {},
   "outputs": [],
   "source": [
    "#test\n",
    "dist = 4 #user input here\n",
    "rg_max = 91 + dist\n",
    "rg_min = 0 + dist\n",
    "for x in range(rg_min, rg_max):\n",
    "    decision_maker(x, dist, print_message=True)"
   ]
  }
 ],
 "metadata": {
  "kernelspec": {
   "display_name": "Python 3",
   "language": "python",
   "name": "python3"
  }
 },
 "nbformat": 4,
 "nbformat_minor": 2
}
